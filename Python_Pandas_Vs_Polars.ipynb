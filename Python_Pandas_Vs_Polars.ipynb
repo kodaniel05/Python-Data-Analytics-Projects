{
 "cells": [
  {
   "cell_type": "markdown",
   "id": "a1228853-dd19-4ab2-89e0-0394d7d72de3",
   "metadata": {},
   "source": [
    "## Learning Objectives\n",
    "\n",
    "compare CSV loading performance between Pandas and Polars\n",
    "\n",
    "measure and contrast filtering + aggregation speed on flight delay data\n",
    "\n",
    "evaluate join/merge efficiency across large datasets (flights + airports)\n",
    "\n",
    "practice benchmarking common operations (mean, filtering, joins) with timing utilities\n",
    "\n",
    "develop awareness of trade-offs between Pandas (compatibility) and Polars (speed) in real-world data workflows"
   ]
  },
  {
   "cell_type": "markdown",
   "id": "6180e742-8e39-4698-98ff-5b00c8cf8ea0",
   "metadata": {},
   "source": [
    "## Question 1"
   ]
  },
  {
   "cell_type": "code",
   "execution_count": 2,
   "id": "49445606-d363-41b4-b479-e319a9a84c01",
   "metadata": {},
   "outputs": [
    {
     "name": "stdout",
     "output_type": "stream",
     "text": [
      "My program took 0.6889636516571045 to run\n"
     ]
    }
   ],
   "source": [
    "import polars as pl\n",
    "import time\n",
    "start_time = time.time()\n",
    "myDF = pl.read_csv(\"/anvil/projects/tdm/data/flights/subset/2002.csv\", null_values=\"NA\")\n",
    "print(\"My program took\", time.time() - start_time, \"to run\")"
   ]
  },
  {
   "cell_type": "code",
   "execution_count": 4,
   "id": "744cf2ba-17ea-48ea-a529-88501454e593",
   "metadata": {},
   "outputs": [
    {
     "name": "stdout",
     "output_type": "stream",
     "text": [
      "My program took 5.482293367385864 to run\n"
     ]
    }
   ],
   "source": [
    "import pandas as pd\n",
    "import time\n",
    "start_time = time.time()\n",
    "myDF = pd.read_csv(\"/anvil/projects/tdm/data/flights/subset/2002.csv\")\n",
    "print(\"My program took\", time.time() - start_time, \"to run\")"
   ]
  },
  {
   "cell_type": "markdown",
   "id": "b456e57c-4a12-464b-999a-ef2df5af80c1",
   "metadata": {},
   "source": [
    "I ran both twice and Pandas took about 4.793 seconds longer"
   ]
  },
  {
   "cell_type": "markdown",
   "id": "fc601975-35ed-4680-a4e1-0273ee3cc047",
   "metadata": {},
   "source": [
    "## Question 2"
   ]
  },
  {
   "cell_type": "code",
   "execution_count": 8,
   "id": "a16336a1-1ef0-41e8-bc7c-49387db27497",
   "metadata": {},
   "outputs": [
    {
     "name": "stdout",
     "output_type": "stream",
     "text": [
      "My program took 0.02305126190185547 to run\n",
      "The average delay for Indianapolis flights was 3.9418510691198407\n"
     ]
    }
   ],
   "source": [
    "import polars as pl\n",
    "# read in the 2002 flight data to a Polars data frame again\n",
    "myDF = pl.read_csv(\"/anvil/projects/tdm/data/flights/subset/2002.csv\", null_values=\"NA\")\n",
    "\n",
    "import time\n",
    "start_time = time.time()\n",
    "myresults = myDF.filter(pl.col(\"Origin\") == \"IND\")['DepDelay'].mean()\n",
    "print(\"My program took\", time.time() - start_time, \"to run\")\n",
    "print(\"The average delay for Indianapolis flights was \" + str(myresults))"
   ]
  },
  {
   "cell_type": "code",
   "execution_count": 9,
   "id": "8718e71d-c9c9-4f6c-9b7a-1ffdc794b4bd",
   "metadata": {},
   "outputs": [
    {
     "name": "stdout",
     "output_type": "stream",
     "text": [
      "My program took 0.30306196212768555 to run\n",
      "The average delay for Indianapolis flights was 3.9418510691198407\n"
     ]
    }
   ],
   "source": [
    "import pandas as pd\n",
    "# read in the 2002 flight data to a Pandas data frame again\n",
    "myDF = pd.read_csv(\"/anvil/projects/tdm/data/flights/subset/2002.csv\")\n",
    "\n",
    "import time\n",
    "start_time = time.time()\n",
    "myresults = myDF[myDF['Origin'] == \"IND\"]['DepDelay'].mean()\n",
    "print(\"My program took\", time.time() - start_time, \"to run\")\n",
    "print(\"The average delay for Indianapolis flights was \" + str(myresults))"
   ]
  },
  {
   "cell_type": "markdown",
   "id": "14dc22d4-ddc3-41cc-a91a-cb0025bc0c80",
   "metadata": {},
   "source": [
    "If we divide panas time over polars so 0.02305126190185547/0.30306196212768555 = 5.01 therefore showing that polars is 5 times faster than pandas "
   ]
  },
  {
   "cell_type": "markdown",
   "id": "8e586edd-ff26-4ce2-8f6b-2424b26f2929",
   "metadata": {},
   "source": [
    "## Question 3"
   ]
  },
  {
   "cell_type": "code",
   "execution_count": 11,
   "id": "bbe0f40d-9655-4653-9ca8-886bdb61cb91",
   "metadata": {},
   "outputs": [
    {
     "name": "stdout",
     "output_type": "stream",
     "text": [
      "My program took 0.3490889072418213 to run\n",
      "The average delay for all flights with Origin at any California airports was 5.245392521079324\n"
     ]
    }
   ],
   "source": [
    "import polars as pl\n",
    "# read in the 2002 flight data to a Polars data frame again, but only 3 columns this time:\n",
    "myDF = pl.read_csv(\"/anvil/projects/tdm/data/flights/subset/2002.csv\", null_values=\"NA\").select([\"Origin\", \"Dest\", \"DepDelay\"])\n",
    "\n",
    "# also read in the airports data to a Polars data frame as follows:\n",
    "myairports = pl.read_csv(\"/anvil/projects/tdm/data/flights/subset/airports.csv\")\n",
    "\n",
    "import time\n",
    "start_time = time.time()\n",
    "newDF = myDF.join(myairports, left_on=\"Origin\", right_on=\"iata\")\n",
    "myresults = newDF.filter(pl.col(\"state\") == \"CA\")['DepDelay'].mean()\n",
    "print(\"My program took\", time.time() - start_time, \"to run\")\n",
    "print(\"The average delay for all flights with Origin at any California airports was \" + str(myresults))"
   ]
  },
  {
   "cell_type": "code",
   "execution_count": 12,
   "id": "27ec9f20-34ea-4122-b56d-b59cbc4cd9d6",
   "metadata": {},
   "outputs": [
    {
     "name": "stdout",
     "output_type": "stream",
     "text": [
      "My program took 1.1394693851470947 to run\n",
      "The average delay for Indianapolis flights was 5.245392521079324\n"
     ]
    }
   ],
   "source": [
    "import pandas as pd\n",
    "# read in the 2002 flight data to a Pandas data frame again, but only 3 columns this time:\n",
    "myDF = pd.read_csv(\"/anvil/projects/tdm/data/flights/subset/2002.csv\", usecols=[\"Origin\", \"Dest\", \"DepDelay\"])\n",
    "\n",
    "# also read in the airports data to a Pandas data frame as follows:\n",
    "myairports = pd.read_csv(\"/anvil/projects/tdm/data/flights/subset/airports.csv\")\n",
    "\n",
    "import time\n",
    "start_time = time.time()\n",
    "newDF = myDF.merge(myairports, left_on='Origin', right_on='iata')\n",
    "myresults = newDF[newDF['state'] == \"CA\"]['DepDelay'].mean()\n",
    "print(\"My program took\", time.time() - start_time, \"to run\")\n",
    "print(\"The average delay for Indianapolis flights was \" + str(myresults))"
   ]
  },
  {
   "cell_type": "markdown",
   "id": "47c6229f-35f7-400c-8366-c442baa5cf47",
   "metadata": {},
   "source": [
    "If we divide panas time over polars so 1.1394693851470947/0.3490889072418213 = 3.26 therefore Polars is around 3.3 times faster than Pandas for merging the data"
   ]
  },
  {
   "cell_type": "markdown",
   "id": "da22f29c-d245-4d2b-9fc1-ca14cb6087d9",
   "metadata": {},
   "source": [
    "## Question 4"
   ]
  },
  {
   "cell_type": "code",
   "execution_count": 14,
   "id": "8cffc767-d1c8-4d64-b7dc-f0d2ee8a80d1",
   "metadata": {},
   "outputs": [
    {
     "data": {
      "text/html": [
       "<div>\n",
       "<style scoped>\n",
       "    .dataframe tbody tr th:only-of-type {\n",
       "        vertical-align: middle;\n",
       "    }\n",
       "\n",
       "    .dataframe tbody tr th {\n",
       "        vertical-align: top;\n",
       "    }\n",
       "\n",
       "    .dataframe thead th {\n",
       "        text-align: right;\n",
       "    }\n",
       "</style>\n",
       "<table border=\"1\" class=\"dataframe\">\n",
       "  <thead>\n",
       "    <tr style=\"text-align: right;\">\n",
       "      <th></th>\n",
       "      <th>iata</th>\n",
       "      <th>airport</th>\n",
       "      <th>city</th>\n",
       "      <th>state</th>\n",
       "      <th>country</th>\n",
       "      <th>lat</th>\n",
       "      <th>long</th>\n",
       "    </tr>\n",
       "  </thead>\n",
       "  <tbody>\n",
       "    <tr>\n",
       "      <th>0</th>\n",
       "      <td>00M</td>\n",
       "      <td>Thigpen</td>\n",
       "      <td>Bay Springs</td>\n",
       "      <td>MS</td>\n",
       "      <td>USA</td>\n",
       "      <td>31.953765</td>\n",
       "      <td>-89.234505</td>\n",
       "    </tr>\n",
       "    <tr>\n",
       "      <th>1</th>\n",
       "      <td>00R</td>\n",
       "      <td>Livingston Municipal</td>\n",
       "      <td>Livingston</td>\n",
       "      <td>TX</td>\n",
       "      <td>USA</td>\n",
       "      <td>30.685861</td>\n",
       "      <td>-95.017928</td>\n",
       "    </tr>\n",
       "    <tr>\n",
       "      <th>2</th>\n",
       "      <td>00V</td>\n",
       "      <td>Meadow Lake</td>\n",
       "      <td>Colorado Springs</td>\n",
       "      <td>CO</td>\n",
       "      <td>USA</td>\n",
       "      <td>38.945749</td>\n",
       "      <td>-104.569893</td>\n",
       "    </tr>\n",
       "    <tr>\n",
       "      <th>3</th>\n",
       "      <td>01G</td>\n",
       "      <td>Perry-Warsaw</td>\n",
       "      <td>Perry</td>\n",
       "      <td>NY</td>\n",
       "      <td>USA</td>\n",
       "      <td>42.741347</td>\n",
       "      <td>-78.052081</td>\n",
       "    </tr>\n",
       "    <tr>\n",
       "      <th>4</th>\n",
       "      <td>01J</td>\n",
       "      <td>Hilliard Airpark</td>\n",
       "      <td>Hilliard</td>\n",
       "      <td>FL</td>\n",
       "      <td>USA</td>\n",
       "      <td>30.688012</td>\n",
       "      <td>-81.905944</td>\n",
       "    </tr>\n",
       "  </tbody>\n",
       "</table>\n",
       "</div>"
      ],
      "text/plain": [
       "  iata               airport              city state country        lat  \\\n",
       "0  00M              Thigpen        Bay Springs    MS     USA  31.953765   \n",
       "1  00R  Livingston Municipal        Livingston    TX     USA  30.685861   \n",
       "2  00V           Meadow Lake  Colorado Springs    CO     USA  38.945749   \n",
       "3  01G          Perry-Warsaw             Perry    NY     USA  42.741347   \n",
       "4  01J      Hilliard Airpark          Hilliard    FL     USA  30.688012   \n",
       "\n",
       "         long  \n",
       "0  -89.234505  \n",
       "1  -95.017928  \n",
       "2 -104.569893  \n",
       "3  -78.052081  \n",
       "4  -81.905944  "
      ]
     },
     "execution_count": 14,
     "metadata": {},
     "output_type": "execute_result"
    }
   ],
   "source": [
    "myairports.head()"
   ]
  },
  {
   "cell_type": "code",
   "execution_count": 16,
   "id": "3c837c9c-f2ac-458c-bffe-ab51fd247f4c",
   "metadata": {},
   "outputs": [
    {
     "data": {
      "text/html": [
       "<div>\n",
       "<style scoped>\n",
       "    .dataframe tbody tr th:only-of-type {\n",
       "        vertical-align: middle;\n",
       "    }\n",
       "\n",
       "    .dataframe tbody tr th {\n",
       "        vertical-align: top;\n",
       "    }\n",
       "\n",
       "    .dataframe thead th {\n",
       "        text-align: right;\n",
       "    }\n",
       "</style>\n",
       "<table border=\"1\" class=\"dataframe\">\n",
       "  <thead>\n",
       "    <tr style=\"text-align: right;\">\n",
       "      <th></th>\n",
       "      <th>DepDelay</th>\n",
       "      <th>Origin</th>\n",
       "      <th>Dest</th>\n",
       "    </tr>\n",
       "  </thead>\n",
       "  <tbody>\n",
       "    <tr>\n",
       "      <th>0</th>\n",
       "      <td>-4.0</td>\n",
       "      <td>PIT</td>\n",
       "      <td>CLT</td>\n",
       "    </tr>\n",
       "    <tr>\n",
       "      <th>1</th>\n",
       "      <td>-5.0</td>\n",
       "      <td>PIT</td>\n",
       "      <td>CLT</td>\n",
       "    </tr>\n",
       "    <tr>\n",
       "      <th>2</th>\n",
       "      <td>-5.0</td>\n",
       "      <td>PIT</td>\n",
       "      <td>CLT</td>\n",
       "    </tr>\n",
       "    <tr>\n",
       "      <th>3</th>\n",
       "      <td>-5.0</td>\n",
       "      <td>PIT</td>\n",
       "      <td>CLT</td>\n",
       "    </tr>\n",
       "    <tr>\n",
       "      <th>4</th>\n",
       "      <td>-8.0</td>\n",
       "      <td>PIT</td>\n",
       "      <td>CLT</td>\n",
       "    </tr>\n",
       "  </tbody>\n",
       "</table>\n",
       "</div>"
      ],
      "text/plain": [
       "   DepDelay Origin Dest\n",
       "0      -4.0    PIT  CLT\n",
       "1      -5.0    PIT  CLT\n",
       "2      -5.0    PIT  CLT\n",
       "3      -5.0    PIT  CLT\n",
       "4      -8.0    PIT  CLT"
      ]
     },
     "execution_count": 16,
     "metadata": {},
     "output_type": "execute_result"
    }
   ],
   "source": [
    "myDF.head()"
   ]
  },
  {
   "cell_type": "code",
   "execution_count": 37,
   "id": "c97a96dd-b962-408f-8b7b-b93f3041560e",
   "metadata": {},
   "outputs": [
    {
     "name": "stdout",
     "output_type": "stream",
     "text": [
      "Polars program took 0.0665743350982666 to run\n"
     ]
    },
    {
     "name": "stderr",
     "output_type": "stream",
     "text": [
      "/tmp/ipykernel_345847/1572502581.py:9: DeprecationWarning: `groupby` is deprecated. It has been renamed to `group_by`.\n",
      "  origin_counts = df.groupby(\"Origin\").count()\n"
     ]
    }
   ],
   "source": [
    "import polars as pl\n",
    "import time\n",
    "\n",
    "# Load the flight data\n",
    "df = pl.read_csv(\"/anvil/projects/tdm/data/flights/subset/2002.csv\", null_values=\"NA\")\n",
    "# Start timing the value count operation\n",
    "start_time = time.time()\n",
    "# Count how many times each Origin appears\n",
    "origin_counts = df.groupby(\"Origin\").count()\n",
    "print(\"Polars program took\", time.time() - start_time, \"to run\")"
   ]
  },
  {
   "cell_type": "code",
   "execution_count": 38,
   "id": "c44cbe60-7416-4da7-b79b-f2fcd7328e86",
   "metadata": {},
   "outputs": [
    {
     "name": "stdout",
     "output_type": "stream",
     "text": [
      "Pandas program took 0.25765061378479004 to run\n"
     ]
    }
   ],
   "source": [
    "import pandas as pd\n",
    "import time\n",
    "\n",
    "# Load the flight data\n",
    "df = pd.read_csv(\"/anvil/projects/tdm/data/flights/subset/2002.csv\")\n",
    "# Start timing the value count operation\n",
    "start_time = time.time()\n",
    "# Count how many times each Origin appears again\n",
    "origin_counts = df['Origin'].value_counts()\n",
    "print(\"Pandas program took\", time.time() - start_time, \"to run\")"
   ]
  },
  {
   "cell_type": "markdown",
   "id": "0d552245-b4d6-474a-9cc9-fa7b8e674d55",
   "metadata": {},
   "source": [
    "0.0665743350982666/0.25765061378479004 shows that polars is 3.9 times faster than pandas "
   ]
  },
  {
   "cell_type": "markdown",
   "id": "88c9cdac-3e92-498f-83fa-e089bfc44ac8",
   "metadata": {},
   "source": [
    "## Question 5"
   ]
  },
  {
   "cell_type": "code",
   "execution_count": 29,
   "id": "d370d7c9-06db-42b9-b75f-240481a5c491",
   "metadata": {},
   "outputs": [
    {
     "name": "stdout",
     "output_type": "stream",
     "text": [
      "Polars program took 0.0664510726928711 to run\n"
     ]
    }
   ],
   "source": [
    "import polars as pl\n",
    "import time\n",
    "#Loads the dataset using Pandas \n",
    "df = pl.read_csv(\"/anvil/projects/tdm/data/flights/subset/2002.csv\", null_values=\"NA\")\n",
    "#This starts the timmer \n",
    "start_time = time.time()\n",
    "# Filter rows with DepDelay greater than 60 and sort by DepDelay\n",
    "filtered = df.filter(pl.col(\"DepDelay\") > 60).sort(\"DepDelay\")\n",
    "print(\"Polars program took\", time.time() - start_time, \"to run\")"
   ]
  },
  {
   "cell_type": "code",
   "execution_count": 30,
   "id": "2916f1b6-7866-48a5-8460-0587db39f69b",
   "metadata": {},
   "outputs": [
    {
     "name": "stdout",
     "output_type": "stream",
     "text": [
      "Pandas program took 0.10351085662841797 to run\n"
     ]
    }
   ],
   "source": [
    "import pandas as pd\n",
    "import time\n",
    "#Loads the dataset using Pandas \n",
    "df = pd.read_csv(\"/anvil/projects/tdm/data/flights/subset/2002.csv\")\n",
    "#This starts the timmer \n",
    "start_time = time.time()\n",
    "#Same as top\n",
    "filtered = df[df[\"DepDelay\"] > 60].sort_values(\"DepDelay\")\n",
    "print(\"Pandas program took\", time.time() - start_time, \"to run\")"
   ]
  },
  {
   "cell_type": "markdown",
   "id": "9fbf00fb-2418-460f-ae94-2a32b0c28952",
   "metadata": {},
   "source": [
    "If we divide pandas time over polars 0.10351085662841797/0.0664510726928711 it polars is about 1.55 times faster."
   ]
  }
 ],
 "metadata": {
  "kernelspec": {
   "display_name": "seminar",
   "language": "python",
   "name": "python3"
  },
  "language_info": {
   "codemirror_mode": {
    "name": "ipython",
    "version": 3
   },
   "file_extension": ".py",
   "mimetype": "text/x-python",
   "name": "python",
   "nbconvert_exporter": "python",
   "pygments_lexer": "ipython3",
   "version": "3.11.5"
  }
 },
 "nbformat": 4,
 "nbformat_minor": 5
}
