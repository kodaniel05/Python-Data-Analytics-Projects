{
 "cells": [
  {
   "cell_type": "markdown",
   "id": "a1228853-dd19-4ab2-89e0-0394d7d72de3",
   "metadata": {},
   "source": [
    "## Learning objectives\n",
    "\n",
    "explore data sets using .head(), .shape, .dtypes, .info(), and .describe()\n",
    "\n",
    "apply value_counts() and groupby() to analyze data distributions and compare methodologies\n",
    "\n",
    "detect and count null values using .isnull() and .sum()\n",
    "\n",
    "clean data by dropping rows with nulls using .dropna()\n",
    "\n",
    "combine columns into new features (e.g., latitude + longitude → location)\n",
    "\n",
    "group data by new columns and compute averages with .groupby()\n",
    "\n",
    "encapsulate cleaning and transformation logic into reusable functions\n",
    "\n",
    "apply the same data cleaning and grouping pipeline to multiple variables (temperature, wind_gust_speed_mph)"
   ]
  },
  {
   "cell_type": "code",
   "execution_count": 1,
   "id": "aa6f3045-6070-4e08-9554-157921ac15c2",
   "metadata": {},
   "outputs": [],
   "source": [
    "import pandas as pd"
   ]
  },
  {
   "cell_type": "code",
   "execution_count": 2,
   "id": "b5d1a008-ce84-4ddf-9a39-ca351740a845",
   "metadata": {},
   "outputs": [],
   "source": [
    "myDF = pd.read_csv(f'/anvil/projects/tdm/data/whin/weather.csv')"
   ]
  },
  {
   "cell_type": "code",
   "execution_count": 3,
   "id": "b6353430-ca12-4673-a8c2-88c79aca4535",
   "metadata": {},
   "outputs": [
    {
     "data": {
      "text/html": [
       "<div>\n",
       "<style scoped>\n",
       "    .dataframe tbody tr th:only-of-type {\n",
       "        vertical-align: middle;\n",
       "    }\n",
       "\n",
       "    .dataframe tbody tr th {\n",
       "        vertical-align: top;\n",
       "    }\n",
       "\n",
       "    .dataframe thead th {\n",
       "        text-align: right;\n",
       "    }\n",
       "</style>\n",
       "<table border=\"1\" class=\"dataframe\">\n",
       "  <thead>\n",
       "    <tr style=\"text-align: right;\">\n",
       "      <th></th>\n",
       "      <th>station_id</th>\n",
       "      <th>latitude</th>\n",
       "      <th>longitude</th>\n",
       "      <th>name</th>\n",
       "      <th>observation_time</th>\n",
       "      <th>temperature</th>\n",
       "      <th>temperature_high</th>\n",
       "      <th>temperature_low</th>\n",
       "      <th>humidity</th>\n",
       "      <th>solar_radiation</th>\n",
       "      <th>...</th>\n",
       "      <th>wind_gust_direction_degrees</th>\n",
       "      <th>pressure</th>\n",
       "      <th>soil_temp_1</th>\n",
       "      <th>soil_temp_2</th>\n",
       "      <th>soil_temp_3</th>\n",
       "      <th>soil_temp_4</th>\n",
       "      <th>soil_moist_1</th>\n",
       "      <th>soil_moist_2</th>\n",
       "      <th>soil_moist_3</th>\n",
       "      <th>soil_moist_4</th>\n",
       "    </tr>\n",
       "  </thead>\n",
       "  <tbody>\n",
       "    <tr>\n",
       "      <th>0</th>\n",
       "      <td>1</td>\n",
       "      <td>40.93894</td>\n",
       "      <td>-86.47418</td>\n",
       "      <td>WHIN001-PULA001</td>\n",
       "      <td>2019-07-10T04:00:00Z</td>\n",
       "      <td>70.0</td>\n",
       "      <td>71.0</td>\n",
       "      <td>70.0</td>\n",
       "      <td>83.0</td>\n",
       "      <td>NaN</td>\n",
       "      <td>...</td>\n",
       "      <td>247.5</td>\n",
       "      <td>30.05</td>\n",
       "      <td>77.0</td>\n",
       "      <td>78.0</td>\n",
       "      <td>76.0</td>\n",
       "      <td>74.0</td>\n",
       "      <td>24.0</td>\n",
       "      <td>24.0</td>\n",
       "      <td>10.0</td>\n",
       "      <td>9.0</td>\n",
       "    </tr>\n",
       "    <tr>\n",
       "      <th>1</th>\n",
       "      <td>1</td>\n",
       "      <td>40.93894</td>\n",
       "      <td>-86.47418</td>\n",
       "      <td>WHIN001-PULA001</td>\n",
       "      <td>2019-07-10T04:15:00Z</td>\n",
       "      <td>69.0</td>\n",
       "      <td>70.0</td>\n",
       "      <td>69.0</td>\n",
       "      <td>84.0</td>\n",
       "      <td>NaN</td>\n",
       "      <td>...</td>\n",
       "      <td>247.5</td>\n",
       "      <td>30.04</td>\n",
       "      <td>76.0</td>\n",
       "      <td>78.0</td>\n",
       "      <td>76.0</td>\n",
       "      <td>74.0</td>\n",
       "      <td>24.0</td>\n",
       "      <td>25.0</td>\n",
       "      <td>10.0</td>\n",
       "      <td>9.0</td>\n",
       "    </tr>\n",
       "    <tr>\n",
       "      <th>2</th>\n",
       "      <td>1</td>\n",
       "      <td>40.93894</td>\n",
       "      <td>-86.47418</td>\n",
       "      <td>WHIN001-PULA001</td>\n",
       "      <td>2019-07-11T04:00:00Z</td>\n",
       "      <td>76.0</td>\n",
       "      <td>77.0</td>\n",
       "      <td>76.0</td>\n",
       "      <td>76.0</td>\n",
       "      <td>NaN</td>\n",
       "      <td>...</td>\n",
       "      <td>202.5</td>\n",
       "      <td>29.89</td>\n",
       "      <td>80.0</td>\n",
       "      <td>80.0</td>\n",
       "      <td>78.0</td>\n",
       "      <td>75.0</td>\n",
       "      <td>31.0</td>\n",
       "      <td>30.0</td>\n",
       "      <td>12.0</td>\n",
       "      <td>10.0</td>\n",
       "    </tr>\n",
       "    <tr>\n",
       "      <th>3</th>\n",
       "      <td>1</td>\n",
       "      <td>40.93894</td>\n",
       "      <td>-86.47418</td>\n",
       "      <td>WHIN001-PULA001</td>\n",
       "      <td>2019-07-11T04:15:00Z</td>\n",
       "      <td>76.0</td>\n",
       "      <td>76.0</td>\n",
       "      <td>76.0</td>\n",
       "      <td>77.0</td>\n",
       "      <td>NaN</td>\n",
       "      <td>...</td>\n",
       "      <td>202.5</td>\n",
       "      <td>29.88</td>\n",
       "      <td>80.0</td>\n",
       "      <td>80.0</td>\n",
       "      <td>78.0</td>\n",
       "      <td>75.0</td>\n",
       "      <td>31.0</td>\n",
       "      <td>31.0</td>\n",
       "      <td>12.0</td>\n",
       "      <td>10.0</td>\n",
       "    </tr>\n",
       "    <tr>\n",
       "      <th>4</th>\n",
       "      <td>1</td>\n",
       "      <td>40.93894</td>\n",
       "      <td>-86.47418</td>\n",
       "      <td>WHIN001-PULA001</td>\n",
       "      <td>2019-07-11T04:30:00Z</td>\n",
       "      <td>76.0</td>\n",
       "      <td>76.0</td>\n",
       "      <td>76.0</td>\n",
       "      <td>77.0</td>\n",
       "      <td>NaN</td>\n",
       "      <td>...</td>\n",
       "      <td>202.5</td>\n",
       "      <td>29.88</td>\n",
       "      <td>80.0</td>\n",
       "      <td>80.0</td>\n",
       "      <td>78.0</td>\n",
       "      <td>75.0</td>\n",
       "      <td>32.0</td>\n",
       "      <td>31.0</td>\n",
       "      <td>12.0</td>\n",
       "      <td>10.0</td>\n",
       "    </tr>\n",
       "  </tbody>\n",
       "</table>\n",
       "<p>5 rows × 26 columns</p>\n",
       "</div>"
      ],
      "text/plain": [
       "   station_id  latitude  longitude             name      observation_time  \\\n",
       "0           1  40.93894  -86.47418  WHIN001-PULA001  2019-07-10T04:00:00Z   \n",
       "1           1  40.93894  -86.47418  WHIN001-PULA001  2019-07-10T04:15:00Z   \n",
       "2           1  40.93894  -86.47418  WHIN001-PULA001  2019-07-11T04:00:00Z   \n",
       "3           1  40.93894  -86.47418  WHIN001-PULA001  2019-07-11T04:15:00Z   \n",
       "4           1  40.93894  -86.47418  WHIN001-PULA001  2019-07-11T04:30:00Z   \n",
       "\n",
       "   temperature  temperature_high  temperature_low  humidity  solar_radiation  \\\n",
       "0         70.0              71.0             70.0      83.0              NaN   \n",
       "1         69.0              70.0             69.0      84.0              NaN   \n",
       "2         76.0              77.0             76.0      76.0              NaN   \n",
       "3         76.0              76.0             76.0      77.0              NaN   \n",
       "4         76.0              76.0             76.0      77.0              NaN   \n",
       "\n",
       "   ...  wind_gust_direction_degrees  pressure  soil_temp_1  soil_temp_2  \\\n",
       "0  ...                        247.5     30.05         77.0         78.0   \n",
       "1  ...                        247.5     30.04         76.0         78.0   \n",
       "2  ...                        202.5     29.89         80.0         80.0   \n",
       "3  ...                        202.5     29.88         80.0         80.0   \n",
       "4  ...                        202.5     29.88         80.0         80.0   \n",
       "\n",
       "   soil_temp_3  soil_temp_4  soil_moist_1  soil_moist_2  soil_moist_3  \\\n",
       "0         76.0         74.0          24.0          24.0          10.0   \n",
       "1         76.0         74.0          24.0          25.0          10.0   \n",
       "2         78.0         75.0          31.0          30.0          12.0   \n",
       "3         78.0         75.0          31.0          31.0          12.0   \n",
       "4         78.0         75.0          32.0          31.0          12.0   \n",
       "\n",
       "   soil_moist_4  \n",
       "0           9.0  \n",
       "1           9.0  \n",
       "2          10.0  \n",
       "3          10.0  \n",
       "4          10.0  \n",
       "\n",
       "[5 rows x 26 columns]"
      ]
     },
     "execution_count": 3,
     "metadata": {},
     "output_type": "execute_result"
    }
   ],
   "source": [
    "myDF.head()"
   ]
  },
  {
   "cell_type": "markdown",
   "id": "6180e742-8e39-4698-98ff-5b00c8cf8ea0",
   "metadata": {},
   "source": [
    "## Question 1"
   ]
  },
  {
   "cell_type": "code",
   "execution_count": 4,
   "id": "49445606-d363-41b4-b479-e319a9a84c01",
   "metadata": {},
   "outputs": [
    {
     "data": {
      "text/plain": [
       "station_id\n",
       "1      71631\n",
       "20     56917\n",
       "147    45600\n",
       "143    45593\n",
       "146    45579\n",
       "145    45509\n",
       "144    45495\n",
       "142    45395\n",
       "149    44060\n",
       "159    43563\n",
       "153    43559\n",
       "157    43534\n",
       "155    42993\n",
       "160    42810\n",
       "156    42807\n",
       "151    42806\n",
       "164    38791\n",
       "163    37908\n",
       "166    30242\n",
       "167    27463\n",
       "168    18581\n",
       "169    14905\n",
       "172    14812\n",
       "179    14772\n",
       "176    14402\n",
       "173    13648\n",
       "175    13314\n",
       "171    13311\n",
       "Name: count, dtype: int64"
      ]
     },
     "execution_count": 4,
     "metadata": {},
     "output_type": "execute_result"
    }
   ],
   "source": [
    "# Part a\n",
    "myDF['station_id'].value_counts()"
   ]
  },
  {
   "cell_type": "code",
   "execution_count": 5,
   "id": "c400e710-0447-4e76-b351-87bab5674fc9",
   "metadata": {},
   "outputs": [
    {
     "data": {
      "text/plain": [
       "station_id\n",
       "1      71631\n",
       "20     56917\n",
       "142    45395\n",
       "143    45593\n",
       "144    45495\n",
       "145    45509\n",
       "146    45579\n",
       "147    45600\n",
       "149    44060\n",
       "151    42806\n",
       "153    43559\n",
       "155    42993\n",
       "156    42807\n",
       "157    43534\n",
       "159    43563\n",
       "160    42810\n",
       "163    37908\n",
       "164    38791\n",
       "166    30242\n",
       "167    27463\n",
       "168    18581\n",
       "169    14905\n",
       "171    13311\n",
       "172    14812\n",
       "173    13648\n",
       "175    13314\n",
       "176    14402\n",
       "179    14772\n",
       "dtype: int64"
      ]
     },
     "execution_count": 5,
     "metadata": {},
     "output_type": "execute_result"
    }
   ],
   "source": [
    "#Part b\n",
    "myDF.groupby('station_id').size()"
   ]
  },
  {
   "cell_type": "markdown",
   "id": "b456e57c-4a12-464b-999a-ef2df5af80c1",
   "metadata": {},
   "source": [
    "Part c\n",
    "For Part a, we only have to really one method to get the values however with part b while it asks to use groupby() in order to get the values, you cannot simply just do that but also have to add size which will then pull the values. On top of that the staton_id was placed in different () or [] depending on what method I used. I perfer the first method because to me it has less steps so therefore faster and easier to remeber then doing groupby and then .size "
   ]
  },
  {
   "cell_type": "markdown",
   "id": "fc601975-35ed-4680-a4e1-0273ee3cc047",
   "metadata": {},
   "source": [
    "## Question 2"
   ]
  },
  {
   "cell_type": "code",
   "execution_count": 6,
   "id": "a16336a1-1ef0-41e8-bc7c-49387db27497",
   "metadata": {},
   "outputs": [
    {
     "data": {
      "text/plain": [
       "<bound method DataFrame.sum of         station_id  latitude  longitude   name  observation_time  temperature  \\\n",
       "0            False     False      False  False             False        False   \n",
       "1            False     False      False  False             False        False   \n",
       "2            False     False      False  False             False        False   \n",
       "3            False     False      False  False             False        False   \n",
       "4            False     False      False  False             False        False   \n",
       "...            ...       ...        ...    ...               ...          ...   \n",
       "999995       False     False      False  False             False        False   \n",
       "999996       False     False      False  False             False        False   \n",
       "999997       False     False      False  False             False        False   \n",
       "999998       False     False      False  False             False        False   \n",
       "999999       False     False      False  False             False        False   \n",
       "\n",
       "        temperature_high  temperature_low  humidity  solar_radiation  ...  \\\n",
       "0                  False            False     False             True  ...   \n",
       "1                  False            False     False             True  ...   \n",
       "2                  False            False     False             True  ...   \n",
       "3                  False            False     False             True  ...   \n",
       "4                  False            False     False             True  ...   \n",
       "...                  ...              ...       ...              ...  ...   \n",
       "999995             False            False     False            False  ...   \n",
       "999996             False            False     False            False  ...   \n",
       "999997             False            False     False            False  ...   \n",
       "999998             False            False     False            False  ...   \n",
       "999999             False            False     False            False  ...   \n",
       "\n",
       "        wind_gust_direction_degrees  pressure  soil_temp_1  soil_temp_2  \\\n",
       "0                             False     False        False        False   \n",
       "1                             False     False        False        False   \n",
       "2                             False     False        False        False   \n",
       "3                             False     False        False        False   \n",
       "4                             False     False        False        False   \n",
       "...                             ...       ...          ...          ...   \n",
       "999995                         True     False         True         True   \n",
       "999996                        False     False         True         True   \n",
       "999997                        False     False         True         True   \n",
       "999998                        False     False         True         True   \n",
       "999999                        False     False         True         True   \n",
       "\n",
       "        soil_temp_3  soil_temp_4  soil_moist_1  soil_moist_2  soil_moist_3  \\\n",
       "0             False        False         False         False         False   \n",
       "1             False        False         False         False         False   \n",
       "2             False        False         False         False         False   \n",
       "3             False        False         False         False         False   \n",
       "4             False        False         False         False         False   \n",
       "...             ...          ...           ...           ...           ...   \n",
       "999995         True         True          True          True          True   \n",
       "999996         True         True          True          True          True   \n",
       "999997         True         True          True          True          True   \n",
       "999998         True         True          True          True          True   \n",
       "999999         True         True          True          True          True   \n",
       "\n",
       "        soil_moist_4  \n",
       "0              False  \n",
       "1              False  \n",
       "2              False  \n",
       "3              False  \n",
       "4              False  \n",
       "...              ...  \n",
       "999995          True  \n",
       "999996          True  \n",
       "999997          True  \n",
       "999998          True  \n",
       "999999          True  \n",
       "\n",
       "[1000000 rows x 26 columns]>"
      ]
     },
     "execution_count": 6,
     "metadata": {},
     "output_type": "execute_result"
    }
   ],
   "source": [
    "myDF.isnull().sum"
   ]
  },
  {
   "cell_type": "code",
   "execution_count": 7,
   "id": "c75b5398-e632-453b-bc32-46ea49f502a9",
   "metadata": {},
   "outputs": [
    {
     "data": {
      "text/plain": [
       "<bound method Series.dropna of station_id                          0\n",
       "latitude                            0\n",
       "longitude                           0\n",
       "name                                0\n",
       "observation_time                    0\n",
       "temperature                      4176\n",
       "temperature_high                 4123\n",
       "temperature_low                  4123\n",
       "humidity                         4162\n",
       "solar_radiation                 48104\n",
       "solar_radiation_high            12828\n",
       "rain                                0\n",
       "rain_inches_last_hour               0\n",
       "wind_speed_mph                   4032\n",
       "wind_direction_degrees          95545\n",
       "wind_gust_speed_mph                 0\n",
       "wind_gust_direction_degrees     94216\n",
       "pressure                            0\n",
       "soil_temp_1                    114043\n",
       "soil_temp_2                    114041\n",
       "soil_temp_3                    114037\n",
       "soil_temp_4                    114036\n",
       "soil_moist_1                   114124\n",
       "soil_moist_2                   114170\n",
       "soil_moist_3                   114174\n",
       "soil_moist_4                   114150\n",
       "dtype: int64>"
      ]
     },
     "execution_count": 7,
     "metadata": {},
     "output_type": "execute_result"
    }
   ],
   "source": [
    "myDF.isnull().sum().dropna"
   ]
  },
  {
   "cell_type": "code",
   "execution_count": 8,
   "id": "09c7b3f6-44e6-4204-9310-8920ec421c6a",
   "metadata": {},
   "outputs": [],
   "source": [
    "myDF_cleaned = myDF.dropna()"
   ]
  },
  {
   "cell_type": "code",
   "execution_count": null,
   "id": "dcb0a88b-ccbe-4b1e-b9c4-ce50e2afd33b",
   "metadata": {},
   "outputs": [],
   "source": [
    "myDF_cleaned.isnull().sum().sum()"
   ]
  },
  {
   "cell_type": "markdown",
   "id": "14dc22d4-ddc3-41cc-a91a-cb0025bc0c80",
   "metadata": {},
   "source": [
    "Markdown notes and sentences and analysis written here."
   ]
  },
  {
   "cell_type": "markdown",
   "id": "8e586edd-ff26-4ce2-8f6b-2424b26f2929",
   "metadata": {},
   "source": [
    "## Question 3"
   ]
  },
  {
   "cell_type": "code",
   "execution_count": null,
   "id": "bbe0f40d-9655-4653-9ca8-886bdb61cb91",
   "metadata": {},
   "outputs": [],
   "source": [
    "# Part a\n",
    "myDF_New = myDF.dropna(subset=['temperature'])"
   ]
  },
  {
   "cell_type": "code",
   "execution_count": null,
   "id": "8389507a-a910-43e9-a534-a03766805187",
   "metadata": {},
   "outputs": [],
   "source": [
    "myDF_New['location'] = myDF_New['latitude'].astype(str) + '_' + myDF_New['longitude'].astype(str)"
   ]
  },
  {
   "cell_type": "code",
   "execution_count": null,
   "id": "e57860f7-edc3-4bbb-bc58-d61162aef783",
   "metadata": {},
   "outputs": [],
   "source": [
    "#Part c \n",
    "average_temperatures = myDF_New.groupby('location')['temperature'].mean()"
   ]
  },
  {
   "cell_type": "markdown",
   "id": "47c6229f-35f7-400c-8366-c442baa5cf47",
   "metadata": {},
   "source": [
    "Markdown notes and sentences and analysis written here."
   ]
  },
  {
   "cell_type": "markdown",
   "id": "da22f29c-d245-4d2b-9fc1-ca14cb6087d9",
   "metadata": {},
   "source": [
    "## Question 4"
   ]
  },
  {
   "cell_type": "code",
   "execution_count": null,
   "id": "8cffc767-d1c8-4d64-b7dc-f0d2ee8a80d1",
   "metadata": {},
   "outputs": [],
   "source": [
    "# Part a\n",
    "def calculate_average_wind_gust_speed() -> pd.DataFrame:\n",
    "\n",
    "myDF_New = df.dropna(subset=['temperature'])\n",
    "myDF_New['location'] = myDF_New['latitude'].astype(str) + '_' + myDF_New['longitude'].astype(str)\n",
    "average_temperatures = myDF_New.groupby('location')['temperature'].mean()\n",
    "\n",
    "return average_temperatures\n"
   ]
  },
  {
   "cell_type": "code",
   "execution_count": null,
   "id": "15135d7e-0225-4384-a2b6-0489a3dd54b3",
   "metadata": {},
   "outputs": [],
   "source": [
    "average_temperatures"
   ]
  },
  {
   "cell_type": "markdown",
   "id": "0d552245-b4d6-474a-9cc9-fa7b8e674d55",
   "metadata": {},
   "source": [
    "Markdown notes and sentences and analysis written here."
   ]
  },
  {
   "cell_type": "markdown",
   "id": "88c9cdac-3e92-498f-83fa-e089bfc44ac8",
   "metadata": {},
   "source": [
    "## Question 5"
   ]
  },
  {
   "cell_type": "code",
   "execution_count": null,
   "id": "d370d7c9-06db-42b9-b75f-240481a5c491",
   "metadata": {},
   "outputs": [],
   "source": [
    "# Part a \n",
    "def calculate_average_wind_gust_speed() -> pd.DataFrame:\n",
    "myDF_New = df.dropna(subset=['wind_gust_speed_mph'])\n",
    "myDF_New['location'] = myDF_New['latitude'].astype(str) + '_' + myDF_New['longitude'].astype(str)\n",
    "average_wind = myDF_New.groupby('location')['wind_gust_speed_mph'].mean()\n",
    "    \n",
    "return average_wind"
   ]
  },
  {
   "cell_type": "code",
   "execution_count": null,
   "id": "66c55f16-933e-4ced-bb86-433fdce51c17",
   "metadata": {},
   "outputs": [],
   "source": [
    " average_wind"
   ]
  },
  {
   "cell_type": "markdown",
   "id": "9fbf00fb-2418-460f-ae94-2a32b0c28952",
   "metadata": {},
   "source": [
    "Markdown notes and sentences and analysis written here."
   ]
  }
 ],
 "metadata": {
  "kernelspec": {
   "display_name": "seminar",
   "language": "python",
   "name": "seminar"
  },
  "language_info": {
   "codemirror_mode": {
    "name": "ipython",
    "version": 3
   },
   "file_extension": ".py",
   "mimetype": "text/x-python",
   "name": "python",
   "nbconvert_exporter": "python",
   "pygments_lexer": "ipython3",
   "version": "3.11.5"
  }
 },
 "nbformat": 4,
 "nbformat_minor": 5
}
