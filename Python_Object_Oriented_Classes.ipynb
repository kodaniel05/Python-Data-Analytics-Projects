{
 "cells": [
  {
   "cell_type": "markdown",
   "id": "a1228853-dd19-4ab2-89e0-0394d7d72de3",
   "metadata": {},
   "source": [
    "## learning objectives\n",
    "\n",
    "understand the fundamentals of Python classes and objects\n",
    "\n",
    "create base classes and extend them using subclasses\n",
    "\n",
    "implement methods such as is_ontime() and is_delayed() to analyze real-world data\n",
    "\n",
    "read and process CSV data with pandas, including selecting specific columns and defining data types\n",
    "\n",
    "instantiate Python class objects from a pandas DataFrame\n",
    "\n",
    "use dictionaries and loops to aggregate class-based results\n",
    "\n",
    "design and apply user-defined subclasses to extract meaningful insights from flight data"
   ]
  },
  {
   "cell_type": "markdown",
   "id": "6180e742-8e39-4698-98ff-5b00c8cf8ea0",
   "metadata": {},
   "source": [
    "## Question 1"
   ]
  },
  {
   "cell_type": "code",
   "execution_count": 244,
   "id": "54ff6c8e-1d2f-426f-811b-ec008939ca10",
   "metadata": {},
   "outputs": [
    {
     "data": {
      "text/html": [
       "<div>\n",
       "<style scoped>\n",
       "    .dataframe tbody tr th:only-of-type {\n",
       "        vertical-align: middle;\n",
       "    }\n",
       "\n",
       "    .dataframe tbody tr th {\n",
       "        vertical-align: top;\n",
       "    }\n",
       "\n",
       "    .dataframe thead th {\n",
       "        text-align: right;\n",
       "    }\n",
       "</style>\n",
       "<table border=\"1\" class=\"dataframe\">\n",
       "  <thead>\n",
       "    <tr style=\"text-align: right;\">\n",
       "      <th></th>\n",
       "      <th>Flight_Number_Reporting_Airline</th>\n",
       "      <th>Origin</th>\n",
       "      <th>Dest</th>\n",
       "      <th>CRSDepTime</th>\n",
       "      <th>DepTime</th>\n",
       "      <th>DepDelay</th>\n",
       "      <th>CRSArrTime</th>\n",
       "      <th>ArrTime</th>\n",
       "      <th>ArrDelay</th>\n",
       "      <th>AirTime</th>\n",
       "      <th>Distance</th>\n",
       "      <th>CarrierDelay</th>\n",
       "      <th>WeatherDelay</th>\n",
       "    </tr>\n",
       "  </thead>\n",
       "  <tbody>\n",
       "    <tr>\n",
       "      <th>0</th>\n",
       "      <td>2377</td>\n",
       "      <td>DFW</td>\n",
       "      <td>ICT</td>\n",
       "      <td>940.0</td>\n",
       "      <td>935.0</td>\n",
       "      <td>-5.0</td>\n",
       "      <td>1055.0</td>\n",
       "      <td>1051.0</td>\n",
       "      <td>-4.0</td>\n",
       "      <td>56.0</td>\n",
       "      <td>328.0</td>\n",
       "      <td>NaN</td>\n",
       "      <td>NaN</td>\n",
       "    </tr>\n",
       "    <tr>\n",
       "      <th>1</th>\n",
       "      <td>2377</td>\n",
       "      <td>DFW</td>\n",
       "      <td>ICT</td>\n",
       "      <td>940.0</td>\n",
       "      <td>951.0</td>\n",
       "      <td>11.0</td>\n",
       "      <td>1055.0</td>\n",
       "      <td>1115.0</td>\n",
       "      <td>20.0</td>\n",
       "      <td>54.0</td>\n",
       "      <td>328.0</td>\n",
       "      <td>11.0</td>\n",
       "      <td>0.0</td>\n",
       "    </tr>\n",
       "    <tr>\n",
       "      <th>2</th>\n",
       "      <td>2377</td>\n",
       "      <td>ICT</td>\n",
       "      <td>DFW</td>\n",
       "      <td>1135.0</td>\n",
       "      <td>1144.0</td>\n",
       "      <td>9.0</td>\n",
       "      <td>1300.0</td>\n",
       "      <td>1302.0</td>\n",
       "      <td>2.0</td>\n",
       "      <td>57.0</td>\n",
       "      <td>328.0</td>\n",
       "      <td>NaN</td>\n",
       "      <td>NaN</td>\n",
       "    </tr>\n",
       "    <tr>\n",
       "      <th>3</th>\n",
       "      <td>2377</td>\n",
       "      <td>ICT</td>\n",
       "      <td>DFW</td>\n",
       "      <td>1135.0</td>\n",
       "      <td>1134.0</td>\n",
       "      <td>-1.0</td>\n",
       "      <td>1300.0</td>\n",
       "      <td>1253.0</td>\n",
       "      <td>-7.0</td>\n",
       "      <td>53.0</td>\n",
       "      <td>328.0</td>\n",
       "      <td>NaN</td>\n",
       "      <td>NaN</td>\n",
       "    </tr>\n",
       "    <tr>\n",
       "      <th>4</th>\n",
       "      <td>2377</td>\n",
       "      <td>ICT</td>\n",
       "      <td>DFW</td>\n",
       "      <td>1135.0</td>\n",
       "      <td>1129.0</td>\n",
       "      <td>-6.0</td>\n",
       "      <td>1300.0</td>\n",
       "      <td>1244.0</td>\n",
       "      <td>-16.0</td>\n",
       "      <td>52.0</td>\n",
       "      <td>328.0</td>\n",
       "      <td>NaN</td>\n",
       "      <td>NaN</td>\n",
       "    </tr>\n",
       "    <tr>\n",
       "      <th>...</th>\n",
       "      <td>...</td>\n",
       "      <td>...</td>\n",
       "      <td>...</td>\n",
       "      <td>...</td>\n",
       "      <td>...</td>\n",
       "      <td>...</td>\n",
       "      <td>...</td>\n",
       "      <td>...</td>\n",
       "      <td>...</td>\n",
       "      <td>...</td>\n",
       "      <td>...</td>\n",
       "      <td>...</td>\n",
       "      <td>...</td>\n",
       "    </tr>\n",
       "    <tr>\n",
       "      <th>95</th>\n",
       "      <td>898</td>\n",
       "      <td>HNL</td>\n",
       "      <td>BLI</td>\n",
       "      <td>2355.0</td>\n",
       "      <td>2353.0</td>\n",
       "      <td>-2.0</td>\n",
       "      <td>750.0</td>\n",
       "      <td>732.0</td>\n",
       "      <td>-18.0</td>\n",
       "      <td>318.0</td>\n",
       "      <td>2715.0</td>\n",
       "      <td>NaN</td>\n",
       "      <td>NaN</td>\n",
       "    </tr>\n",
       "    <tr>\n",
       "      <th>96</th>\n",
       "      <td>1</td>\n",
       "      <td>DCA</td>\n",
       "      <td>SEA</td>\n",
       "      <td>745.0</td>\n",
       "      <td>743.0</td>\n",
       "      <td>-2.0</td>\n",
       "      <td>1055.0</td>\n",
       "      <td>1040.0</td>\n",
       "      <td>-15.0</td>\n",
       "      <td>325.0</td>\n",
       "      <td>2329.0</td>\n",
       "      <td>NaN</td>\n",
       "      <td>NaN</td>\n",
       "    </tr>\n",
       "    <tr>\n",
       "      <th>97</th>\n",
       "      <td>2</td>\n",
       "      <td>SEA</td>\n",
       "      <td>DCA</td>\n",
       "      <td>1410.0</td>\n",
       "      <td>1410.0</td>\n",
       "      <td>0.0</td>\n",
       "      <td>2153.0</td>\n",
       "      <td>2132.0</td>\n",
       "      <td>-21.0</td>\n",
       "      <td>249.0</td>\n",
       "      <td>2329.0</td>\n",
       "      <td>NaN</td>\n",
       "      <td>NaN</td>\n",
       "    </tr>\n",
       "    <tr>\n",
       "      <th>98</th>\n",
       "      <td>3</td>\n",
       "      <td>DCA</td>\n",
       "      <td>SEA</td>\n",
       "      <td>1840.0</td>\n",
       "      <td>1827.0</td>\n",
       "      <td>-13.0</td>\n",
       "      <td>2200.0</td>\n",
       "      <td>2130.0</td>\n",
       "      <td>-30.0</td>\n",
       "      <td>346.0</td>\n",
       "      <td>2329.0</td>\n",
       "      <td>NaN</td>\n",
       "      <td>NaN</td>\n",
       "    </tr>\n",
       "    <tr>\n",
       "      <th>99</th>\n",
       "      <td>4</td>\n",
       "      <td>SEA</td>\n",
       "      <td>DCA</td>\n",
       "      <td>810.0</td>\n",
       "      <td>806.0</td>\n",
       "      <td>-4.0</td>\n",
       "      <td>1600.0</td>\n",
       "      <td>1537.0</td>\n",
       "      <td>-23.0</td>\n",
       "      <td>255.0</td>\n",
       "      <td>2329.0</td>\n",
       "      <td>NaN</td>\n",
       "      <td>NaN</td>\n",
       "    </tr>\n",
       "  </tbody>\n",
       "</table>\n",
       "<p>100 rows × 13 columns</p>\n",
       "</div>"
      ],
      "text/plain": [
       "    Flight_Number_Reporting_Airline Origin Dest  CRSDepTime  DepTime  \\\n",
       "0                              2377    DFW  ICT       940.0    935.0   \n",
       "1                              2377    DFW  ICT       940.0    951.0   \n",
       "2                              2377    ICT  DFW      1135.0   1144.0   \n",
       "3                              2377    ICT  DFW      1135.0   1134.0   \n",
       "4                              2377    ICT  DFW      1135.0   1129.0   \n",
       "..                              ...    ...  ...         ...      ...   \n",
       "95                              898    HNL  BLI      2355.0   2353.0   \n",
       "96                                1    DCA  SEA       745.0    743.0   \n",
       "97                                2    SEA  DCA      1410.0   1410.0   \n",
       "98                                3    DCA  SEA      1840.0   1827.0   \n",
       "99                                4    SEA  DCA       810.0    806.0   \n",
       "\n",
       "    DepDelay  CRSArrTime  ArrTime  ArrDelay  AirTime  Distance  CarrierDelay  \\\n",
       "0       -5.0      1055.0   1051.0      -4.0     56.0     328.0           NaN   \n",
       "1       11.0      1055.0   1115.0      20.0     54.0     328.0          11.0   \n",
       "2        9.0      1300.0   1302.0       2.0     57.0     328.0           NaN   \n",
       "3       -1.0      1300.0   1253.0      -7.0     53.0     328.0           NaN   \n",
       "4       -6.0      1300.0   1244.0     -16.0     52.0     328.0           NaN   \n",
       "..       ...         ...      ...       ...      ...       ...           ...   \n",
       "95      -2.0       750.0    732.0     -18.0    318.0    2715.0           NaN   \n",
       "96      -2.0      1055.0   1040.0     -15.0    325.0    2329.0           NaN   \n",
       "97       0.0      2153.0   2132.0     -21.0    249.0    2329.0           NaN   \n",
       "98     -13.0      2200.0   2130.0     -30.0    346.0    2329.0           NaN   \n",
       "99      -4.0      1600.0   1537.0     -23.0    255.0    2329.0           NaN   \n",
       "\n",
       "    WeatherDelay  \n",
       "0            NaN  \n",
       "1            0.0  \n",
       "2            NaN  \n",
       "3            NaN  \n",
       "4            NaN  \n",
       "..           ...  \n",
       "95           NaN  \n",
       "96           NaN  \n",
       "97           NaN  \n",
       "98           NaN  \n",
       "99           NaN  \n",
       "\n",
       "[100 rows x 13 columns]"
      ]
     },
     "execution_count": 244,
     "metadata": {},
     "output_type": "execute_result"
    }
   ],
   "source": [
    "myDF"
   ]
  },
  {
   "cell_type": "code",
   "execution_count": 245,
   "id": "49445606-d363-41b4-b479-e319a9a84c01",
   "metadata": {},
   "outputs": [],
   "source": [
    "# Part a and b\n",
    "class Flight:\n",
    "    def __init__(self, flight_number, origin_airport_ID, destination_airport_ID, departure_time, arrival_time, departure_delay, arrival_delay, is_fixed = False):\n",
    "        self.flight_number = flight_number\n",
    "        self.origin_airport_ID = origin_airport_ID\n",
    "        self.destination_airport_ID = destination_airport_ID\n",
    "        self.departure_time = departure_time\n",
    "        self.arrival_time = arrival_time\n",
    "        self.departure_delay = departure_delay\n",
    "        self.arrival_delay = arrival_delay\n",
    "    \n",
    "\n",
    "        \n",
    "class ScheduledFlight(Flight):\n",
    "    def __init__(self, flight_number, origin_airport_ID, destination_airport_ID, departure_time, arrival_time, departure_delay, arrival_delay, CRSArrTime, CRSDepTime, is_fixed = False):\n",
    "        self.CRSDepTime = CRSDepTime\n",
    "        self.CRSArrTime = CRSArrTime\n",
    "        super().__init__(flight_number, origin_airport_ID, destination_airport_ID, departure_time, arrival_time, departure_delay, arrival_delay)\n",
    "    def is_ontime(self):\n",
    "        return self.departure_delay <=0 and self.arrival_delay <=0\n",
    "    # Question 4\n",
    "    def is_delayed(self):\n",
    "        return self.departure_delay > 0 or self.arrival_delay > 0\n",
    "    \n",
    "  #Question 5\n",
    "class WeatherFlight(Flight):\n",
    "    def __init__(self, flight_number, origin_airport_ID, destination_airport_ID, departure_time, arrival_time, departure_delay, arrival_delay, weather_delay, distance, is_fixed = False):\n",
    "        self.WeatherDelay = weather_delay\n",
    "        self.Distance = distance\n",
    "        super().__init__(flight_number, origin_airport_ID, destination_airport_ID, departure_time, arrival_time, departure_delay, arrival_delay)\n",
    "    def is_weatherDelay(self):\n",
    "        return self.WeatherDelay <= 0 and self.Distance <= 1000\n",
    "\n",
    "   "
   ]
  },
  {
   "cell_type": "markdown",
   "id": "b456e57c-4a12-464b-999a-ef2df5af80c1",
   "metadata": {},
   "source": [
    "Markdown notes and sentences and analysis written here."
   ]
  },
  {
   "cell_type": "markdown",
   "id": "fc601975-35ed-4680-a4e1-0273ee3cc047",
   "metadata": {},
   "source": [
    "## Question 2"
   ]
  },
  {
   "cell_type": "code",
   "execution_count": 246,
   "id": "f9714fd3-925f-44ec-afd5-5b93ff2a320c",
   "metadata": {},
   "outputs": [],
   "source": [
    "import pandas as pd"
   ]
  },
  {
   "cell_type": "code",
   "execution_count": 247,
   "id": "806a1c60-ac17-40bf-b4fb-471dc6996c9f",
   "metadata": {},
   "outputs": [],
   "source": [
    "columns_to_read = [\n",
    "    'DepDelay', 'ArrDelay', 'Flight_Number_Reporting_Airline', 'Distance',\n",
    "    'CarrierDelay', 'WeatherDelay',\n",
    "    'DepTime', 'ArrTime', 'Origin',\n",
    "    'Dest', 'AirTime', 'CRSDepTime', 'CRSArrTime'\n",
    "]"
   ]
  },
  {
   "cell_type": "code",
   "execution_count": 248,
   "id": "7b8e8388-b6f7-4716-a0e7-8b3c1f51c7a7",
   "metadata": {},
   "outputs": [],
   "source": [
    "col_types = {\n",
    "    'Flight_Number_Reporting_Airline': 'int',\n",
    "    'Origin': 'object',\n",
    "    'Dest': 'object',\n",
    "    'DepTime': 'float64',\n",
    "    'ArrTime': 'float64',\n",
    "    'DepDelay': 'float64',\n",
    "    'ArrDelay': 'float64',\n",
    "    'Distance': 'float64',\n",
    "    'CarrierDelay': 'float64',\n",
    "    'WeatherDelay': 'float64',\n",
    "    'CRSDepTime': 'float64',\n",
    "    'CRSArrTime': 'float64',\n",
    "}"
   ]
  },
  {
   "cell_type": "code",
   "execution_count": 249,
   "id": "01dffb7d-cc6c-43f6-b0c5-728696b3d024",
   "metadata": {},
   "outputs": [],
   "source": [
    "myDF = pd.read_csv(\"/anvil/projects/tdm/data/flights/2014.csv\", usecols = columns_to_read, dtype = col_types, nrows=100)"
   ]
  },
  {
   "cell_type": "code",
   "execution_count": 250,
   "id": "77dca7d0-c647-432b-af8e-55446222e2e6",
   "metadata": {},
   "outputs": [],
   "source": [
    "long_list_off_flights = []\n",
    "for index, row in myDF.iterrows():\n",
    "    myFlights = ScheduledFlight (\n",
    "        flight_number = row['Flight_Number_Reporting_Airline'],\n",
    "        origin_airport_ID = row['Origin'],\n",
    "        destination_airport_ID = row['Dest'],\n",
    "        departure_time = row['DepTime'],\n",
    "        arrival_time = row['ArrTime'],\n",
    "        departure_delay = row['DepDelay'],\n",
    "        arrival_delay = row['ArrDelay'],\n",
    "        CRSDepTime=row['CRSDepTime'],  \n",
    "        CRSArrTime=row['CRSArrTime']\n",
    "    )\n",
    "    long_list_off_flights.append(myFlights)\n"
   ]
  },
  {
   "cell_type": "code",
   "execution_count": 251,
   "id": "79f7180d-89f3-4106-9e11-1355180920a2",
   "metadata": {},
   "outputs": [
    {
     "data": {
      "text/plain": [
       "100"
      ]
     },
     "execution_count": 251,
     "metadata": {},
     "output_type": "execute_result"
    }
   ],
   "source": [
    "#Part b\n",
    "len(long_list_off_flights)"
   ]
  },
  {
   "cell_type": "markdown",
   "id": "14dc22d4-ddc3-41cc-a91a-cb0025bc0c80",
   "metadata": {},
   "source": [
    "Markdown notes and sentences and analysis written here."
   ]
  },
  {
   "cell_type": "markdown",
   "id": "8e586edd-ff26-4ce2-8f6b-2424b26f2929",
   "metadata": {},
   "source": [
    "## Question 3"
   ]
  },
  {
   "cell_type": "code",
   "execution_count": 252,
   "id": "bbe0f40d-9655-4653-9ca8-886bdb61cb91",
   "metadata": {},
   "outputs": [],
   "source": [
    "# Part a\n",
    "ontime_count = {}\n",
    "for myFlights in long_list_off_flights:\n",
    "    if myFlights.destination_airport_ID not in ontime_count:\n",
    "        ontime_count[myFlights.destination_airport_ID] = []\n",
    "    ontime_count[myFlights.destination_airport_ID].append(myFlights.is_ontime())"
   ]
  },
  {
   "cell_type": "code",
   "execution_count": 253,
   "id": "7c655b9c-7b20-4a3e-94f0-abdc6ba5ac62",
   "metadata": {},
   "outputs": [
    {
     "name": "stdout",
     "output_type": "stream",
     "text": [
      "{'ICT': [True, False], 'DFW': [False, True, True, False, False, False, False, False, False, False, True, False, True, False, True, False, False, True, True, False, False, False, True, False, True, True, True, False, False, True, False], 'TPA': [True, False, True, False, False, False, True, False, False, True, False, True, True, True, True, False, False, True, True, True], 'OGG': [True, True, True, True, True, True, True, False], 'SJC': [True, True, True], 'KOA': [True, True, True, True], 'SMF': [True], 'SEA': [True, False, False, True, True, True, True, True, True], 'PDX': [True, True, True], 'OAK': [True, True], 'HNL': [True, True, True, False, True, True, True], 'SAN': [False, True, True], 'ANC': [True, True], 'LIH': [True, True], 'BLI': [True], 'DCA': [True, True]}\n"
     ]
    }
   ],
   "source": [
    "print(ontime_count)"
   ]
  },
  {
   "cell_type": "code",
   "execution_count": 254,
   "id": "8bc67230-91ee-4f4c-a454-02c04cdf568c",
   "metadata": {},
   "outputs": [],
   "source": [
    "# Part b\n",
    "total_flights = 0\n",
    "for ontime in ontime_count.values():\n",
    "    for index in ontime:\n",
    "        if index == True:\n",
    "            total_flights+=1\n"
   ]
  },
  {
   "cell_type": "code",
   "execution_count": 255,
   "id": "7a2be19c-c045-479b-a492-4200e268da78",
   "metadata": {},
   "outputs": [
    {
     "name": "stdout",
     "output_type": "stream",
     "text": [
      "66\n"
     ]
    }
   ],
   "source": [
    "print(total_flights)"
   ]
  },
  {
   "cell_type": "markdown",
   "id": "47c6229f-35f7-400c-8366-c442baa5cf47",
   "metadata": {},
   "source": [
    "Markdown notes and sentences and analysis written here."
   ]
  },
  {
   "cell_type": "markdown",
   "id": "da22f29c-d245-4d2b-9fc1-ca14cb6087d9",
   "metadata": {},
   "source": [
    "## Question 4"
   ]
  },
  {
   "cell_type": "code",
   "execution_count": 256,
   "id": "8cffc767-d1c8-4d64-b7dc-f0d2ee8a80d1",
   "metadata": {},
   "outputs": [],
   "source": [
    "#Part a\n",
    "delayed_count = {}\n",
    "for myFlights in long_list_off_flights:\n",
    "    if myFlights.destination_airport_ID not in delayed_count:\n",
    "        delayed_count[myFlights.destination_airport_ID] = []\n",
    "    delayed_count[myFlights.destination_airport_ID].append(myFlights.is_delayed())"
   ]
  },
  {
   "cell_type": "code",
   "execution_count": 257,
   "id": "8219aa94-7a37-44af-bb9f-092914fb2329",
   "metadata": {},
   "outputs": [],
   "source": [
    "#Part b\n",
    "total_delay_flight = 0\n",
    "for delayed in delayed_count.values():\n",
    "    for index in delayed:\n",
    "        if index == True:\n",
    "            total_delay_flight+=1"
   ]
  },
  {
   "cell_type": "code",
   "execution_count": 258,
   "id": "78b3f128-8d7b-4b80-84b3-32f43865ef9e",
   "metadata": {},
   "outputs": [
    {
     "name": "stdout",
     "output_type": "stream",
     "text": [
      "34\n"
     ]
    }
   ],
   "source": [
    "print(total_delay_flight)"
   ]
  },
  {
   "cell_type": "markdown",
   "id": "0d552245-b4d6-474a-9cc9-fa7b8e674d55",
   "metadata": {},
   "source": [
    "Markdown notes and sentences and analysis written here."
   ]
  },
  {
   "cell_type": "markdown",
   "id": "88c9cdac-3e92-498f-83fa-e089bfc44ac8",
   "metadata": {},
   "source": [
    "## Question 5"
   ]
  },
  {
   "cell_type": "code",
   "execution_count": 262,
   "id": "a731d222-e8ee-467d-801a-282c8b5546e0",
   "metadata": {},
   "outputs": [],
   "source": [
    "weather_flights = []\n",
    "for index, row in myDF.iterrows():\n",
    "    myFlights = WeatherFlight (\n",
    "        flight_number = row['Flight_Number_Reporting_Airline'],\n",
    "        origin_airport_ID = row['Origin'],\n",
    "        destination_airport_ID = row['Dest'],\n",
    "        departure_time = row['DepTime'],\n",
    "        arrival_time = row['ArrTime'],\n",
    "        departure_delay = row['DepDelay'],\n",
    "        arrival_delay = row['ArrDelay'],\n",
    "        weather_delay=row['WeatherDelay'],  \n",
    "        distance=row['Distance']\n",
    "    )\n",
    "    weather_flights.append(myFlights)"
   ]
  },
  {
   "cell_type": "code",
   "execution_count": 214,
   "id": "d370d7c9-06db-42b9-b75f-240481a5c491",
   "metadata": {},
   "outputs": [],
   "source": [
    "# Part a\n",
    "weather_count = {}\n",
    "for myFlights in weather_flights:\n",
    "    if myFlights.destination_airport_ID not in weather_count:\n",
    "        weather_count[myFlights.destination_airport_ID] = []\n",
    "    weather_count[myFlights.destination_airport_ID].append(myFlights.is_weatherDelay())"
   ]
  },
  {
   "cell_type": "code",
   "execution_count": 215,
   "id": "c3dcdbc4-8ea3-4855-aa12-2ec83eda2335",
   "metadata": {},
   "outputs": [],
   "source": [
    "total_weather_flights = 0\n",
    "for weather in weather_count.values():\n",
    "    for index in delayed:\n",
    "        if index == True:\n",
    "            total_weather_flights+=1"
   ]
  }
 ],
 "metadata": {
  "kernelspec": {
   "display_name": "seminar",
   "language": "python",
   "name": "seminar"
  },
  "language_info": {
   "codemirror_mode": {
    "name": "ipython",
    "version": 3
   },
   "file_extension": ".py",
   "mimetype": "text/x-python",
   "name": "python",
   "nbconvert_exporter": "python",
   "pygments_lexer": "ipython3",
   "version": "3.11.5"
  }
 },
 "nbformat": 4,
 "nbformat_minor": 5
}
