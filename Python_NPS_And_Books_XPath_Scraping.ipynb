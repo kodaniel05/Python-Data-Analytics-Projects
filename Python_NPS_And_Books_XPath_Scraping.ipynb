{
 "cells": [
  {
   "cell_type": "markdown",
   "id": "a1228853-dd19-4ab2-89e0-0394d7d72de3",
   "metadata": {},
   "source": [
    "## learning objectives \n",
    "\n",
    "use lxml.html + xpath() to select elements and attributes\n",
    "\n",
    "extract text with .text and attributes via .attrib[...]\n",
    "\n",
    "build pandas DataFrames from scraped lists (names ↔ titles, states ↔ URLs, categories ↔ URLs)\n",
    "\n",
    "locate specific media by attribute matching (e.g., img[@alt=...])\n",
    "\n",
    "reproduce BS4 workflows with lxml-only solutions (no BeautifulSoup)"
   ]
  },
  {
   "cell_type": "markdown",
   "id": "6180e742-8e39-4698-98ff-5b00c8cf8ea0",
   "metadata": {},
   "source": [
    "## Question 1"
   ]
  },
  {
   "cell_type": "code",
   "execution_count": 12,
   "id": "49445606-d363-41b4-b479-e319a9a84c01",
   "metadata": {},
   "outputs": [],
   "source": [
    "import requests\n",
    "from lxml import html\n",
    "import pandas as pd"
   ]
  },
  {
   "cell_type": "code",
   "execution_count": 2,
   "id": "0019a352-a006-4eb0-8e1b-07e6055ac461",
   "metadata": {},
   "outputs": [],
   "source": [
    "myresponse = requests.get(\"https://datamine.purdue.edu/about/about-welcome/\")"
   ]
  },
  {
   "cell_type": "code",
   "execution_count": 8,
   "id": "bfdf4eeb-8134-4a82-b85a-d6e37c0721b4",
   "metadata": {},
   "outputs": [],
   "source": [
    "mytree = html.fromstring(myresponse.content)"
   ]
  },
  {
   "cell_type": "code",
   "execution_count": 30,
   "id": "4330496b-d400-4e78-b1b4-2b0943ee8e96",
   "metadata": {},
   "outputs": [],
   "source": [
    "#I am naming each of these lines. This one pulls staff names from \"names\n",
    "StaffName = [element.text for element in mytree.xpath('//p[@class = \"purdue-home-cta-grid__card-name\"]')]"
   ]
  },
  {
   "cell_type": "code",
   "execution_count": 28,
   "id": "39cb76e0-942d-431c-a3db-03060606acd7",
   "metadata": {},
   "outputs": [],
   "source": [
    "#This pulls from the staff titles by imputting \"titleline\" which is how I find postions\n",
    "StaffPostion = [element.text for element in mytree.xpath('//p[@class = \"purdue-home-cta-grid__card-titleline\"]')]"
   ]
  },
  {
   "cell_type": "code",
   "execution_count": 26,
   "id": "23ef15c4-904f-4060-8eab-42b3bd7dc0bf",
   "metadata": {},
   "outputs": [],
   "source": [
    "#This creates a dataframe and is the same as how I did it in Project 1. The first line names the data set for when I print it and the pd pulls. The next two lines I created the name of each column and added the name of each cell information I put in the lines above.   \n",
    "staffdata = pd.DataFrame({\n",
    "        \"Staff Name\": StaffName,\n",
    "        \"Staff Position\": StaffPostion\n",
    "    })"
   ]
  },
  {
   "cell_type": "code",
   "execution_count": 27,
   "id": "34288254-47d6-4733-bc15-b8d7c59411b0",
   "metadata": {},
   "outputs": [
    {
     "name": "stdout",
     "output_type": "stream",
     "text": [
      "            Staff Name                                     Staff Position\n",
      "0     Mark Daniel Ward                                 Executive Director\n",
      "1        Kevin Amstutz                              Senior Data Scientist\n",
      "2        Ashley Arroyo                  Data Science Techincal Specialist\n",
      "3        Donald Barnes                      Guest Relations Administrator\n",
      "4        Brandt Barnes                                           Good Boy\n",
      "5          Maggie Betz  Managing Director of The Data Mine at Indianap...\n",
      "6         Bryce Castle            Corporate Partners Technical Specialist\n",
      "7             Cai Chen            Corporate Partners Technical Specialist\n",
      "8         Doug Crabill                              Senior Data Scientist\n",
      "9        Peter Dragnev          Corporate Partners Technical Specialist  \n",
      "10    Stacey Dunderman             Lead Program Administration Specialist\n",
      "11     Jessica Gerlach            Corporate Partners Technical Specialist\n",
      "12        Dan Hirleman  Regional Director of The Data Mine of the Rockies\n",
      "13         Jessica Jud             Senior Manager of Expansion Operations\n",
      "14           Kali Lacy                        Associate Research Engineer\n",
      "15    Gloria Lenfestey                           Senior Financial Analyst\n",
      "16  Nicholas Lenfestey            Corporate Partners Technical Specialist\n",
      "17     Naomi Mersinger  ASL Interpreter / Strategic Initiatives Coordi...\n",
      "18      Kim Rechkemmer           Senior Program Administration Specialist\n",
      "19      Betsy Satchell                    Senior Administrative Assistant\n",
      "20         Shakir Syed        Managing Director of Corporate Partnerships\n",
      "21  Fulya Gokalp Yavuz                           Director of Data Science\n"
     ]
    }
   ],
   "source": [
    "print(staffdata)"
   ]
  },
  {
   "cell_type": "markdown",
   "id": "b456e57c-4a12-464b-999a-ef2df5af80c1",
   "metadata": {},
   "source": [
    "Markdown notes and sentences and analysis written here."
   ]
  },
  {
   "cell_type": "markdown",
   "id": "fc601975-35ed-4680-a4e1-0273ee3cc047",
   "metadata": {},
   "source": [
    "## Question 2"
   ]
  },
  {
   "cell_type": "code",
   "execution_count": 54,
   "id": "58b614fe-8594-4dcf-a8cd-f7b8f89bc738",
   "metadata": {},
   "outputs": [],
   "source": [
    "import requests\n",
    "import pandas as pd\n",
    "from lxml import html"
   ]
  },
  {
   "cell_type": "code",
   "execution_count": 40,
   "id": "a16336a1-1ef0-41e8-bc7c-49387db27497",
   "metadata": {},
   "outputs": [],
   "source": [
    "myresponse = requests.get(\"https://www.nps.gov\")"
   ]
  },
  {
   "cell_type": "code",
   "execution_count": 41,
   "id": "422c204a-698e-441f-b9b2-99f1144b9501",
   "metadata": {},
   "outputs": [],
   "source": [
    "mytree = html.fromstring(myresponse.content)"
   ]
  },
  {
   "cell_type": "code",
   "execution_count": 50,
   "id": "ce8c4ea4-1933-492e-9f7b-78137f1ad07c",
   "metadata": {},
   "outputs": [],
   "source": [
    "StateNames = [element.text.strip() for element in mytree.xpath('//a[@class = \"dropdown-item dropdown-state\"]')]"
   ]
  },
  {
   "cell_type": "code",
   "execution_count": 49,
   "id": "21f321a9-b3bf-45d9-842e-f2d53285d862",
   "metadata": {},
   "outputs": [],
   "source": [
    "StatesURL = ['https://www.nps.gov' + element.attrib['href'] for element in mytree.xpath('//a[@class = \"dropdown-item dropdown-state\"]')]"
   ]
  },
  {
   "cell_type": "code",
   "execution_count": 52,
   "id": "b4a7705e-ac38-49ac-b0cc-34c80374c911",
   "metadata": {},
   "outputs": [],
   "source": [
    "StateInfo = pd.DataFrame({\n",
    "        \"State Names\": StateNames,\n",
    "        \"State URL\": StatesURL\n",
    "    })"
   ]
  },
  {
   "cell_type": "code",
   "execution_count": 53,
   "id": "1e44fb46-4ee4-4b00-a976-c9c837c44373",
   "metadata": {},
   "outputs": [
    {
     "name": "stdout",
     "output_type": "stream",
     "text": [
      "                 State Names                               State URL\n",
      "0                    Alabama  https://www.nps.gov/state/al/index.htm\n",
      "1                     Alaska  https://www.nps.gov/state/ak/index.htm\n",
      "2             American Samoa  https://www.nps.gov/state/as/index.htm\n",
      "3                    Arizona  https://www.nps.gov/state/az/index.htm\n",
      "4                   Arkansas  https://www.nps.gov/state/ar/index.htm\n",
      "5                 California  https://www.nps.gov/state/ca/index.htm\n",
      "6                   Colorado  https://www.nps.gov/state/co/index.htm\n",
      "7                Connecticut  https://www.nps.gov/state/ct/index.htm\n",
      "8                   Delaware  https://www.nps.gov/state/de/index.htm\n",
      "9       District of Columbia  https://www.nps.gov/state/dc/index.htm\n",
      "10                   Florida  https://www.nps.gov/state/fl/index.htm\n",
      "11                   Georgia  https://www.nps.gov/state/ga/index.htm\n",
      "12                      Guam  https://www.nps.gov/state/gu/index.htm\n",
      "13                    Hawaii  https://www.nps.gov/state/hi/index.htm\n",
      "14                     Idaho  https://www.nps.gov/state/id/index.htm\n",
      "15                  Illinois  https://www.nps.gov/state/il/index.htm\n",
      "16                   Indiana  https://www.nps.gov/state/in/index.htm\n",
      "17                      Iowa  https://www.nps.gov/state/ia/index.htm\n",
      "18                    Kansas  https://www.nps.gov/state/ks/index.htm\n",
      "19                  Kentucky  https://www.nps.gov/state/ky/index.htm\n",
      "20                 Louisiana  https://www.nps.gov/state/la/index.htm\n",
      "21                     Maine  https://www.nps.gov/state/me/index.htm\n",
      "22                  Maryland  https://www.nps.gov/state/md/index.htm\n",
      "23             Massachusetts  https://www.nps.gov/state/ma/index.htm\n",
      "24                  Michigan  https://www.nps.gov/state/mi/index.htm\n",
      "25                 Minnesota  https://www.nps.gov/state/mn/index.htm\n",
      "26               Mississippi  https://www.nps.gov/state/ms/index.htm\n",
      "27                  Missouri  https://www.nps.gov/state/mo/index.htm\n",
      "28                   Montana  https://www.nps.gov/state/mt/index.htm\n",
      "29                  Nebraska  https://www.nps.gov/state/ne/index.htm\n",
      "30                    Nevada  https://www.nps.gov/state/nv/index.htm\n",
      "31             New Hampshire  https://www.nps.gov/state/nh/index.htm\n",
      "32                New Jersey  https://www.nps.gov/state/nj/index.htm\n",
      "33                New Mexico  https://www.nps.gov/state/nm/index.htm\n",
      "34                  New York  https://www.nps.gov/state/ny/index.htm\n",
      "35            North Carolina  https://www.nps.gov/state/nc/index.htm\n",
      "36              North Dakota  https://www.nps.gov/state/nd/index.htm\n",
      "37  Northern Mariana Islands  https://www.nps.gov/state/mp/index.htm\n",
      "38                      Ohio  https://www.nps.gov/state/oh/index.htm\n",
      "39                  Oklahoma  https://www.nps.gov/state/ok/index.htm\n",
      "40                    Oregon  https://www.nps.gov/state/or/index.htm\n",
      "41              Pennsylvania  https://www.nps.gov/state/pa/index.htm\n",
      "42               Puerto Rico  https://www.nps.gov/state/pr/index.htm\n",
      "43              Rhode Island  https://www.nps.gov/state/ri/index.htm\n",
      "44            South Carolina  https://www.nps.gov/state/sc/index.htm\n",
      "45              South Dakota  https://www.nps.gov/state/sd/index.htm\n",
      "46                 Tennessee  https://www.nps.gov/state/tn/index.htm\n",
      "47                     Texas  https://www.nps.gov/state/tx/index.htm\n",
      "48                      Utah  https://www.nps.gov/state/ut/index.htm\n",
      "49                   Vermont  https://www.nps.gov/state/vt/index.htm\n",
      "50            Virgin Islands  https://www.nps.gov/state/vi/index.htm\n",
      "51                  Virginia  https://www.nps.gov/state/va/index.htm\n",
      "52                Washington  https://www.nps.gov/state/wa/index.htm\n",
      "53             West Virginia  https://www.nps.gov/state/wv/index.htm\n",
      "54                 Wisconsin  https://www.nps.gov/state/wi/index.htm\n",
      "55                   Wyoming  https://www.nps.gov/state/wy/index.htm\n"
     ]
    }
   ],
   "source": [
    "print(StateInfo)"
   ]
  },
  {
   "cell_type": "code",
   "execution_count": null,
   "id": "ea813b4d-bc2a-402d-8fe3-743fd60f9c4a",
   "metadata": {},
   "outputs": [],
   "source": []
  },
  {
   "cell_type": "markdown",
   "id": "14dc22d4-ddc3-41cc-a91a-cb0025bc0c80",
   "metadata": {},
   "source": [
    "Markdown notes and sentences and analysis written here."
   ]
  },
  {
   "cell_type": "markdown",
   "id": "8e586edd-ff26-4ce2-8f6b-2424b26f2929",
   "metadata": {},
   "source": [
    "## Question 3"
   ]
  },
  {
   "cell_type": "code",
   "execution_count": 56,
   "id": "bbe0f40d-9655-4653-9ca8-886bdb61cb91",
   "metadata": {},
   "outputs": [],
   "source": [
    "import requests\n",
    "import pandas as pd\n",
    "from lxml import html"
   ]
  },
  {
   "cell_type": "code",
   "execution_count": 58,
   "id": "243fa125-b211-462d-b73b-1edce61d9faa",
   "metadata": {},
   "outputs": [],
   "source": [
    "myresponse = requests.get(\"https://books.toscrape.com\")"
   ]
  },
  {
   "cell_type": "code",
   "execution_count": 59,
   "id": "fc39c48f-d7e1-4ac0-87c8-79ae3010ad4b",
   "metadata": {},
   "outputs": [],
   "source": [
    "mytree = html.fromstring(myresponse.content)"
   ]
  },
  {
   "cell_type": "code",
   "execution_count": 66,
   "id": "435effb1-134f-4c99-9bf7-3c8da26573f7",
   "metadata": {},
   "outputs": [],
   "source": [
    "BookGenres = [element.text.strip() for element in mytree.xpath('//li/ul/li/a')]"
   ]
  },
  {
   "cell_type": "code",
   "execution_count": 64,
   "id": "bbb828f7-7d5e-4524-8e2f-0e7cef439d65",
   "metadata": {},
   "outputs": [],
   "source": [
    "BookURL = ['https://books.toscrape.com/' + element.attrib['href'] for element in mytree.xpath('//li/ul/li/a')]"
   ]
  },
  {
   "cell_type": "code",
   "execution_count": 68,
   "id": "faea527b-cd18-4483-8766-d692ff844660",
   "metadata": {},
   "outputs": [],
   "source": [
    "BookInfo = pd.DataFrame({\n",
    "        \"Book genres\": BookGenres,\n",
    "        \"Book URL\": BookURL\n",
    "    })"
   ]
  },
  {
   "cell_type": "code",
   "execution_count": 69,
   "id": "bdc60fc8-6459-42af-bd3c-4a64866d7c1a",
   "metadata": {},
   "outputs": [
    {
     "name": "stdout",
     "output_type": "stream",
     "text": [
      "           Book genres                                           Book URL\n",
      "0               Travel  https://books.toscrape.com/catalogue/category/...\n",
      "1              Mystery  https://books.toscrape.com/catalogue/category/...\n",
      "2   Historical Fiction  https://books.toscrape.com/catalogue/category/...\n",
      "3       Sequential Art  https://books.toscrape.com/catalogue/category/...\n",
      "4             Classics  https://books.toscrape.com/catalogue/category/...\n",
      "5           Philosophy  https://books.toscrape.com/catalogue/category/...\n",
      "6              Romance  https://books.toscrape.com/catalogue/category/...\n",
      "7       Womens Fiction  https://books.toscrape.com/catalogue/category/...\n",
      "8              Fiction  https://books.toscrape.com/catalogue/category/...\n",
      "9            Childrens  https://books.toscrape.com/catalogue/category/...\n",
      "10            Religion  https://books.toscrape.com/catalogue/category/...\n",
      "11          Nonfiction  https://books.toscrape.com/catalogue/category/...\n",
      "12               Music  https://books.toscrape.com/catalogue/category/...\n",
      "13             Default  https://books.toscrape.com/catalogue/category/...\n",
      "14     Science Fiction  https://books.toscrape.com/catalogue/category/...\n",
      "15    Sports and Games  https://books.toscrape.com/catalogue/category/...\n",
      "16       Add a comment  https://books.toscrape.com/catalogue/category/...\n",
      "17             Fantasy  https://books.toscrape.com/catalogue/category/...\n",
      "18           New Adult  https://books.toscrape.com/catalogue/category/...\n",
      "19         Young Adult  https://books.toscrape.com/catalogue/category/...\n",
      "20             Science  https://books.toscrape.com/catalogue/category/...\n",
      "21              Poetry  https://books.toscrape.com/catalogue/category/...\n",
      "22          Paranormal  https://books.toscrape.com/catalogue/category/...\n",
      "23                 Art  https://books.toscrape.com/catalogue/category/...\n",
      "24          Psychology  https://books.toscrape.com/catalogue/category/...\n",
      "25       Autobiography  https://books.toscrape.com/catalogue/category/...\n",
      "26           Parenting  https://books.toscrape.com/catalogue/category/...\n",
      "27       Adult Fiction  https://books.toscrape.com/catalogue/category/...\n",
      "28               Humor  https://books.toscrape.com/catalogue/category/...\n",
      "29              Horror  https://books.toscrape.com/catalogue/category/...\n",
      "30             History  https://books.toscrape.com/catalogue/category/...\n",
      "31      Food and Drink  https://books.toscrape.com/catalogue/category/...\n",
      "32   Christian Fiction  https://books.toscrape.com/catalogue/category/...\n",
      "33            Business  https://books.toscrape.com/catalogue/category/...\n",
      "34           Biography  https://books.toscrape.com/catalogue/category/...\n",
      "35            Thriller  https://books.toscrape.com/catalogue/category/...\n",
      "36        Contemporary  https://books.toscrape.com/catalogue/category/...\n",
      "37        Spirituality  https://books.toscrape.com/catalogue/category/...\n",
      "38            Academic  https://books.toscrape.com/catalogue/category/...\n",
      "39           Self Help  https://books.toscrape.com/catalogue/category/...\n",
      "40          Historical  https://books.toscrape.com/catalogue/category/...\n",
      "41           Christian  https://books.toscrape.com/catalogue/category/...\n",
      "42            Suspense  https://books.toscrape.com/catalogue/category/...\n",
      "43       Short Stories  https://books.toscrape.com/catalogue/category/...\n",
      "44              Novels  https://books.toscrape.com/catalogue/category/...\n",
      "45              Health  https://books.toscrape.com/catalogue/category/...\n",
      "46            Politics  https://books.toscrape.com/catalogue/category/...\n",
      "47            Cultural  https://books.toscrape.com/catalogue/category/...\n",
      "48             Erotica  https://books.toscrape.com/catalogue/category/...\n",
      "49               Crime  https://books.toscrape.com/catalogue/category/...\n"
     ]
    }
   ],
   "source": [
    "print(BookInfo)"
   ]
  },
  {
   "cell_type": "markdown",
   "id": "47c6229f-35f7-400c-8366-c442baa5cf47",
   "metadata": {},
   "source": [
    "Markdown notes and sentences and analysis written here."
   ]
  },
  {
   "cell_type": "markdown",
   "id": "da22f29c-d245-4d2b-9fc1-ca14cb6087d9",
   "metadata": {},
   "source": [
    "## Question 4"
   ]
  },
  {
   "cell_type": "code",
   "execution_count": 1,
   "id": "8cffc767-d1c8-4d64-b7dc-f0d2ee8a80d1",
   "metadata": {},
   "outputs": [],
   "source": [
    "import requests\n",
    "from lxml import html\n",
    "import pandas as pd"
   ]
  },
  {
   "cell_type": "code",
   "execution_count": 2,
   "id": "bb2bee0e-d121-415c-94b4-bc55f98fa705",
   "metadata": {},
   "outputs": [],
   "source": [
    "myresponse = requests.get(\"https://www.gocomics.com/peanuts/1970/06/22\")"
   ]
  },
  {
   "cell_type": "code",
   "execution_count": 14,
   "id": "7313a94b-a0a5-4ea0-a57d-39b94e3c70f2",
   "metadata": {},
   "outputs": [],
   "source": [
    "mytree = html.fromstring(myresponse.content)"
   ]
  },
  {
   "cell_type": "code",
   "execution_count": 4,
   "id": "6d3b3468-fcc8-4af5-825f-892541e79a9f",
   "metadata": {},
   "outputs": [
    {
     "data": {
      "text/plain": [
       "['https://assets.amuniversal.com/2181aa70f895013014ff001dd8b71c47']"
      ]
     },
     "execution_count": 4,
     "metadata": {},
     "output_type": "execute_result"
    }
   ],
   "source": [
    "[element.attrib['src'] for element in mytree.xpath('//img[@alt = \"Peanuts Comic Strip for June 22, 1970 \"]')]"
   ]
  },
  {
   "cell_type": "code",
   "execution_count": 39,
   "id": "deba5b6e-e0e7-411d-a485-791ea0996c1b",
   "metadata": {},
   "outputs": [],
   "source": [
    "#I named it something different and then took the link from the 2015/1/26\n",
    "myresponses = requests.get(\"https://www.gocomics.com/peanuts/2015/01/26\")"
   ]
  },
  {
   "cell_type": "code",
   "execution_count": 40,
   "id": "65961d7a-c81e-4431-9b18-b214c8d61f62",
   "metadata": {},
   "outputs": [],
   "source": [
    "mytree = html.fromstring(myresponses.content)"
   ]
  },
  {
   "cell_type": "code",
   "execution_count": 42,
   "id": "b5c1b7cf-028c-49b5-8d1c-0fd28ecb1705",
   "metadata": {},
   "outputs": [
    {
     "data": {
      "text/plain": [
       "['https://assets.amuniversal.com/b34fbda070e90132b90b005056a9545d']"
      ]
     },
     "execution_count": 42,
     "metadata": {},
     "output_type": "execute_result"
    }
   ],
   "source": [
    "#I changed the date to January 26 2015\n",
    "[element.attrib['src'] for element in mytree.xpath('//img[@alt = \"Peanuts Comic Strip for January 26, 2015 \"]')]"
   ]
  },
  {
   "cell_type": "code",
   "execution_count": 48,
   "id": "9bad92a4-e5b0-4496-80eb-d5ed73a0e0f4",
   "metadata": {},
   "outputs": [],
   "source": [
    "#This is the last the last part and as with the other two I just added March 14th 2010\n",
    "lastResponse = requests.get(\"https://www.gocomics.com/peanuts/2010/03/14\")"
   ]
  },
  {
   "cell_type": "code",
   "execution_count": 45,
   "id": "c2ce7709-f8e2-45f9-a1c5-71172bdf583e",
   "metadata": {},
   "outputs": [],
   "source": [
    "mytree = html.fromstring(lastResponse.content)"
   ]
  },
  {
   "cell_type": "code",
   "execution_count": 49,
   "id": "b92133f6-33b6-4ff2-a79a-416dbe21205e",
   "metadata": {},
   "outputs": [
    {
     "data": {
      "text/plain": [
       "['https://assets.amuniversal.com/cd0963f0f866013014ce001dd8b71c47']"
      ]
     },
     "execution_count": 49,
     "metadata": {},
     "output_type": "execute_result"
    }
   ],
   "source": [
    "#Same as the ones above\n",
    "[element.attrib['src'] for element in mytree.xpath('//img[@alt = \"Peanuts Comic Strip for March 14, 2010 \"]')]"
   ]
  },
  {
   "cell_type": "markdown",
   "id": "0d552245-b4d6-474a-9cc9-fa7b8e674d55",
   "metadata": {},
   "source": [
    "Markdown notes and sentences and analysis written here."
   ]
  },
  {
   "cell_type": "markdown",
   "id": "88c9cdac-3e92-498f-83fa-e089bfc44ac8",
   "metadata": {},
   "source": [
    "## Question 5"
   ]
  },
  {
   "cell_type": "code",
   "execution_count": 32,
   "id": "d370d7c9-06db-42b9-b75f-240481a5c491",
   "metadata": {},
   "outputs": [],
   "source": [
    "import requests\n",
    "import pandas as pd\n",
    "from lxml import html"
   ]
  },
  {
   "cell_type": "code",
   "execution_count": 36,
   "id": "bef99a36-629b-49c3-9748-12360333a863",
   "metadata": {},
   "outputs": [],
   "source": [
    "myresponse = requests.get(\"https://www.nps.gov/state/in/index.htm\")"
   ]
  },
  {
   "cell_type": "code",
   "execution_count": 37,
   "id": "4ebed8e1-fb02-4df7-ad55-0caf0d0f913f",
   "metadata": {},
   "outputs": [],
   "source": [
    "mytree = html.fromstring(myresponse.content)"
   ]
  },
  {
   "cell_type": "code",
   "execution_count": 46,
   "id": "57aebb2c-75bf-474c-8442-7ae3082984d2",
   "metadata": {},
   "outputs": [],
   "source": [
    "TypeParks = [element.text for element in mytree.xpath('//div[@class = \"list_left\"]/p[@class = \"list_left__kicker\"]')]"
   ]
  },
  {
   "cell_type": "code",
   "execution_count": 44,
   "id": "fb689c4f-600f-4eff-9d76-7646d45fe03e",
   "metadata": {},
   "outputs": [],
   "source": [
    "NamesOfParks = [element.text for element in mytree.xpath('//div[@class = \"list_left\"]/h3/a')]"
   ]
  },
  {
   "cell_type": "code",
   "execution_count": 48,
   "id": "ddff601b-ad98-4e61-acce-4b7c6416973a",
   "metadata": {},
   "outputs": [],
   "source": [
    "NamesOfLocation = [element.text for element in mytree.xpath('//div[@class = \"list_left\"]/p[@class = \"list_left__subtitle\"]')]"
   ]
  },
  {
   "cell_type": "code",
   "execution_count": 51,
   "id": "627e19fc-8fd0-47bf-a1fa-d4e6c2802e71",
   "metadata": {},
   "outputs": [],
   "source": [
    "#As with the other creations of the Dataframes, I used the same style this time though just adding another column\n",
    "GreatPark = pd.DataFrame({\n",
    "        \"Types of Parks\": TypeParks,\n",
    "        \"Name\": NamesOfParks,\n",
    "        \"Location\": NamesOfLocation\n",
    "    })"
   ]
  },
  {
   "cell_type": "code",
   "execution_count": 52,
   "id": "404c7e45-e09b-41f7-9a20-637df7b478fb",
   "metadata": {},
   "outputs": [
    {
     "name": "stdout",
     "output_type": "stream",
     "text": [
      "             Types of Parks                 Name  \\\n",
      "0  National Historical Park  George Rogers Clark   \n",
      "1             National Park        Indiana Dunes   \n",
      "2   National Historic Trail        Lewis & Clark   \n",
      "3         National Memorial      Lincoln Boyhood   \n",
      "\n",
      "                                            Location  \n",
      "0                                     Vincennes, IN   \n",
      "1                                        Porter, IN   \n",
      "2  Sixteen States: IA,ID,IL,IN,KS,KY,MO,MT,NE,ND,...  \n",
      "3                                  Lincoln City, IN   \n"
     ]
    }
   ],
   "source": [
    "print(GreatPark)"
   ]
  },
  {
   "cell_type": "markdown",
   "id": "9fbf00fb-2418-460f-ae94-2a32b0c28952",
   "metadata": {},
   "source": [
    "Markdown notes and sentences and analysis written here."
   ]
  }
 ],
 "metadata": {
  "kernelspec": {
   "display_name": "seminar",
   "language": "python",
   "name": "python3"
  },
  "language_info": {
   "codemirror_mode": {
    "name": "ipython",
    "version": 3
   },
   "file_extension": ".py",
   "mimetype": "text/x-python",
   "name": "python",
   "nbconvert_exporter": "python",
   "pygments_lexer": "ipython3",
   "version": "3.11.5"
  }
 },
 "nbformat": 4,
 "nbformat_minor": 5
}
