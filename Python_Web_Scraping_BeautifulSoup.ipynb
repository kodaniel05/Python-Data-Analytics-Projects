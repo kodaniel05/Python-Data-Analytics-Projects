{
 "cells": [
  {
   "cell_type": "markdown",
   "id": "140d5565",
   "metadata": {},
   "source": [
    "## Learning objectives\n",
    "\n",
    "use requests to fetch HTML and parse pages with BeautifulSoup\n",
    "\n",
    "select elements via CSS selectors and extract text/attributes (.text, ['href'], ['alt'], ['src'])\n",
    "\n",
    "clean scraped text (e.g., .strip()) and construct absolute URLs by prefixing domains\n",
    "\n",
    "build pandas DataFrames from scraped lists (names ↔ titles, states ↔ URLs, categories ↔ URLs)\n",
    "\n",
    "extract specific media (e.g., image src by matching an alt string)\n",
    "\n",
    "read HTML tables directly with pandas.read_html + StringIO (no BS4 needed)\n",
    "\n",
    "document scraping steps and decisions clearly in code comments and markdown"
   ]
  },
  {
   "cell_type": "code",
   "execution_count": 1,
   "id": "49445606-d363-41b4-b479-e319a9a84c01",
   "metadata": {},
   "outputs": [],
   "source": [
    "import requests\n",
    "from bs4 import BeautifulSoup\n",
    "import pandas as pd"
   ]
  },
  {
   "cell_type": "code",
   "execution_count": 169,
   "id": "575222a5-98ea-4b19-96ba-0b21b9775ec9",
   "metadata": {},
   "outputs": [],
   "source": [
    "myresponse = requests.get(\"https://datamine.purdue.edu/about/about-welcome/\")"
   ]
  },
  {
   "cell_type": "code",
   "execution_count": 170,
   "id": "4fc48ca6-d358-4133-b033-e4b7efc8a522",
   "metadata": {},
   "outputs": [],
   "source": [
    "mysoup = BeautifulSoup(myresponse.content, 'html.parser')"
   ]
  },
  {
   "cell_type": "code",
   "execution_count": 171,
   "id": "edc77f2a-88ea-4997-ac10-9c234b4e40d1",
   "metadata": {},
   "outputs": [
    {
     "data": {
      "text/plain": [
       "[<p class=\"purdue-home-cta-grid__card-name\">Mark Daniel Ward</p>,\n",
       " <p class=\"purdue-home-cta-grid__card-name\">Kevin Amstutz</p>,\n",
       " <p class=\"purdue-home-cta-grid__card-name\">Ashley Arroyo</p>,\n",
       " <p class=\"purdue-home-cta-grid__card-name\">Donald Barnes</p>,\n",
       " <p class=\"purdue-home-cta-grid__card-name\">Brandt Barnes</p>,\n",
       " <p class=\"purdue-home-cta-grid__card-name\">Maggie Betz</p>,\n",
       " <p class=\"purdue-home-cta-grid__card-name\">Bryce Castle</p>,\n",
       " <p class=\"purdue-home-cta-grid__card-name\">Cai Chen</p>,\n",
       " <p class=\"purdue-home-cta-grid__card-name\">Doug Crabill</p>,\n",
       " <p class=\"purdue-home-cta-grid__card-name\">Peter Dragnev</p>,\n",
       " <p class=\"purdue-home-cta-grid__card-name\">Stacey Dunderman</p>,\n",
       " <p class=\"purdue-home-cta-grid__card-name\">Jessica Gerlach</p>,\n",
       " <p class=\"purdue-home-cta-grid__card-name\">Dan Hirleman</p>,\n",
       " <p class=\"purdue-home-cta-grid__card-name\">Jessica Jud</p>,\n",
       " <p class=\"purdue-home-cta-grid__card-name\">Kali Lacy</p>,\n",
       " <p class=\"purdue-home-cta-grid__card-name\">Gloria Lenfestey</p>,\n",
       " <p class=\"purdue-home-cta-grid__card-name\">Nicholas Lenfestey</p>,\n",
       " <p class=\"purdue-home-cta-grid__card-name\">Naomi Mersinger</p>,\n",
       " <p class=\"purdue-home-cta-grid__card-name\">Kim Rechkemmer</p>,\n",
       " <p class=\"purdue-home-cta-grid__card-name\">Betsy Satchell</p>,\n",
       " <p class=\"purdue-home-cta-grid__card-name\">Shakir Syed</p>,\n",
       " <p class=\"purdue-home-cta-grid__card-name\">Fulya Gokalp Yavuz</p>]"
      ]
     },
     "execution_count": 171,
     "metadata": {},
     "output_type": "execute_result"
    }
   ],
   "source": [
    "mysoup.select('p[class = \"purdue-home-cta-grid__card-name\"]')"
   ]
  },
  {
   "cell_type": "code",
   "execution_count": 194,
   "id": "2c07e6b6-967e-4219-b7dd-8231ab250112",
   "metadata": {},
   "outputs": [],
   "source": [
    "#Actually question. I am just naming what will be in the dataframe. When it prints the data frame this is one column\n",
    "NameStaff = [element.text for element in mysoup.select('p[class = \"purdue-home-cta-grid__card-name\"]')]"
   ]
  },
  {
   "cell_type": "code",
   "execution_count": 193,
   "id": "ea85943b-31b0-42a9-b0c5-80a86392662d",
   "metadata": {},
   "outputs": [],
   "source": [
    "#Same as above \n",
    "Postions = [element.text for element in mysoup.select('p[class = \"purdue-home-cta-grid__card-titleline\"]')]"
   ]
  },
  {
   "cell_type": "code",
   "execution_count": 195,
   "id": "979332f3-9392-47c7-8182-784931c5ee0e",
   "metadata": {},
   "outputs": [],
   "source": [
    "#This creates the data frame. I named the dataframe Jobtitles and the two columns Staff names and postions \n",
    "Jobtitles = pd.DataFrame({\n",
    "        \"Staff Names\": NameStaff,\n",
    "        \"Position Titles\": Postions\n",
    "    })"
   ]
  },
  {
   "cell_type": "code",
   "execution_count": 178,
   "id": "85d108fa-6cd7-41d5-a744-4fc898c867c2",
   "metadata": {},
   "outputs": [
    {
     "name": "stdout",
     "output_type": "stream",
     "text": [
      "           Staff Names                                    Position Titles\n",
      "0     Mark Daniel Ward                                 Executive Director\n",
      "1        Kevin Amstutz                              Senior Data Scientist\n",
      "2        Ashley Arroyo                  Data Science Techincal Specialist\n",
      "3        Donald Barnes                      Guest Relations Administrator\n",
      "4        Brandt Barnes                                           Good Boy\n",
      "5          Maggie Betz  Managing Director of The Data Mine at Indianap...\n",
      "6         Bryce Castle            Corporate Partners Technical Specialist\n",
      "7             Cai Chen            Corporate Partners Technical Specialist\n",
      "8         Doug Crabill                              Senior Data Scientist\n",
      "9        Peter Dragnev          Corporate Partners Technical Specialist  \n",
      "10    Stacey Dunderman             Lead Program Administration Specialist\n",
      "11     Jessica Gerlach            Corporate Partners Technical Specialist\n",
      "12        Dan Hirleman  Regional Director of The Data Mine of the Rockies\n",
      "13         Jessica Jud             Senior Manager of Expansion Operations\n",
      "14           Kali Lacy                        Associate Research Engineer\n",
      "15    Gloria Lenfestey                           Senior Financial Analyst\n",
      "16  Nicholas Lenfestey            Corporate Partners Technical Specialist\n",
      "17     Naomi Mersinger  ASL Interpreter / Strategic Initiatives Coordi...\n",
      "18      Kim Rechkemmer           Senior Program Administration Specialist\n",
      "19      Betsy Satchell                    Senior Administrative Assistant\n",
      "20         Shakir Syed        Managing Director of Corporate Partnerships\n",
      "21  Fulya Gokalp Yavuz                           Director of Data Science\n"
     ]
    }
   ],
   "source": [
    "print(Jobtitles)"
   ]
  },
  {
   "cell_type": "markdown",
   "id": "8d39239d-93aa-4f5b-b6bd-d400841d9c3d",
   "metadata": {},
   "source": [
    "By Following Dr Ward's video, I pulled from the Purdue Data Mine staff all and found what line is the title for the 22 employees titles. By pulling only <p class and then removing the p[class = \"purdue-home-cta-grid__card-titleline\"] which brought me to the final answer of printing all 22 staff members job titles"
   ]
  },
  {
   "cell_type": "markdown",
   "id": "fc601975-35ed-4680-a4e1-0273ee3cc047",
   "metadata": {},
   "source": [
    "## Question 2"
   ]
  },
  {
   "cell_type": "code",
   "execution_count": 179,
   "id": "c50b1b41-bf92-48f5-8f99-8230398304c3",
   "metadata": {},
   "outputs": [],
   "source": [
    "import pandas as pd\n",
    "import requests"
   ]
  },
  {
   "cell_type": "code",
   "execution_count": 180,
   "id": "a16336a1-1ef0-41e8-bc7c-49387db27497",
   "metadata": {},
   "outputs": [],
   "source": [
    "myresponse = requests.get('https://www.nps.gov')"
   ]
  },
  {
   "cell_type": "code",
   "execution_count": 181,
   "id": "6fde0845-0965-4eb1-9430-7727a0c6dd88",
   "metadata": {},
   "outputs": [],
   "source": [
    "mysoup = BeautifulSoup(myresponse.content, 'html.parser')"
   ]
  },
  {
   "cell_type": "code",
   "execution_count": 182,
   "id": "a5d3e337-db69-4664-998b-86c866e5abaa",
   "metadata": {},
   "outputs": [],
   "source": [
    "#Name of States same way I did in question 1\n",
    "myState = [element.text.strip() for element in mysoup.select('a[class = \"dropdown-item dropdown-state\"]')]"
   ]
  },
  {
   "cell_type": "code",
   "execution_count": 183,
   "id": "c11d8c46-5d32-4bbf-a840-e8f07953c39e",
   "metadata": {},
   "outputs": [],
   "source": [
    "# Names the StateURL\n",
    "StateURL = ['https://www.nps.gov' + element['href'] for element in mysoup.select('a[class = \"dropdown-item dropdown-state\"]')]"
   ]
  },
  {
   "cell_type": "code",
   "execution_count": 196,
   "id": "dc1b871b-7ffa-4a40-8a32-f9d00daa39f1",
   "metadata": {},
   "outputs": [],
   "source": [
    "#I just copy and pasted but changed the titles\n",
    "CoolState = pd.DataFrame({\n",
    "        \"States\": myState,\n",
    "        \"State URL\": StateURL\n",
    "    })"
   ]
  },
  {
   "cell_type": "code",
   "execution_count": 185,
   "id": "53bbc5c9-d260-426f-99db-01104002ad2e",
   "metadata": {},
   "outputs": [
    {
     "name": "stdout",
     "output_type": "stream",
     "text": [
      "                      States                               State URL\n",
      "0                    Alabama  https://www.nps.gov/state/al/index.htm\n",
      "1                     Alaska  https://www.nps.gov/state/ak/index.htm\n",
      "2             American Samoa  https://www.nps.gov/state/as/index.htm\n",
      "3                    Arizona  https://www.nps.gov/state/az/index.htm\n",
      "4                   Arkansas  https://www.nps.gov/state/ar/index.htm\n",
      "5                 California  https://www.nps.gov/state/ca/index.htm\n",
      "6                   Colorado  https://www.nps.gov/state/co/index.htm\n",
      "7                Connecticut  https://www.nps.gov/state/ct/index.htm\n",
      "8                   Delaware  https://www.nps.gov/state/de/index.htm\n",
      "9       District of Columbia  https://www.nps.gov/state/dc/index.htm\n",
      "10                   Florida  https://www.nps.gov/state/fl/index.htm\n",
      "11                   Georgia  https://www.nps.gov/state/ga/index.htm\n",
      "12                      Guam  https://www.nps.gov/state/gu/index.htm\n",
      "13                    Hawaii  https://www.nps.gov/state/hi/index.htm\n",
      "14                     Idaho  https://www.nps.gov/state/id/index.htm\n",
      "15                  Illinois  https://www.nps.gov/state/il/index.htm\n",
      "16                   Indiana  https://www.nps.gov/state/in/index.htm\n",
      "17                      Iowa  https://www.nps.gov/state/ia/index.htm\n",
      "18                    Kansas  https://www.nps.gov/state/ks/index.htm\n",
      "19                  Kentucky  https://www.nps.gov/state/ky/index.htm\n",
      "20                 Louisiana  https://www.nps.gov/state/la/index.htm\n",
      "21                     Maine  https://www.nps.gov/state/me/index.htm\n",
      "22                  Maryland  https://www.nps.gov/state/md/index.htm\n",
      "23             Massachusetts  https://www.nps.gov/state/ma/index.htm\n",
      "24                  Michigan  https://www.nps.gov/state/mi/index.htm\n",
      "25                 Minnesota  https://www.nps.gov/state/mn/index.htm\n",
      "26               Mississippi  https://www.nps.gov/state/ms/index.htm\n",
      "27                  Missouri  https://www.nps.gov/state/mo/index.htm\n",
      "28                   Montana  https://www.nps.gov/state/mt/index.htm\n",
      "29                  Nebraska  https://www.nps.gov/state/ne/index.htm\n",
      "30                    Nevada  https://www.nps.gov/state/nv/index.htm\n",
      "31             New Hampshire  https://www.nps.gov/state/nh/index.htm\n",
      "32                New Jersey  https://www.nps.gov/state/nj/index.htm\n",
      "33                New Mexico  https://www.nps.gov/state/nm/index.htm\n",
      "34                  New York  https://www.nps.gov/state/ny/index.htm\n",
      "35            North Carolina  https://www.nps.gov/state/nc/index.htm\n",
      "36              North Dakota  https://www.nps.gov/state/nd/index.htm\n",
      "37  Northern Mariana Islands  https://www.nps.gov/state/mp/index.htm\n",
      "38                      Ohio  https://www.nps.gov/state/oh/index.htm\n",
      "39                  Oklahoma  https://www.nps.gov/state/ok/index.htm\n",
      "40                    Oregon  https://www.nps.gov/state/or/index.htm\n",
      "41              Pennsylvania  https://www.nps.gov/state/pa/index.htm\n",
      "42               Puerto Rico  https://www.nps.gov/state/pr/index.htm\n",
      "43              Rhode Island  https://www.nps.gov/state/ri/index.htm\n",
      "44            South Carolina  https://www.nps.gov/state/sc/index.htm\n",
      "45              South Dakota  https://www.nps.gov/state/sd/index.htm\n",
      "46                 Tennessee  https://www.nps.gov/state/tn/index.htm\n",
      "47                     Texas  https://www.nps.gov/state/tx/index.htm\n",
      "48                      Utah  https://www.nps.gov/state/ut/index.htm\n",
      "49                   Vermont  https://www.nps.gov/state/vt/index.htm\n",
      "50            Virgin Islands  https://www.nps.gov/state/vi/index.htm\n",
      "51                  Virginia  https://www.nps.gov/state/va/index.htm\n",
      "52                Washington  https://www.nps.gov/state/wa/index.htm\n",
      "53             West Virginia  https://www.nps.gov/state/wv/index.htm\n",
      "54                 Wisconsin  https://www.nps.gov/state/wi/index.htm\n",
      "55                   Wyoming  https://www.nps.gov/state/wy/index.htm\n"
     ]
    }
   ],
   "source": [
    "print(CoolState)"
   ]
  },
  {
   "cell_type": "markdown",
   "id": "14dc22d4-ddc3-41cc-a91a-cb0025bc0c80",
   "metadata": {},
   "source": [
    "Markdown notes and sentences and analysis written here."
   ]
  },
  {
   "cell_type": "markdown",
   "id": "8e586edd-ff26-4ce2-8f6b-2424b26f2929",
   "metadata": {},
   "source": [
    "## Question 3"
   ]
  },
  {
   "cell_type": "code",
   "execution_count": 23,
   "id": "0a34d290-2be2-428e-9be6-2a90eb95a37e",
   "metadata": {},
   "outputs": [],
   "source": [
    "#I imported Pandas to be able to create a data frame. I already imported requests as well but just extra\n",
    "import pandas as pd\n",
    "import requests"
   ]
  },
  {
   "cell_type": "code",
   "execution_count": 24,
   "id": "c97df300-6089-40c6-8ae8-1b49c5d8d267",
   "metadata": {},
   "outputs": [],
   "source": [
    "#This just gets the data from the website\n",
    "BookDF = requests.get('https://books.toscrape.com/')"
   ]
  },
  {
   "cell_type": "code",
   "execution_count": 25,
   "id": "010dff76-95d7-484c-8558-65ab8d0338a1",
   "metadata": {},
   "outputs": [],
   "source": [
    "mysoup = BeautifulSoup(BookDF.content, 'html.parser')"
   ]
  },
  {
   "cell_type": "code",
   "execution_count": 26,
   "id": "4cbcc77d-b98f-4a4c-81a5-321e7eba5e9b",
   "metadata": {},
   "outputs": [],
   "source": [
    "#This names the category names\n",
    "CategoryNames = [element.text.strip() for element in mysoup.select('li ul li a')]"
   ]
  },
  {
   "cell_type": "code",
   "execution_count": 27,
   "id": "4d398e5d-35f2-4ad1-a9ab-c20b86026e17",
   "metadata": {},
   "outputs": [],
   "source": [
    "#Names the category links\n",
    "CategoryLink = ['https://books.toscrape.com/' + element ['href'] for element in mysoup.select('li ul li a')]"
   ]
  },
  {
   "cell_type": "code",
   "execution_count": 28,
   "id": "a129fda0-5012-436d-9d48-b4e79a286c3c",
   "metadata": {},
   "outputs": [],
   "source": [
    "#Combines and makes dataset, the BookDF is pulling from the Pandas\n",
    "BookData = pd.DataFrame({\n",
    "        \"Category\": CategoryNames,\n",
    "        \"Links\": CategoryLink\n",
    "    })"
   ]
  },
  {
   "cell_type": "code",
   "execution_count": 29,
   "id": "c38fe6ef-f642-4687-9621-67516d325f7a",
   "metadata": {},
   "outputs": [
    {
     "name": "stdout",
     "output_type": "stream",
     "text": [
      "              Category                                              Links\n",
      "0               Travel  https://books.toscrape.com/catalogue/category/...\n",
      "1              Mystery  https://books.toscrape.com/catalogue/category/...\n",
      "2   Historical Fiction  https://books.toscrape.com/catalogue/category/...\n",
      "3       Sequential Art  https://books.toscrape.com/catalogue/category/...\n",
      "4             Classics  https://books.toscrape.com/catalogue/category/...\n",
      "5           Philosophy  https://books.toscrape.com/catalogue/category/...\n",
      "6              Romance  https://books.toscrape.com/catalogue/category/...\n",
      "7       Womens Fiction  https://books.toscrape.com/catalogue/category/...\n",
      "8              Fiction  https://books.toscrape.com/catalogue/category/...\n",
      "9            Childrens  https://books.toscrape.com/catalogue/category/...\n",
      "10            Religion  https://books.toscrape.com/catalogue/category/...\n",
      "11          Nonfiction  https://books.toscrape.com/catalogue/category/...\n",
      "12               Music  https://books.toscrape.com/catalogue/category/...\n",
      "13             Default  https://books.toscrape.com/catalogue/category/...\n",
      "14     Science Fiction  https://books.toscrape.com/catalogue/category/...\n",
      "15    Sports and Games  https://books.toscrape.com/catalogue/category/...\n",
      "16       Add a comment  https://books.toscrape.com/catalogue/category/...\n",
      "17             Fantasy  https://books.toscrape.com/catalogue/category/...\n",
      "18           New Adult  https://books.toscrape.com/catalogue/category/...\n",
      "19         Young Adult  https://books.toscrape.com/catalogue/category/...\n",
      "20             Science  https://books.toscrape.com/catalogue/category/...\n",
      "21              Poetry  https://books.toscrape.com/catalogue/category/...\n",
      "22          Paranormal  https://books.toscrape.com/catalogue/category/...\n",
      "23                 Art  https://books.toscrape.com/catalogue/category/...\n",
      "24          Psychology  https://books.toscrape.com/catalogue/category/...\n",
      "25       Autobiography  https://books.toscrape.com/catalogue/category/...\n",
      "26           Parenting  https://books.toscrape.com/catalogue/category/...\n",
      "27       Adult Fiction  https://books.toscrape.com/catalogue/category/...\n",
      "28               Humor  https://books.toscrape.com/catalogue/category/...\n",
      "29              Horror  https://books.toscrape.com/catalogue/category/...\n",
      "30             History  https://books.toscrape.com/catalogue/category/...\n",
      "31      Food and Drink  https://books.toscrape.com/catalogue/category/...\n",
      "32   Christian Fiction  https://books.toscrape.com/catalogue/category/...\n",
      "33            Business  https://books.toscrape.com/catalogue/category/...\n",
      "34           Biography  https://books.toscrape.com/catalogue/category/...\n",
      "35            Thriller  https://books.toscrape.com/catalogue/category/...\n",
      "36        Contemporary  https://books.toscrape.com/catalogue/category/...\n",
      "37        Spirituality  https://books.toscrape.com/catalogue/category/...\n",
      "38            Academic  https://books.toscrape.com/catalogue/category/...\n",
      "39           Self Help  https://books.toscrape.com/catalogue/category/...\n",
      "40          Historical  https://books.toscrape.com/catalogue/category/...\n",
      "41           Christian  https://books.toscrape.com/catalogue/category/...\n",
      "42            Suspense  https://books.toscrape.com/catalogue/category/...\n",
      "43       Short Stories  https://books.toscrape.com/catalogue/category/...\n",
      "44              Novels  https://books.toscrape.com/catalogue/category/...\n",
      "45              Health  https://books.toscrape.com/catalogue/category/...\n",
      "46            Politics  https://books.toscrape.com/catalogue/category/...\n",
      "47            Cultural  https://books.toscrape.com/catalogue/category/...\n",
      "48             Erotica  https://books.toscrape.com/catalogue/category/...\n",
      "49               Crime  https://books.toscrape.com/catalogue/category/...\n"
     ]
    }
   ],
   "source": [
    "print(BookData)"
   ]
  },
  {
   "cell_type": "markdown",
   "id": "47c6229f-35f7-400c-8366-c442baa5cf47",
   "metadata": {},
   "source": [
    "Markdown notes and sentences and analysis written here."
   ]
  },
  {
   "cell_type": "markdown",
   "id": "da22f29c-d245-4d2b-9fc1-ca14cb6087d9",
   "metadata": {},
   "source": [
    "## Question 4"
   ]
  },
  {
   "cell_type": "code",
   "execution_count": 96,
   "id": "8cffc767-d1c8-4d64-b7dc-f0d2ee8a80d1",
   "metadata": {},
   "outputs": [],
   "source": [
    "myResponse = requests.get(\"https://www.gocomics.com/peanuts/1970/06/22\")"
   ]
  },
  {
   "cell_type": "code",
   "execution_count": 94,
   "id": "fa893b71-c847-494c-b31a-e7a0d654954b",
   "metadata": {},
   "outputs": [],
   "source": [
    "mySoup = BeautifulSoup(myResponse.content, 'html.parser')"
   ]
  },
  {
   "cell_type": "code",
   "execution_count": 99,
   "id": "126e8b7e-ecb3-480e-9689-2fea626af2f1",
   "metadata": {},
   "outputs": [
    {
     "data": {
      "text/plain": [
       "['https://assets.amuniversal.com/2181aa70f895013014ff001dd8b71c47']"
      ]
     },
     "execution_count": 99,
     "metadata": {},
     "output_type": "execute_result"
    }
   ],
   "source": [
    "[element ['src'] for element in mySoup.select('img[alt = \"Peanuts Comic Strip for June 22, 1970 \"]')]"
   ]
  },
  {
   "cell_type": "code",
   "execution_count": 8,
   "id": "80a2edb6-fed9-4dc6-b523-f92ae1da7ab5",
   "metadata": {},
   "outputs": [],
   "source": [
    "#I Copied what Dr ward did instead of adding a different date\n",
    "myResponses = requests.get(\"https://www.gocomics.com/peanuts/2004/10/05\")"
   ]
  },
  {
   "cell_type": "code",
   "execution_count": 9,
   "id": "bf6d0a82-ee94-44aa-be57-6ed6e58dc781",
   "metadata": {},
   "outputs": [],
   "source": [
    "#Renamed and added myResponses\n",
    "mySoups = BeautifulSoup(myResponses.content, 'html.parser')"
   ]
  },
  {
   "cell_type": "code",
   "execution_count": 11,
   "id": "556b5160-773a-4245-a1cd-b2150e06e261",
   "metadata": {},
   "outputs": [
    {
     "data": {
      "text/plain": [
       "['https://assets.amuniversal.com/282ff900f868013014ce001dd8b71c47']"
      ]
     },
     "execution_count": 11,
     "metadata": {},
     "output_type": "execute_result"
    }
   ],
   "source": [
    "#Input everything else\n",
    "[element['src'] for element in mySoups.select('img[alt = \"Peanuts Comic Strip for October 05, 2004 \"]')]"
   ]
  },
  {
   "cell_type": "code",
   "execution_count": 18,
   "id": "f7a3c03d-0a66-4498-950a-27f68698739b",
   "metadata": {},
   "outputs": [],
   "source": [
    "#I just copied from the other two but put a different date instead\n",
    "myResponsed = requests.get(\"https://www.gocomics.com/peanuts/2014/08/08\")"
   ]
  },
  {
   "cell_type": "code",
   "execution_count": 19,
   "id": "e4173a12-9cb5-427b-852b-adb040e4a814",
   "metadata": {},
   "outputs": [],
   "source": [
    "#Renamed and added myResponsed and changed the name\n",
    "mySouped = BeautifulSoup(myResponsed.content, 'html.parser')"
   ]
  },
  {
   "cell_type": "code",
   "execution_count": 20,
   "id": "d599c8c8-6b13-4602-b79e-6e17b7ed3cb5",
   "metadata": {},
   "outputs": [
    {
     "data": {
      "text/plain": [
       "['https://assets.amuniversal.com/b6966aa0f00f01317ff1005056a9545d']"
      ]
     },
     "execution_count": 20,
     "metadata": {},
     "output_type": "execute_result"
    }
   ],
   "source": [
    "#Input everything else\n",
    "[element['src'] for element in mySouped.select('img[alt = \"Peanuts Comic Strip for August 08, 2014 \"]')]"
   ]
  },
  {
   "cell_type": "markdown",
   "id": "0d552245-b4d6-474a-9cc9-fa7b8e674d55",
   "metadata": {},
   "source": [
    "Markdown notes and sentences and analysis written here."
   ]
  },
  {
   "cell_type": "markdown",
   "id": "88c9cdac-3e92-498f-83fa-e089bfc44ac8",
   "metadata": {},
   "source": [
    "## Question 5"
   ]
  },
  {
   "cell_type": "code",
   "execution_count": 119,
   "id": "d370d7c9-06db-42b9-b75f-240481a5c491",
   "metadata": {},
   "outputs": [],
   "source": [
    "import pandas as pd\n",
    "from io import StringIO"
   ]
  },
  {
   "cell_type": "code",
   "execution_count": 120,
   "id": "0dc18070-84d3-4e73-b0df-bb79ec255a7f",
   "metadata": {},
   "outputs": [],
   "source": [
    "myreponse = requests.get(\"https://www.scrapethissite.com/pages/forms/?per_page=600\")"
   ]
  },
  {
   "cell_type": "code",
   "execution_count": 121,
   "id": "8e5abebb-d197-43a7-a8d2-0adb39def834",
   "metadata": {},
   "outputs": [],
   "source": [
    "mysoup = BeautifulSoup(myreponse.content, 'html.parser')"
   ]
  },
  {
   "cell_type": "code",
   "execution_count": 126,
   "id": "bcb25e3a-d0f8-4042-9ce8-6e790fd45c27",
   "metadata": {},
   "outputs": [
    {
     "data": {
      "text/html": [
       "<div>\n",
       "<style scoped>\n",
       "    .dataframe tbody tr th:only-of-type {\n",
       "        vertical-align: middle;\n",
       "    }\n",
       "\n",
       "    .dataframe tbody tr th {\n",
       "        vertical-align: top;\n",
       "    }\n",
       "\n",
       "    .dataframe thead th {\n",
       "        text-align: right;\n",
       "    }\n",
       "</style>\n",
       "<table border=\"1\" class=\"dataframe\">\n",
       "  <thead>\n",
       "    <tr style=\"text-align: right;\">\n",
       "      <th></th>\n",
       "      <th>Team Name</th>\n",
       "      <th>Year</th>\n",
       "      <th>Wins</th>\n",
       "      <th>Losses</th>\n",
       "      <th>OT Losses</th>\n",
       "      <th>Win %</th>\n",
       "      <th>Goals For (GF)</th>\n",
       "      <th>Goals Against (GA)</th>\n",
       "      <th>+ / -</th>\n",
       "    </tr>\n",
       "  </thead>\n",
       "  <tbody>\n",
       "    <tr>\n",
       "      <th>0</th>\n",
       "      <td>Boston Bruins</td>\n",
       "      <td>1990</td>\n",
       "      <td>44</td>\n",
       "      <td>24</td>\n",
       "      <td>NaN</td>\n",
       "      <td>0.550</td>\n",
       "      <td>299</td>\n",
       "      <td>264</td>\n",
       "      <td>35</td>\n",
       "    </tr>\n",
       "    <tr>\n",
       "      <th>1</th>\n",
       "      <td>Buffalo Sabres</td>\n",
       "      <td>1990</td>\n",
       "      <td>31</td>\n",
       "      <td>30</td>\n",
       "      <td>NaN</td>\n",
       "      <td>0.388</td>\n",
       "      <td>292</td>\n",
       "      <td>278</td>\n",
       "      <td>14</td>\n",
       "    </tr>\n",
       "    <tr>\n",
       "      <th>2</th>\n",
       "      <td>Calgary Flames</td>\n",
       "      <td>1990</td>\n",
       "      <td>46</td>\n",
       "      <td>26</td>\n",
       "      <td>NaN</td>\n",
       "      <td>0.575</td>\n",
       "      <td>344</td>\n",
       "      <td>263</td>\n",
       "      <td>81</td>\n",
       "    </tr>\n",
       "    <tr>\n",
       "      <th>3</th>\n",
       "      <td>Chicago Blackhawks</td>\n",
       "      <td>1990</td>\n",
       "      <td>49</td>\n",
       "      <td>23</td>\n",
       "      <td>NaN</td>\n",
       "      <td>0.613</td>\n",
       "      <td>284</td>\n",
       "      <td>211</td>\n",
       "      <td>73</td>\n",
       "    </tr>\n",
       "    <tr>\n",
       "      <th>4</th>\n",
       "      <td>Detroit Red Wings</td>\n",
       "      <td>1990</td>\n",
       "      <td>34</td>\n",
       "      <td>38</td>\n",
       "      <td>NaN</td>\n",
       "      <td>0.425</td>\n",
       "      <td>273</td>\n",
       "      <td>298</td>\n",
       "      <td>-25</td>\n",
       "    </tr>\n",
       "    <tr>\n",
       "      <th>...</th>\n",
       "      <td>...</td>\n",
       "      <td>...</td>\n",
       "      <td>...</td>\n",
       "      <td>...</td>\n",
       "      <td>...</td>\n",
       "      <td>...</td>\n",
       "      <td>...</td>\n",
       "      <td>...</td>\n",
       "      <td>...</td>\n",
       "    </tr>\n",
       "    <tr>\n",
       "      <th>577</th>\n",
       "      <td>Tampa Bay Lightning</td>\n",
       "      <td>2011</td>\n",
       "      <td>38</td>\n",
       "      <td>36</td>\n",
       "      <td>8.0</td>\n",
       "      <td>0.463</td>\n",
       "      <td>235</td>\n",
       "      <td>281</td>\n",
       "      <td>-46</td>\n",
       "    </tr>\n",
       "    <tr>\n",
       "      <th>578</th>\n",
       "      <td>Toronto Maple Leafs</td>\n",
       "      <td>2011</td>\n",
       "      <td>35</td>\n",
       "      <td>37</td>\n",
       "      <td>10.0</td>\n",
       "      <td>0.427</td>\n",
       "      <td>231</td>\n",
       "      <td>264</td>\n",
       "      <td>-33</td>\n",
       "    </tr>\n",
       "    <tr>\n",
       "      <th>579</th>\n",
       "      <td>Vancouver Canucks</td>\n",
       "      <td>2011</td>\n",
       "      <td>51</td>\n",
       "      <td>22</td>\n",
       "      <td>9.0</td>\n",
       "      <td>0.622</td>\n",
       "      <td>249</td>\n",
       "      <td>198</td>\n",
       "      <td>51</td>\n",
       "    </tr>\n",
       "    <tr>\n",
       "      <th>580</th>\n",
       "      <td>Washington Capitals</td>\n",
       "      <td>2011</td>\n",
       "      <td>42</td>\n",
       "      <td>32</td>\n",
       "      <td>8.0</td>\n",
       "      <td>0.512</td>\n",
       "      <td>222</td>\n",
       "      <td>230</td>\n",
       "      <td>-8</td>\n",
       "    </tr>\n",
       "    <tr>\n",
       "      <th>581</th>\n",
       "      <td>Winnipeg Jets</td>\n",
       "      <td>2011</td>\n",
       "      <td>37</td>\n",
       "      <td>35</td>\n",
       "      <td>10.0</td>\n",
       "      <td>0.451</td>\n",
       "      <td>225</td>\n",
       "      <td>246</td>\n",
       "      <td>-21</td>\n",
       "    </tr>\n",
       "  </tbody>\n",
       "</table>\n",
       "<p>582 rows × 9 columns</p>\n",
       "</div>"
      ],
      "text/plain": [
       "               Team Name  Year  Wins  Losses  OT Losses  Win %  \\\n",
       "0          Boston Bruins  1990    44      24        NaN  0.550   \n",
       "1         Buffalo Sabres  1990    31      30        NaN  0.388   \n",
       "2         Calgary Flames  1990    46      26        NaN  0.575   \n",
       "3     Chicago Blackhawks  1990    49      23        NaN  0.613   \n",
       "4      Detroit Red Wings  1990    34      38        NaN  0.425   \n",
       "..                   ...   ...   ...     ...        ...    ...   \n",
       "577  Tampa Bay Lightning  2011    38      36        8.0  0.463   \n",
       "578  Toronto Maple Leafs  2011    35      37       10.0  0.427   \n",
       "579    Vancouver Canucks  2011    51      22        9.0  0.622   \n",
       "580  Washington Capitals  2011    42      32        8.0  0.512   \n",
       "581        Winnipeg Jets  2011    37      35       10.0  0.451   \n",
       "\n",
       "     Goals For (GF)  Goals Against (GA)  + / -  \n",
       "0               299                 264     35  \n",
       "1               292                 278     14  \n",
       "2               344                 263     81  \n",
       "3               284                 211     73  \n",
       "4               273                 298    -25  \n",
       "..              ...                 ...    ...  \n",
       "577             235                 281    -46  \n",
       "578             231                 264    -33  \n",
       "579             249                 198     51  \n",
       "580             222                 230     -8  \n",
       "581             225                 246    -21  \n",
       "\n",
       "[582 rows x 9 columns]"
      ]
     },
     "execution_count": 126,
     "metadata": {},
     "output_type": "execute_result"
    }
   ],
   "source": [
    "#followed Dr Wards video\n",
    "pd.read_html(StringIO(myreponse.text))[0]"
   ]
  },
  {
   "cell_type": "markdown",
   "id": "9fbf00fb-2418-460f-ae94-2a32b0c28952",
   "metadata": {},
   "source": [
    "Markdown notes and sentences and analysis written here."
   ]
  }
 ],
 "metadata": {
  "kernelspec": {
   "display_name": "seminar",
   "language": "python",
   "name": "python3"
  },
  "language_info": {
   "codemirror_mode": {
    "name": "ipython",
    "version": 3
   },
   "file_extension": ".py",
   "mimetype": "text/x-python",
   "name": "python",
   "nbconvert_exporter": "python",
   "pygments_lexer": "ipython3",
   "version": "3.11.5"
  }
 },
 "nbformat": 4,
 "nbformat_minor": 5
}
