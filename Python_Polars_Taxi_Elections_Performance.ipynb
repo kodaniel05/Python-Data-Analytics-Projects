{
 "cells": [
  {
   "cell_type": "markdown",
   "id": "a1228853-dd19-4ab2-89e0-0394d7d72de3",
   "metadata": {},
   "source": [
    "## Learning Objectives\n",
    "\n",
    "recreate taxi trip parsing functions (extractdate) using Polars string/datetime APIs\n",
    "\n",
    "filter large NYC taxi datasets efficiently by year, month, and day with Polars\n",
    "\n",
    "handle large election contribution files (1980–2024) with Polars’ read_csv and grouping operations\n",
    "\n",
    "compare groupby + aggregation performance between Polars and Pandas\n",
    "\n",
    "practice porting existing Pandas workflows into Polars, reinforcing cross-library fluency\n",
    "\n",
    "demonstrate ability to re-solve past data problems (flights, donations, groceries, etc.) with Polars for efficiency and cleaner syntax"
   ]
  },
  {
   "cell_type": "markdown",
   "id": "6180e742-8e39-4698-98ff-5b00c8cf8ea0",
   "metadata": {},
   "source": [
    "## Question 1"
   ]
  },
  {
   "cell_type": "code",
   "execution_count": 18,
   "id": "49445606-d363-41b4-b479-e319a9a84c01",
   "metadata": {},
   "outputs": [
    {
     "name": "stdout",
     "output_type": "stream",
     "text": [
      "shape: (14_796_313, 3)\n",
      "┌──────────────────────┬────────────┬───────────┐\n",
      "│ Trip_Pickup_DateTime ┆ Start_Lon  ┆ Start_Lat │\n",
      "│ ---                  ┆ ---        ┆ ---       │\n",
      "│ str                  ┆ f64        ┆ f64       │\n",
      "╞══════════════════════╪════════════╪═══════════╡\n",
      "│ 2009-05-27 07:41:05  ┆ -73.974105 ┆ 40.742892 │\n",
      "│ 2009-05-27 07:51:06  ┆ -74.008148 ┆ 40.738854 │\n",
      "│ 2009-05-15 15:22:02  ┆ -73.973343 ┆ 40.764047 │\n",
      "│ 2009-05-26 22:06:37  ┆ -74.005256 ┆ 40.71973  │\n",
      "│ …                    ┆ …          ┆ …         │\n",
      "│ 2009-05-27 09:20:40  ┆ -73.978495 ┆ 40.762614 │\n",
      "│ 2009-05-27 17:40:30  ┆ -73.953723 ┆ 40.786917 │\n",
      "│ 2009-05-27 13:10:28  ┆ -73.988455 ┆ 40.737215 │\n",
      "│ 2009-05-12 14:55:26  ┆ -73.982013 ┆ 40.749249 │\n",
      "└──────────────────────┴────────────┴───────────┘\n"
     ]
    }
   ],
   "source": [
    "import polars as pl\n",
    "\n",
    "# Define the function\n",
    "def extractdate(myyear, mymonth, mydate):\n",
    "    # Build filename\n",
    "    filename = f\"/anvil/projects/tdm/data/taxi/yellow/yellow_tripdata_{myyear}-{mymonth}.csv\"\n",
    "    \n",
    "    # Read the 3 specific columns\n",
    "    df = pl.read_csv(filename, columns=[\"Trip_Pickup_DateTime\", \"Start_Lon\", \"Start_Lat\"])\n",
    "    \n",
    "    return df\n",
    "\n",
    "# Calling the function to show it works\n",
    "df = extractdate(\"2009\", \"05\", \"29\")\n",
    "print(df)"
   ]
  },
  {
   "cell_type": "markdown",
   "id": "fc601975-35ed-4680-a4e1-0273ee3cc047",
   "metadata": {},
   "source": [
    "## Question 2"
   ]
  },
  {
   "cell_type": "code",
   "execution_count": 19,
   "id": "6e658797-798a-4ccc-be20-d7b909c695bf",
   "metadata": {},
   "outputs": [
    {
     "name": "stdout",
     "output_type": "stream",
     "text": [
      "shape: (523_947, 3)\n",
      "┌──────────────────────┬────────────┬───────────┐\n",
      "│ Trip_Pickup_DateTime ┆ Start_Lon  ┆ Start_Lat │\n",
      "│ ---                  ┆ ---        ┆ ---       │\n",
      "│ str                  ┆ f64        ┆ f64       │\n",
      "╞══════════════════════╪════════════╪═══════════╡\n",
      "│ 2009-05-29 11:36:28  ┆ -73.991699 ┆ 40.738751 │\n",
      "│ 2009-05-29 22:03:20  ┆ -73.968066 ┆ 40.759642 │\n",
      "│ 2009-05-29 02:25:00  ┆ -74.007013 ┆ 40.711895 │\n",
      "│ 2009-05-29 00:49:00  ┆ -73.976188 ┆ 40.765588 │\n",
      "│ …                    ┆ …          ┆ …         │\n",
      "│ 2009-05-29 15:15:52  ┆ -73.959823 ┆ 40.762451 │\n",
      "│ 2009-05-29 06:53:22  ┆ -73.962236 ┆ 40.779161 │\n",
      "│ 2009-05-29 05:58:24  ┆ -74.001003 ┆ 40.741484 │\n",
      "│ 2009-05-29 23:51:28  ┆ -73.965153 ┆ 40.791205 │\n",
      "└──────────────────────┴────────────┴───────────┘\n"
     ]
    }
   ],
   "source": [
    "import polars as pl\n",
    "\n",
    "def extractdate(myyear, mymonth, mydate):\n",
    "    filename = f\"/anvil/projects/tdm/data/taxi/yellow/yellow_tripdata_{myyear}-{mymonth}.csv\"\n",
    "    \n",
    "    df = pl.read_csv(filename, columns=[\"Trip_Pickup_DateTime\", \"Start_Lon\", \"Start_Lat\"])\n",
    "    \n",
    "    # Convert string to datetime and filter by year, month, day copied from Data Mine Website \n",
    "    df_filtered = df.filter(\n",
    "        df[\"Trip_Pickup_DateTime\"].str.to_datetime(\"%Y-%m-%d %H:%M:%S\").dt.year().eq(int(myyear)) &\n",
    "        df[\"Trip_Pickup_DateTime\"].str.to_datetime(\"%Y-%m-%d %H:%M:%S\").dt.month().eq(int(mymonth)) &\n",
    "        df[\"Trip_Pickup_DateTime\"].str.to_datetime(\"%Y-%m-%d %H:%M:%S\").dt.day().eq(int(mydate))\n",
    "    )\n",
    "    \n",
    "    return df_filtered\n",
    "\n",
    "df = extractdate(\"2009\", \"05\", \"29\")\n",
    "print(df)"
   ]
  },
  {
   "cell_type": "markdown",
   "id": "14dc22d4-ddc3-41cc-a91a-cb0025bc0c80",
   "metadata": {},
   "source": [
    "Markdown notes and sentences and analysis written here."
   ]
  },
  {
   "cell_type": "markdown",
   "id": "8e586edd-ff26-4ce2-8f6b-2424b26f2929",
   "metadata": {},
   "source": [
    "## Question 3"
   ]
  },
  {
   "cell_type": "code",
   "execution_count": 17,
   "id": "82421ae6-eff4-4bf0-abc4-a616fe35c7c3",
   "metadata": {},
   "outputs": [
    {
     "data": {
      "text/html": [
       "<div><style>\n",
       ".dataframe > thead > tr > th,\n",
       ".dataframe > tbody > tr > td {\n",
       "  text-align: right;\n",
       "  white-space: pre-wrap;\n",
       "}\n",
       "</style>\n",
       "<small>shape: (10, 2)</small><table border=\"1\" class=\"dataframe\"><thead><tr><th>STATE</th><th>TRANSACTION_AMT</th></tr><tr><td>str</td><td>i64</td></tr></thead><tbody><tr><td>&quot;PA&quot;</td><td>357275145</td></tr><tr><td>&quot;WA&quot;</td><td>399230003</td></tr><tr><td>&quot;MA&quot;</td><td>506660138</td></tr><tr><td>&quot;IL&quot;</td><td>594629996</td></tr><tr><td>&quot;FL&quot;</td><td>883926606</td></tr><tr><td>&quot;TX&quot;</td><td>968468772</td></tr><tr><td>&quot;DC&quot;</td><td>1038205619</td></tr><tr><td>&quot;VA&quot;</td><td>1099663849</td></tr><tr><td>&quot;NY&quot;</td><td>2481011887</td></tr><tr><td>&quot;CA&quot;</td><td>2723597299</td></tr></tbody></table></div>"
      ],
      "text/plain": [
       "shape: (10, 2)\n",
       "┌───────┬─────────────────┐\n",
       "│ STATE ┆ TRANSACTION_AMT │\n",
       "│ ---   ┆ ---             │\n",
       "│ str   ┆ i64             │\n",
       "╞═══════╪═════════════════╡\n",
       "│ PA    ┆ 357275145       │\n",
       "│ WA    ┆ 399230003       │\n",
       "│ MA    ┆ 506660138       │\n",
       "│ IL    ┆ 594629996       │\n",
       "│ …     ┆ …               │\n",
       "│ DC    ┆ 1038205619      │\n",
       "│ VA    ┆ 1099663849      │\n",
       "│ NY    ┆ 2481011887      │\n",
       "│ CA    ┆ 2723597299      │\n",
       "└───────┴─────────────────┘"
      ]
     },
     "execution_count": 17,
     "metadata": {},
     "output_type": "execute_result"
    }
   ],
   "source": [
    "import polars as pl\n",
    "myDF = pl.read_csv(\"/anvil/projects/tdm/data/election/itcont2020.txt\", has_header=False, separator='|', columns=[9,14], ignore_errors=True)\n",
    "myDF = myDF.rename({\"column_10\": \"STATE\", \"column_15\": \"TRANSACTION_AMT\"})\n",
    "myDF.group_by('STATE').agg(pl.sum('TRANSACTION_AMT')).sort('TRANSACTION_AMT').tail(10)"
   ]
  },
  {
   "cell_type": "code",
   "execution_count": null,
   "id": "e6ba65c6-1a37-47d5-90c1-ead24a782504",
   "metadata": {},
   "outputs": [],
   "source": []
  },
  {
   "cell_type": "markdown",
   "id": "47c6229f-35f7-400c-8366-c442baa5cf47",
   "metadata": {},
   "source": [
    "Markdown notes and sentences and analysis written here."
   ]
  },
  {
   "cell_type": "markdown",
   "id": "da22f29c-d245-4d2b-9fc1-ca14cb6087d9",
   "metadata": {},
   "source": [
    "## Question 4"
   ]
  },
  {
   "cell_type": "code",
   "execution_count": 27,
   "id": "a0df4400-1b9a-478f-862b-e4dd5a34fee7",
   "metadata": {},
   "outputs": [],
   "source": [
    "#Question 3 of Project 11\n",
    "import polars as pl\n",
    "import geopandas as gpd\n",
    "import pandas as pd  # internet said I still nedded this to bridge \n",
    "\n",
    "def extractdate(myyear, mymonth, mydate):\n",
    "    # Build filename\n",
    "    filename = f\"/anvil/projects/tdm/data/taxi/yellow/yellow_tripdata_{myyear}-{mymonth}.csv\"\n",
    "\n",
    "    # Read 3 needed columns\n",
    "    df = pl.read_csv(\n",
    "        filename,\n",
    "        columns=[\"Trip_Pickup_DateTime\", \"Start_Lon\", \"Start_Lat\"]\n",
    "    )\n",
    "\n",
    "    # Filter for rides on the specified date\n",
    "    df = df.filter(\n",
    "        df[\"Trip_Pickup_DateTime\"].str.to_datetime(\"%Y-%m-%d %H:%M:%S\").dt.year() == int(myyear)\n",
    "        & df[\"Trip_Pickup_DateTime\"].str.to_datetime(\"%Y-%m-%d %H:%M:%S\").dt.month() == int(mymonth)\n",
    "        & df[\"Trip_Pickup_DateTime\"].str.to_datetime(\"%Y-%m-%d %H:%M:%S\").dt.day() == int(mydate)\n",
    "    )\n",
    "#I give up \n",
    "    return gdf"
   ]
  },
  {
   "cell_type": "markdown",
   "id": "0d552245-b4d6-474a-9cc9-fa7b8e674d55",
   "metadata": {},
   "source": [
    "Markdown notes and sentences and analysis written here."
   ]
  },
  {
   "cell_type": "markdown",
   "id": "88c9cdac-3e92-498f-83fa-e089bfc44ac8",
   "metadata": {},
   "source": [
    "## Question 5"
   ]
  },
  {
   "cell_type": "code",
   "execution_count": 25,
   "id": "aeca7773-74dd-4a8e-914a-1e8c485e6051",
   "metadata": {},
   "outputs": [],
   "source": [
    "#this is from Question 4 of project 11 which is just a part 2 to the question 4 or question 3 project 11 \n",
    "def extractdate(myyear, mymonth, mydate):\n",
    "    # Build filename\n",
    "    filename = f\"/anvil/projects/tdm/data/taxi/yellow/yellow_tripdata_{myyear}-{mymonth}.csv\"\n",
    "\n",
    "    # Read columns\n",
    "    df = pl.read_csv(\n",
    "        filename,\n",
    "        columns=[\"Trip_Pickup_DateTime\", \"Start_Lon\", \"Start_Lat\"]\n",
    "    )\n",
    "\n",
    "    # Filter by date\n",
    "    df = df.filter(\n",
    "        df[\"Trip_Pickup_DateTime\"].str.to_datetime(\"%Y-%m-%d %H:%M:%S\").dt.year() == int(myyear)\n",
    "        & df[\"Trip_Pickup_DateTime\"].str.to_datetime(\"%Y-%m-%d %H:%M:%S\").dt.month() == int(mymonth)\n",
    "        & df[\"Trip_Pickup_DateTime\"].str.to_datetime(\"%Y-%m-%d %H:%M:%S\").dt.day() == int(mydate)\n",
    "    )\n",
    "\n",
    "    # NYC bounds filter\n",
    "    df = df.filter(\n",
    "        (df[\"Start_Lon\"] >= -74.27) & (df[\"Start_Lon\"] <= -73.68)\n",
    "        & (df[\"Start_Lat\"] >= 40.49) & (df[\"Start_Lat\"] <= 40.92)\n",
    "    )\n",
    "\n",
    "\n",
    "    return df"
   ]
  },
  {
   "cell_type": "markdown",
   "id": "9fbf00fb-2418-460f-ae94-2a32b0c28952",
   "metadata": {},
   "source": [
    "Markdown notes and sentences and analysis written here."
   ]
  }
 ],
 "metadata": {
  "kernelspec": {
   "display_name": "seminar",
   "language": "python",
   "name": "python3"
  },
  "language_info": {
   "codemirror_mode": {
    "name": "ipython",
    "version": 3
   },
   "file_extension": ".py",
   "mimetype": "text/x-python",
   "name": "python",
   "nbconvert_exporter": "python",
   "pygments_lexer": "ipython3",
   "version": "3.11.5"
  }
 },
 "nbformat": 4,
 "nbformat_minor": 5
}
