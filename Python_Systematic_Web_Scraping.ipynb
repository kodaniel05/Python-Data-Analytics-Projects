{
 "cells": [
  {
   "cell_type": "markdown",
   "id": "a1228853-dd19-4ab2-89e0-0394d7d72de3",
   "metadata": {},
   "source": [
    "## Learning objectives\n",
    "\n",
    "build systematic scrapers with lxml (xpath) and BeautifulSoup\n",
    "\n",
    "extract targeted text with xpath filters (e.g., exclude classes via not(@class=...))\n",
    "\n",
    "assemble per-state park tables (type, name, location, description) into pandas DataFrames\n",
    "\n",
    "write a reusable function mystateparkinformation(state_code) that returns a 4-column DataFrame\n",
    "\n",
    "generate the full state code list from NPS with xpath, then map the function over all states\n",
    "\n",
    "concatenate a list of 56 DataFrames into one dataset and validate row counts (head/tail)"
   ]
  },
  {
   "cell_type": "markdown",
   "id": "6180e742-8e39-4698-98ff-5b00c8cf8ea0",
   "metadata": {},
   "source": [
    "## Question 1"
   ]
  },
  {
   "cell_type": "code",
   "execution_count": 1,
   "id": "49445606-d363-41b4-b479-e319a9a84c01",
   "metadata": {},
   "outputs": [],
   "source": [
    "import requests\n",
    "import pandas as pd\n",
    "from lxml import html"
   ]
  },
  {
   "cell_type": "code",
   "execution_count": 2,
   "id": "0c072840-2ed8-493d-83e2-24f5238f2446",
   "metadata": {},
   "outputs": [],
   "source": [
    "myresponse = requests.get(\"https://www.nps.gov/state/in/index.htm\")"
   ]
  },
  {
   "cell_type": "code",
   "execution_count": 3,
   "id": "b5e15523-fc48-418d-92a9-9c873cf13466",
   "metadata": {},
   "outputs": [],
   "source": [
    "mytree = html.fromstring(myresponse.content)"
   ]
  },
  {
   "cell_type": "code",
   "execution_count": 4,
   "id": "2e94d119-1103-4ee8-bcbc-0e54d16e0e44",
   "metadata": {},
   "outputs": [
    {
     "data": {
      "text/plain": [
       "['The British flag would not be raised above Fort Sackville Feb. 25, 1779. At 10 A.M., the garrison surrendered to American Colonel George Rogers Clark. His American army, aided by French residents of the Illinois country, had marched through freezing floodwaters to gain this victory. The fort’s capture assured United States claims to the frontier, an area nearly as large as the original 13 states. ',\n",
       " \"Lake Michigan's might has influenced Indiana Dunes for millennia. Wind and waves have shaped the land, leaving a rich mosaic of habitats along these 15 miles of Indiana coast. Over 50 miles of trails lead through shifting sand dunes, quiet woodlands, sunny prairies and lush wetlands. Known for its striking plant and bird diversity, it's easy to find inspiration throughout the park’s 15,000 acres. \",\n",
       " 'The Lewis and Clark National Historic Trail winds nearly 4,900 miles through the homelands of more than 60 Tribal nations. It follows the historic outbound and inbound routes of the Lewis and Clark Expedition of 1803-1806 from Pittsburgh, Pennsylvania to the Pacific Ocean. Follow the trail to find the people, places, and stories that make up the complex legacy of the expedition. ',\n",
       " \"Abraham Lincoln grew from youth to manhood on this southern Indiana soil.  Many character and moral traits of one of the world's most respected leaders was formed and nurtured here.  Explore Lincoln's boyhood and learn about the boy who would one day become the leader of our nation. \"]"
      ]
     },
     "execution_count": 4,
     "metadata": {},
     "output_type": "execute_result"
    }
   ],
   "source": [
    "[element.text for element in mytree.xpath('//div[@class = \"list_left\"]/p[not(@class = \"list_left__kicker\") and not(@class=\"list_left__subtitle\")]')]"
   ]
  },
  {
   "cell_type": "markdown",
   "id": "b456e57c-4a12-464b-999a-ef2df5af80c1",
   "metadata": {},
   "source": [
    "Markdown notes and sentences and analysis written here."
   ]
  },
  {
   "cell_type": "markdown",
   "id": "fc601975-35ed-4680-a4e1-0273ee3cc047",
   "metadata": {},
   "source": [
    "## Question 2"
   ]
  },
  {
   "cell_type": "code",
   "execution_count": 6,
   "id": "a16336a1-1ef0-41e8-bc7c-49387db27497",
   "metadata": {},
   "outputs": [],
   "source": [
    "import requests\n",
    "import pandas as pd\n",
    "from lxml import html"
   ]
  },
  {
   "cell_type": "code",
   "execution_count": 7,
   "id": "2f8ec241-73fe-4811-a37d-ec002e6fdb18",
   "metadata": {},
   "outputs": [],
   "source": [
    "#Pulling data\n",
    "myresponse = requests.get(\"https://www.nps.gov/state/in/index.htm\")"
   ]
  },
  {
   "cell_type": "code",
   "execution_count": 9,
   "id": "736a280d-918a-40b8-b6e6-1c0d31c71b6b",
   "metadata": {},
   "outputs": [],
   "source": [
    "#Name the myTree\n",
    "mytree = html.fromstring(myresponse.content)"
   ]
  },
  {
   "cell_type": "code",
   "execution_count": 10,
   "id": "4ae29d04-64e6-437a-b1fc-43975d201da4",
   "metadata": {},
   "outputs": [],
   "source": [
    "#pulling just paragraph text\n",
    "Paragraph = [element.text for element in mytree.xpath('//div[@class = \"list_left\"]/p[not(@class = \"list_left__kicker\") and not(@class=\"list_left__subtitle\")]')]"
   ]
  },
  {
   "cell_type": "code",
   "execution_count": 11,
   "id": "c01533be-c12f-4494-8e74-a616c942035d",
   "metadata": {},
   "outputs": [],
   "source": [
    "#Pulling the type of park and naming it\n",
    "TypeParks = [element.text for element in mytree.xpath('//div[@class = \"list_left\"]/p[@class = \"list_left__kicker\"]')]"
   ]
  },
  {
   "cell_type": "code",
   "execution_count": 12,
   "id": "15bdb1d0-5939-41b1-8f19-abf464319704",
   "metadata": {},
   "outputs": [],
   "source": [
    "#Pulling the name of the park and naming it\n",
    "NamesOfParks = [element.text for element in mytree.xpath('//div[@class = \"list_left\"]/h3/a')]"
   ]
  },
  {
   "cell_type": "code",
   "execution_count": 13,
   "id": "4b417a41-dc64-4226-b0b2-a8928ffc07ca",
   "metadata": {},
   "outputs": [],
   "source": [
    "#Pulling the location of the parks and naming it\n",
    "NamesOfLocation = [element.text for element in mytree.xpath('//div[@class = \"list_left\"]/p[@class = \"list_left__subtitle\"]')]"
   ]
  },
  {
   "cell_type": "code",
   "execution_count": 14,
   "id": "6995ef61-160e-4eec-a478-6f3a3cf71a35",
   "metadata": {},
   "outputs": [],
   "source": [
    "#As with the other creations of the Dataframes, I used the same style this time though just adding two column\n",
    "GreatParkIN = pd.DataFrame({\n",
    "        \"Types of Parks\": TypeParks,\n",
    "        \"Name\": NamesOfParks,\n",
    "        \"Location\": NamesOfLocation,\n",
    "        \"Information\": Paragraph\n",
    "    })"
   ]
  },
  {
   "cell_type": "code",
   "execution_count": 15,
   "id": "e8a429ac-1758-4356-aeb2-14996d393161",
   "metadata": {},
   "outputs": [
    {
     "name": "stdout",
     "output_type": "stream",
     "text": [
      "             Types of Parks                 Name  \\\n",
      "0  National Historical Park  George Rogers Clark   \n",
      "1             National Park        Indiana Dunes   \n",
      "2   National Historic Trail        Lewis & Clark   \n",
      "3         National Memorial      Lincoln Boyhood   \n",
      "\n",
      "                                            Location  \\\n",
      "0                                     Vincennes, IN    \n",
      "1                                        Porter, IN    \n",
      "2  Sixteen States: IA,ID,IL,IN,KS,KY,MO,MT,NE,ND,...   \n",
      "3                                  Lincoln City, IN    \n",
      "\n",
      "                                         Information  \n",
      "0  The British flag would not be raised above For...  \n",
      "1  Lake Michigan's might has influenced Indiana D...  \n",
      "2  The Lewis and Clark National Historic Trail wi...  \n",
      "3  Abraham Lincoln grew from youth to manhood on ...  \n"
     ]
    }
   ],
   "source": [
    "#Part a. making 4 columns 4 rows\n",
    "print(GreatParkIN)"
   ]
  },
  {
   "cell_type": "code",
   "execution_count": 16,
   "id": "d493f67b-716d-4ef4-87f5-aa5a934849b8",
   "metadata": {},
   "outputs": [],
   "source": [
    "#Part b. Instead of IN do ca\n",
    "myresponse = requests.get(\"https://www.nps.gov/state/ca/index.htm\")"
   ]
  },
  {
   "cell_type": "code",
   "execution_count": 17,
   "id": "e0644d3e-8e63-4bb0-b8ad-9410226fca77",
   "metadata": {},
   "outputs": [],
   "source": [
    "mytree = html.fromstring(myresponse.content)"
   ]
  },
  {
   "cell_type": "code",
   "execution_count": 18,
   "id": "fec8a8fc-789e-44c5-96fe-7f7b9c5fa097",
   "metadata": {},
   "outputs": [],
   "source": [
    "#These can stay the same since I am pulling the same info just from ca rather than in\n",
    "Paragraph = [element.text for element in mytree.xpath('//div[@class = \"list_left\"]/p[not(@class = \"list_left__kicker\") and not(@class=\"list_left__subtitle\")]')]"
   ]
  },
  {
   "cell_type": "code",
   "execution_count": 19,
   "id": "1fc7629a-4847-4574-b96c-5934b3ea122c",
   "metadata": {},
   "outputs": [],
   "source": [
    "#These can stay the same since I am pulling the same info just from ca rather than in\n",
    "TypeParks = [element.text for element in mytree.xpath('//div[@class = \"list_left\"]/p[@class = \"list_left__kicker\"]')]"
   ]
  },
  {
   "cell_type": "code",
   "execution_count": 20,
   "id": "d90a4123-9ea6-4573-9cd9-1ada6d4e2277",
   "metadata": {},
   "outputs": [],
   "source": [
    "#These can stay the same since I am pulling the same info just from ca rather than in\n",
    "NamesOfParks = [element.text for element in mytree.xpath('//div[@class = \"list_left\"]/h3/a')]"
   ]
  },
  {
   "cell_type": "code",
   "execution_count": 21,
   "id": "af29298b-a1f8-476c-9976-1936e2dcb7e1",
   "metadata": {},
   "outputs": [],
   "source": [
    "#These can stay the same since I am pulling the same info just from ca rather than in\n",
    "NamesOfLocation = [element.text for element in mytree.xpath('//div[@class = \"list_left\"]/p[@class = \"list_left__subtitle\"]')]"
   ]
  },
  {
   "cell_type": "code",
   "execution_count": 22,
   "id": "c077d443-50c1-47a1-a4d1-3de9277b4273",
   "metadata": {},
   "outputs": [],
   "source": [
    "#Again I just copied this from question 5 of project 2. I didn't change the names since all I had to do differently was pull from ca instead of in so my code didn't have to change\n",
    "GreatParkCA = pd.DataFrame({\n",
    "        \"Types of Parks\": TypeParks,\n",
    "        \"Name\": NamesOfParks,\n",
    "        \"Location\": NamesOfLocation,\n",
    "        \"Information\": Paragraph\n",
    "    })"
   ]
  },
  {
   "cell_type": "code",
   "execution_count": 23,
   "id": "515dee91-7433-4189-beca-459ef4e220f1",
   "metadata": {},
   "outputs": [
    {
     "name": "stdout",
     "output_type": "stream",
     "text": [
      "              Types of Parks                               Name  \\\n",
      "0                       None                    Alcatraz Island   \n",
      "1    National Historic Trail               Butterfield Overland   \n",
      "2          National Monument                           Cabrillo   \n",
      "3    National Historic Trail                         California   \n",
      "4          National Monument                   Castle Mountains   \n",
      "5          National Monument                    César E. Chávez   \n",
      "6              National Park                    Channel Islands   \n",
      "7              National Park                       Death Valley   \n",
      "8          National Monument                    Devils Postpile   \n",
      "9     National Historic Site                     Eugene O'Neill   \n",
      "10    National Historic Site                         Fort Point   \n",
      "11  National Recreation Area                        Golden Gate   \n",
      "12    National Historic Site                          John Muir   \n",
      "13             National Park                        Joshua Tree   \n",
      "14   National Historic Trail              Juan Bautista de Anza   \n",
      "15             National Park                    Lassen Volcanic   \n",
      "16         National Monument                          Lava Beds   \n",
      "17    National Historic Site                           Manzanar   \n",
      "18         National Preserve                             Mojave   \n",
      "19         National Monument                         Muir Woods   \n",
      "20   National Historic Trail                        Old Spanish   \n",
      "21             National Park                          Pinnacles   \n",
      "22         National Seashore                        Point Reyes   \n",
      "23   National Historic Trail                       Pony Express   \n",
      "24         National Memorial        Port Chicago Naval Magazine   \n",
      "25                      None          Presidio of San Francisco   \n",
      "26  National and State Parks                            Redwood   \n",
      "27  National Historical Park  Rosie the Riveter WWII Home Front   \n",
      "28  National Historical Park             San Francisco Maritime   \n",
      "29  National Recreation Area             Santa Monica Mountains   \n",
      "30            National Parks             Sequoia & Kings Canyon   \n",
      "31         National Monument                          Tule Lake   \n",
      "32  National Recreation Area                        Whiskeytown   \n",
      "33             National Park                           Yosemite   \n",
      "\n",
      "                                             Location  \\\n",
      "0                                  San Francisco, CA    \n",
      "1                         MO, AR, OK, TX, NM, AZ, CA    \n",
      "2                                      San Diego, CA    \n",
      "3       Various States CA,CO,ID,KS,MO,NE,NV,OR,UT,WY    \n",
      "4                                        Barstow, CA    \n",
      "5                                                 CA    \n",
      "6                                        Ventura, CA    \n",
      "7                                Death Valley, CA,NV    \n",
      "8       the Sierra Nevada near     Mammoth Lakes, CA    \n",
      "9                                       Danville, CA    \n",
      "10                     Presidio of San Francisco, CA    \n",
      "11                                 San Francisco, CA    \n",
      "12                                      Martinez, CA    \n",
      "13  Southern California between I-10 and Hwy 62; h...   \n",
      "14           Nogales, AZ to San Francisco, CA, AZ,CA    \n",
      "15                                       Mineral, CA    \n",
      "16                                      Tulelake, CA    \n",
      "17                                  Independence, CA    \n",
      "18  Southern California between I-15 and I-40; hea...   \n",
      "19                                   Mill Valley, CA    \n",
      "20                                 AZ,CA,CO,NV,NM,UT    \n",
      "21                                      Paicines, CA    \n",
      "22                                   Point Reyes, CA    \n",
      "23            Various States CA,CO,KS,MO,NE,NV,UT,WY    \n",
      "24                 Concord Naval Weapons Station, CA    \n",
      "25                                 San Francisco, CA    \n",
      "26                Del Norte & Humboldt counties , CA    \n",
      "27                                      Richmond, CA    \n",
      "28                                 San Francisco, CA    \n",
      "29                                 Thousand Oaks, CA    \n",
      "30  In the southern Sierra Nevada in Tulare and Fr...   \n",
      "31                                      Tulelake, CA    \n",
      "32                                   Whiskeytown, CA    \n",
      "33                             the Sierra Nevada, CA    \n",
      "\n",
      "                                          Information  \n",
      "0   Alcatraz reveals stories of American incarcera...  \n",
      "1   In 1857, businessman and transportation entrep...  \n",
      "2   In 1542, Juan Rodriguez Cabrillo climbed out o...  \n",
      "3   Follow in the footsteps of over 250,000 emigra...  \n",
      "4   Castle Mountains represents some of the most u...  \n",
      "5   Yes, we can!\\nWidely recognized as the most im...  \n",
      "6   Channel Islands National Park encompasses five...  \n",
      "7   In this below-sea-level basin, steady drought ...  \n",
      "8   Established in 1911 by presidential proclamati...  \n",
      "9   America's only Nobel Prize-winning playwright,...  \n",
      "10  From its vantage point overlooking the spectac...  \n",
      "11  Experience a park so rich it supports 19 disti...  \n",
      "12  John Muir’s life was a tapestry of roles—fruit...  \n",
      "13  Two distinct desert ecosystems, the Mojave and...  \n",
      "14  The Juan Bautista de Anza National Historic Tr...  \n",
      "15  Lassen Volcanic National Park is home to steam...  \n",
      "16  Lava Beds National Monument is a land of turmo...  \n",
      "17  In 1942, the United States government ordered ...  \n",
      "18  Mojave preserves a diverse mosaic of ecologica...  \n",
      "19  Walk among old growth coast redwoods, cooling ...  \n",
      "20  Follow the routes of mule pack trains across t...  \n",
      "21  Around 23 million years ago, a series of volca...  \n",
      "22  From its thunderous ocean breakers crashing ag...  \n",
      "23  It is hard to believe that young men once rode...  \n",
      "24  On July 17, 1944, a massive explosion jolted t...  \n",
      "25  For 218 years, the Presidio served as an army ...  \n",
      "26  Renowned for the world’s tallest trees, Redwoo...  \n",
      "27  Celebrate and honor the contributions and sacr...  \n",
      "28  Established in 1988, San Francisco Maritime Na...  \n",
      "29  The Santa Monica Mountains offer easy access t...  \n",
      "30  Huge mountains, rugged foothills, deep canyons...  \n",
      "31  Tule Lake National Monument includes both Tule...  \n",
      "32  Whiskeytown Lake’s crystal-clear waters are ic...  \n",
      "33  Not just a great valley, but a shrine to human...  \n"
     ]
    }
   ],
   "source": [
    "#Part b done\n",
    "print(GreatParkCA)"
   ]
  },
  {
   "cell_type": "code",
   "execution_count": 24,
   "id": "de7dd39b-f567-4f28-b4c3-1b0320d555bc",
   "metadata": {},
   "outputs": [],
   "source": [
    "#Part c final using tx. Putting tx instead of ca or in\n",
    "myresponse = requests.get(\"https://www.nps.gov/state/tx/index.htm\")"
   ]
  },
  {
   "cell_type": "code",
   "execution_count": 25,
   "id": "e732313a-2ebd-427a-bfe6-c7bb95e2c16a",
   "metadata": {},
   "outputs": [],
   "source": [
    "mytree = html.fromstring(myresponse.content)"
   ]
  },
  {
   "cell_type": "code",
   "execution_count": 26,
   "id": "4df7f3b3-b10e-447d-8ac0-7927c4a71d48",
   "metadata": {},
   "outputs": [],
   "source": [
    "#These can stay the same since I am pulling the same info just from tx rather than in or ca\n",
    "Paragraph = [element.text for element in mytree.xpath('//div[@class = \"list_left\"]/p[not(@class = \"list_left__kicker\") and not(@class=\"list_left__subtitle\")]')]"
   ]
  },
  {
   "cell_type": "code",
   "execution_count": 27,
   "id": "05ab7c3a-a242-4733-8dcf-183ca7fc2bfd",
   "metadata": {},
   "outputs": [],
   "source": [
    "#These can stay the same since I am pulling the same info just from tx rather than ca or in\n",
    "TypeParks = [element.text for element in mytree.xpath('//div[@class = \"list_left\"]/p[@class = \"list_left__kicker\"]')]"
   ]
  },
  {
   "cell_type": "code",
   "execution_count": 28,
   "id": "9abc1387-a2c0-4073-9c1f-5d11b39346ef",
   "metadata": {},
   "outputs": [],
   "source": [
    "#These can stay the same since I am pulling the same info just from tx rather than ca or in\n",
    "NamesOfParks = [element.text for element in mytree.xpath('//div[@class = \"list_left\"]/h3/a')]"
   ]
  },
  {
   "cell_type": "code",
   "execution_count": 29,
   "id": "d3f178b1-056a-43d9-9dd7-b14428017d85",
   "metadata": {},
   "outputs": [],
   "source": [
    "#These can stay the same since I am pulling the same info just from tx rather than ca or in\n",
    "NamesOfLocation = [element.text for element in mytree.xpath('//div[@class = \"list_left\"]/p[@class = \"list_left__subtitle\"]')]"
   ]
  },
  {
   "cell_type": "code",
   "execution_count": 30,
   "id": "14a29554-3d75-402a-b922-bdbefaecdbdb",
   "metadata": {},
   "outputs": [],
   "source": [
    "#Again I just copied this from question 5 of project 2. I didn't change the names since all I had to do differently was pull from tx instead of in or ca so my code didn't have to change\n",
    "GreatParkTX = pd.DataFrame({\n",
    "        \"Types of Parks\": TypeParks,\n",
    "        \"Name\": NamesOfParks,\n",
    "        \"Location\": NamesOfLocation,\n",
    "        \"Information\": Paragraph\n",
    "    })"
   ]
  },
  {
   "cell_type": "code",
   "execution_count": 31,
   "id": "4af67e11-2099-4e9d-9786-368767379e91",
   "metadata": {},
   "outputs": [
    {
     "name": "stdout",
     "output_type": "stream",
     "text": [
      "              Types of Parks                              Name  \\\n",
      "0          National Monument           Alibates Flint Quarries   \n",
      "1   National Recreation Area                           Amistad   \n",
      "2              National Park                          Big Bend   \n",
      "3          National Preserve                       Big Thicket   \n",
      "4     National Historic Site                  Blackwell School   \n",
      "5    National Historic Trail              Butterfield Overland   \n",
      "6          National Memorial                          Chamizal   \n",
      "7    National Historic Trail       El Camino Real de los Tejas   \n",
      "8    National Historic Trail  El Camino Real de Tierra Adentro   \n",
      "9     National Historic Site                        Fort Davis   \n",
      "10             National Park               Guadalupe Mountains   \n",
      "11  National Recreation Area                     Lake Meredith   \n",
      "12  National Historical Park                  Lyndon B Johnson   \n",
      "13         National Seashore                      Padre Island   \n",
      "14  National Historical Park             Palo Alto Battlefield   \n",
      "15       Wild & Scenic River                        Rio Grande   \n",
      "16  National Historical Park              San Antonio Missions   \n",
      "17         National Monument                      Waco Mammoth   \n",
      "\n",
      "                               Location  \\\n",
      "0                           Fritch, TX    \n",
      "1                          Del Rio, TX    \n",
      "2   The big bend of the Rio Grande, TX    \n",
      "3                         Beaumont, TX    \n",
      "4                                   TX    \n",
      "5           MO, AR, OK, TX, NM, AZ, CA    \n",
      "6                          El Paso, TX    \n",
      "7                 Various States TX,LA    \n",
      "8                                NM,TX    \n",
      "9                       Fort Davis, TX    \n",
      "10                       Salt Flat, TX    \n",
      "11                          Fritch, TX    \n",
      "12                    Johnson City, TX    \n",
      "13                  Corpus Christi, TX    \n",
      "14                     Brownsville, TX    \n",
      "15                 Southwest Texas, TX    \n",
      "16                     San Antonio, TX    \n",
      "17                            Waco, TX    \n",
      "\n",
      "                                          Information  \n",
      "0   13,000 years ago, Alibates was used by mammoth...  \n",
      "1   An oasis in the desert, Amistad National Recre...  \n",
      "2   There is a place in Far West Texas where night...  \n",
      "3   Life of all types abounds in the Big Thicket. ...  \n",
      "4   Written by prejudice rather than law, the stor...  \n",
      "5   In 1857, businessman and transportation entrep...  \n",
      "6   Chamizal is more than just an urban park to re...  \n",
      "7   Explore a diverse array of histories contained...  \n",
      "8   Travel along El Camino Real de Tierra Adentro ...  \n",
      "9   Fort Davis is one of the best surviving exampl...  \n",
      "10  Come experience mountains and canyons, desert ...  \n",
      "11  Within the dry plains of the Texas Panhandle l...  \n",
      "12  ---Lyndon Baines Johnson\\nLyndon B. Johnson Na...  \n",
      "13  Protecting sixty-six miles of wild coastline a...  \n",
      "14  On May 8, 1846, U.S. and Mexican troops clashe...  \n",
      "15  For 196 miles, this free-flowing stretch of th...  \n",
      "16  Welcome to San Antonio Missions, a National Pa...  \n",
      "17  Standing as tall as 14 feet and weighing 20,00...  \n"
     ]
    }
   ],
   "source": [
    "print(GreatParkTX)"
   ]
  },
  {
   "cell_type": "markdown",
   "id": "14dc22d4-ddc3-41cc-a91a-cb0025bc0c80",
   "metadata": {},
   "source": [
    "Markdown notes and sentences and analysis written here."
   ]
  },
  {
   "cell_type": "markdown",
   "id": "8e586edd-ff26-4ce2-8f6b-2424b26f2929",
   "metadata": {},
   "source": [
    "## Question 3"
   ]
  },
  {
   "cell_type": "code",
   "execution_count": 33,
   "id": "bbe0f40d-9655-4653-9ca8-886bdb61cb91",
   "metadata": {},
   "outputs": [
    {
     "ename": "NameError",
     "evalue": "name 'mystateparkinformation' is not defined",
     "output_type": "error",
     "traceback": [
      "\u001b[0;31m---------------------------------------------------------------------------\u001b[0m",
      "\u001b[0;31mNameError\u001b[0m                                 Traceback (most recent call last)",
      "Cell \u001b[0;32mIn[33], line 1\u001b[0m\n\u001b[0;32m----> 1\u001b[0m \u001b[43mmystateparkinformation\u001b[49m(\u001b[38;5;124m'\u001b[39m\u001b[38;5;124min\u001b[39m\u001b[38;5;124m'\u001b[39m)\n",
      "\u001b[0;31mNameError\u001b[0m: name 'mystateparkinformation' is not defined"
     ]
    }
   ],
   "source": [
    "mystateparkinformation('in')"
   ]
  },
  {
   "cell_type": "markdown",
   "id": "47c6229f-35f7-400c-8366-c442baa5cf47",
   "metadata": {},
   "source": [
    "Markdown notes and sentences and analysis written here."
   ]
  },
  {
   "cell_type": "markdown",
   "id": "da22f29c-d245-4d2b-9fc1-ca14cb6087d9",
   "metadata": {},
   "source": [
    "## Question 4"
   ]
  },
  {
   "cell_type": "code",
   "execution_count": 34,
   "id": "8cffc767-d1c8-4d64-b7dc-f0d2ee8a80d1",
   "metadata": {},
   "outputs": [],
   "source": [
    "mystatelist = [element.attrib['href'].split('/')[2] for element in mytree.xpath('//a[@class = \"dropdown-item dropdown-state\"]')]"
   ]
  },
  {
   "cell_type": "code",
   "execution_count": 36,
   "id": "f673c291-9500-42b7-900e-b3c840ef6b66",
   "metadata": {},
   "outputs": [],
   "source": [
    "mylistofdataframes = [mystateparkinformation(element) for element in mystatelist]"
   ]
  },
  {
   "cell_type": "code",
   "execution_count": 37,
   "id": "dc4c76c1-9406-4452-a3b5-5624afdc3990",
   "metadata": {},
   "outputs": [
    {
     "data": {
      "text/plain": [
       "[]"
      ]
     },
     "execution_count": 37,
     "metadata": {},
     "output_type": "execute_result"
    }
   ],
   "source": [
    "mylistofdataframes"
   ]
  }
 ],
 "metadata": {
  "kernelspec": {
   "display_name": "seminar",
   "language": "python",
   "name": "python3"
  },
  "language_info": {
   "codemirror_mode": {
    "name": "ipython",
    "version": 3
   },
   "file_extension": ".py",
   "mimetype": "text/x-python",
   "name": "python",
   "nbconvert_exporter": "python",
   "pygments_lexer": "ipython3",
   "version": "3.11.5"
  }
 },
 "nbformat": 4,
 "nbformat_minor": 5
}
