{
 "cells": [
  {
   "cell_type": "markdown",
   "id": "a1228853-dd19-4ab2-89e0-0394d7d72de3",
   "metadata": {},
   "source": [
    "## Learning Objectives\n",
    "\n",
    "aggregate flight data across multiple yearly CSVs (1987–2008) to compute airport- and state-level totals\n",
    "\n",
    "join flight origin counts with airport metadata (airports.csv) and state shapefiles to produce choropleth maps\n",
    "\n",
    "visualize airport point locations with latitude/longitude on top of state boundaries\n",
    "\n",
    "aggregate campaign donation data across multiple election years (1980–2024) from text-delimited files\n",
    "\n",
    "compute state-level totals for donations and highlight top states using thematic mapping\n",
    "\n",
    "practice combining tabular data (pandas) with geospatial plotting (geopandas) for real-world datasets"
   ]
  },
  {
   "cell_type": "code",
   "execution_count": 1,
   "id": "f545905b-6790-4034-a9dc-a8c9edca448f",
   "metadata": {},
   "outputs": [],
   "source": [
    "import pandas as pd\n",
    "import geopandas as gpd"
   ]
  },
  {
   "cell_type": "markdown",
   "id": "6180e742-8e39-4698-98ff-5b00c8cf8ea0",
   "metadata": {},
   "source": [
    "## Question 1"
   ]
  },
  {
   "cell_type": "code",
   "execution_count": 2,
   "id": "49445606-d363-41b4-b479-e319a9a84c01",
   "metadata": {},
   "outputs": [],
   "source": [
    "#A function that will read csv and return count\n",
    "def total_flights_by_origin(year: int) -> pd.Series:\n",
    "    df = pd.read_csv(f\"/anvil/projects/tdm/data/flights/subset/{year}.csv\", usecols=[16])\n",
    "    return df['Origin'].value_counts()"
   ]
  },
  {
   "cell_type": "code",
   "execution_count": 3,
   "id": "f7b49b38-63fd-40bf-b9fb-af7d9c826717",
   "metadata": {},
   "outputs": [],
   "source": [
    "# Combine data from 1987–2008\n",
    "all_counts = list(map(total_flights_by_origin, range(1987, 2009)))\n",
    "total_by_origin = pd.concat(all_counts, axis=1).fillna(0).sum(axis=1).astype(int)"
   ]
  },
  {
   "cell_type": "code",
   "execution_count": 4,
   "id": "fcea29b0-1964-498f-bbbf-8ea2422be9df",
   "metadata": {},
   "outputs": [],
   "source": [
    "#Will sort values\n",
    "top_10_airports = total_by_origin.sort_values().head(10)"
   ]
  },
  {
   "cell_type": "code",
   "execution_count": 5,
   "id": "0485740b-b08d-43ed-8b21-f4159cdcec1a",
   "metadata": {},
   "outputs": [
    {
     "data": {
      "text/plain": [
       "[Origin\n",
       " ORD    67216\n",
       " ATL    66309\n",
       " DFW    51860\n",
       " LAX    45646\n",
       " DEN    43376\n",
       "        ...  \n",
       " FOE       57\n",
       " YAP       50\n",
       " GUC       29\n",
       " ILG       29\n",
       " PIR        1\n",
       " Name: count, Length: 237, dtype: int64,\n",
       " Origin\n",
       " ORD    271494\n",
       " ATL    259731\n",
       " DFW    216849\n",
       " LAX    169696\n",
       " DEN    161146\n",
       "         ...  \n",
       " GST        86\n",
       " RDD        19\n",
       " ACV        19\n",
       " ROP         1\n",
       " BFI         1\n",
       " Name: count, Length: 238, dtype: int64,\n",
       " Origin\n",
       " ORD    261259\n",
       " DFW    228360\n",
       " ATL    224036\n",
       " LAX    163487\n",
       " DEN    138407\n",
       "         ...  \n",
       " ROP        39\n",
       " PFN        15\n",
       " SUN        15\n",
       " EGE        11\n",
       " ABI         2\n",
       " Name: count, Length: 237, dtype: int64,\n",
       " Origin\n",
       " ATL    269397\n",
       " ORD    269128\n",
       " DFW    237924\n",
       " LAX    169847\n",
       " PHX    138558\n",
       "         ...  \n",
       " YAP       139\n",
       " RDM       112\n",
       " GST        86\n",
       " SUN        66\n",
       " PSE        61\n",
       " Name: count, Length: 235, dtype: int64,\n",
       " Origin\n",
       " ORD    263145\n",
       " DFW    243221\n",
       " ATL    188408\n",
       " LAX    156947\n",
       " PHX    137343\n",
       "         ...  \n",
       " CCR       214\n",
       " TTN       154\n",
       " GST        81\n",
       " SPI        28\n",
       " BQN        13\n",
       " Name: count, Length: 233, dtype: int64,\n",
       " Origin\n",
       " ORD    275185\n",
       " DFW    253247\n",
       " ATL    203087\n",
       " LAX    155639\n",
       " DEN    147758\n",
       "         ...  \n",
       " ADQ        85\n",
       " GST        79\n",
       " ANI        43\n",
       " KSM        42\n",
       " MTJ         2\n",
       " Name: count, Length: 233, dtype: int64,\n",
       " Origin\n",
       " ORD    286055\n",
       " DFW    260475\n",
       " ATL    220818\n",
       " DEN    159039\n",
       " LAX    152353\n",
       "         ...  \n",
       " GST        88\n",
       " COD        74\n",
       " LIH        48\n",
       " ACK        19\n",
       " MTJ        11\n",
       " Name: count, Length: 227, dtype: int64,\n",
       " Origin\n",
       " ORD    277741\n",
       " DFW    256274\n",
       " ATL    221486\n",
       " LAX    153494\n",
       " STL    151609\n",
       "         ...  \n",
       " MTJ        18\n",
       " DRO        17\n",
       " SPN         7\n",
       " TWF         6\n",
       " SPI         2\n",
       " Name: count, Length: 224, dtype: int64,\n",
       " Origin\n",
       " ORD    293422\n",
       " DFW    268127\n",
       " ATL    230470\n",
       " LAX    179909\n",
       " STL    174847\n",
       "         ...  \n",
       " MTJ        45\n",
       " ACK        40\n",
       " TWF        23\n",
       " LWB         4\n",
       " LFT         2\n",
       " Name: count, Length: 218, dtype: int64,\n",
       " Origin\n",
       " ORD    296234\n",
       " DFW    249351\n",
       " ATL    241609\n",
       " LAX    184108\n",
       " STL    178507\n",
       "         ...  \n",
       " KSM        64\n",
       " ANI        64\n",
       " MTJ        61\n",
       " SPN        44\n",
       " ACK        25\n",
       " Name: count, Length: 211, dtype: int64,\n",
       " Origin\n",
       " ORD    297490\n",
       " DFW    251115\n",
       " ATL    250222\n",
       " LAX    188094\n",
       " STL    177067\n",
       "         ...  \n",
       " MTJ       156\n",
       " DRO       105\n",
       " GST        90\n",
       " LWB        85\n",
       " ACK        16\n",
       " Name: count, Length: 205, dtype: int64,\n",
       " Origin\n",
       " ORD    294896\n",
       " ATL    255380\n",
       " DFW    244013\n",
       " LAX    184078\n",
       " STL    176030\n",
       "         ...  \n",
       " DRO       110\n",
       " GST       105\n",
       " LWB        76\n",
       " ACK        22\n",
       " MKK         1\n",
       " Name: count, Length: 207, dtype: int64,\n",
       " Origin\n",
       " ORD    298251\n",
       " ATL    263865\n",
       " DFW    245036\n",
       " LAX    191762\n",
       " PHX    177701\n",
       "         ...  \n",
       " DRO       112\n",
       " GST        98\n",
       " BRO        93\n",
       " LWB        81\n",
       " LFT         2\n",
       " Name: count, Length: 205, dtype: int64,\n",
       " Origin\n",
       " ORD    296771\n",
       " ATL    265708\n",
       " DFW    246913\n",
       " LAX    212118\n",
       " PHX    188928\n",
       "         ...  \n",
       " LWB        82\n",
       " BRO        55\n",
       " PIA        18\n",
       " BQN        17\n",
       " LFT         7\n",
       " Name: count, Length: 206, dtype: int64,\n",
       " Origin\n",
       " ORD    341284\n",
       " DFW    312036\n",
       " ATL    251671\n",
       " LAX    224984\n",
       " PHX    184323\n",
       "         ...  \n",
       " MAZ       119\n",
       " GST        91\n",
       " LWB        77\n",
       " RDR        46\n",
       " ACY         1\n",
       " Name: count, Length: 231, dtype: int64,\n",
       " Origin\n",
       " ORD    327388\n",
       " DFW    281299\n",
       " ATL    231928\n",
       " LAX    182401\n",
       " PHX    173942\n",
       "         ...  \n",
       " GST        91\n",
       " MAZ        30\n",
       " ERI        20\n",
       " AGS         3\n",
       " SUX         1\n",
       " Name: count, Length: 218, dtype: int64,\n",
       " Origin\n",
       " ATL    368743\n",
       " ORD    366705\n",
       " DFW    332579\n",
       " LAX    223971\n",
       " IAH    185182\n",
       "         ...  \n",
       " FMN         2\n",
       " BFF         1\n",
       " CYS         1\n",
       " OGD         1\n",
       " SUX         1\n",
       " Name: count, Length: 282, dtype: int64,\n",
       " Origin\n",
       " ATL    418072\n",
       " ORD    376170\n",
       " DFW    344834\n",
       " LAX    232621\n",
       " CVG    208011\n",
       "         ...  \n",
       " CKB         6\n",
       " OGD         4\n",
       " PUB         3\n",
       " PVU         1\n",
       " FMN         1\n",
       " Name: count, Length: 285, dtype: int64,\n",
       " Origin\n",
       " ATL    433678\n",
       " ORD    337708\n",
       " DFW    307678\n",
       " LAX    230864\n",
       " IAH    212013\n",
       "         ...  \n",
       " GST        88\n",
       " CYS         1\n",
       " OGD         1\n",
       " CKB         1\n",
       " PVU         1\n",
       " Name: count, Length: 286, dtype: int64,\n",
       " Origin\n",
       " ATL    407971\n",
       " ORD    373736\n",
       " DFW    301163\n",
       " LAX    233788\n",
       " DEN    232476\n",
       "         ...  \n",
       " OAJ        62\n",
       " TTN        51\n",
       " HKY        42\n",
       " HVN         3\n",
       " CKB         1\n",
       " Name: count, Length: 289, dtype: int64,\n",
       " Origin\n",
       " ATL    413851\n",
       " ORD    375784\n",
       " DFW    297345\n",
       " DEN    240928\n",
       " LAX    237597\n",
       "         ...  \n",
       " EAU        72\n",
       " ISO         9\n",
       " PIR         4\n",
       " GLH         2\n",
       " MKC         1\n",
       " Name: count, Length: 304, dtype: int64,\n",
       " Origin\n",
       " ATL    137014\n",
       " ORD    118008\n",
       " DFW     93041\n",
       " DEN     78384\n",
       " LAX     73480\n",
       "         ...  \n",
       " ADK        34\n",
       " RHI        32\n",
       " TUP        10\n",
       " DLG         2\n",
       " AKN         2\n",
       " Name: count, Length: 291, dtype: int64]"
      ]
     },
     "execution_count": 5,
     "metadata": {},
     "output_type": "execute_result"
    }
   ],
   "source": [
    "#shows daat for total number of flights \n",
    "all_counts"
   ]
  },
  {
   "cell_type": "markdown",
   "id": "b456e57c-4a12-464b-999a-ef2df5af80c1",
   "metadata": {},
   "source": [
    "Markdown notes and sentences and analysis written here."
   ]
  },
  {
   "cell_type": "markdown",
   "id": "fc601975-35ed-4680-a4e1-0273ee3cc047",
   "metadata": {},
   "source": [
    "## Question 2"
   ]
  },
  {
   "cell_type": "code",
   "execution_count": 6,
   "id": "a16336a1-1ef0-41e8-bc7c-49387db27497",
   "metadata": {},
   "outputs": [],
   "source": [
    "# Load airport data\n",
    "airports = pd.read_csv(\"/anvil/projects/tdm/data/flights/subset/airports.csv\")\n",
    "airport_to_state = airports.set_index(\"iata\")[\"state\"]"
   ]
  },
  {
   "cell_type": "code",
   "execution_count": 9,
   "id": "9011094d-5727-4327-9e1b-e18b1c5b2c68",
   "metadata": {},
   "outputs": [],
   "source": [
    "# Map total origin airport flights to states\n",
    "origin_state = total_by_origin.to_frame(\"flights\").join(airport_to_state, how=\"left\")\n",
    "#Groups states\n",
    "state_totals = origin_state.groupby(\"state\")[\"flights\"].sum()"
   ]
  },
  {
   "cell_type": "code",
   "execution_count": 12,
   "id": "6e658797-798a-4ccc-be20-d7b909c695bf",
   "metadata": {},
   "outputs": [],
   "source": [
    "states_map = gpd.read_file(\"/anvil/projects/tdm/data/boundaries/cb_2018_us_state_20m.shp\")\n",
    "#Will get rid of 3 states like in other labs\n",
    "states_map = states_map[~states_map[\"STUSPS\"].isin([\"AK\", \"HI\", \"PR\"])]"
   ]
  },
  {
   "cell_type": "code",
   "execution_count": 13,
   "id": "c0d88a60-24ee-4bba-b1ec-deb8ca536529",
   "metadata": {},
   "outputs": [],
   "source": [
    "states_map = states_map.merge(state_totals.rename(\"flights\"), left_on=\"STUSPS\", right_index=True)"
   ]
  },
  {
   "cell_type": "code",
   "execution_count": 16,
   "id": "7b3a6bf4-634e-4568-a302-18aff14f317f",
   "metadata": {},
   "outputs": [],
   "source": [
    "#will highlight the top 10 states \n",
    "states_map[\"top_10\"] = states_map[\"STUSPS\"].isin(top_10_states.index)"
   ]
  },
  {
   "cell_type": "code",
   "execution_count": 21,
   "id": "8bfb8574-2083-4370-bcea-873ade47b5a2",
   "metadata": {},
   "outputs": [
    {
     "data": {
      "text/plain": [
       "<Axes: >"
      ]
     },
     "execution_count": 21,
     "metadata": {},
     "output_type": "execute_result"
    },
    {
     "data": {
      "image/png": "[encoded data removed]",
      "text/plain": [
       "<Figure size 640x480 with 1 Axes>"
      ]
     },
     "metadata": {},
     "output_type": "display_data"
    }
   ],
   "source": [
    "#This plots it and the column = \"top_10\" highlights the top 10 states\n",
    "states_map.plot(column=\"top_10\")"
   ]
  },
  {
   "cell_type": "markdown",
   "id": "14dc22d4-ddc3-41cc-a91a-cb0025bc0c80",
   "metadata": {},
   "source": [
    "Markdown notes and sentences and analysis written here."
   ]
  },
  {
   "cell_type": "markdown",
   "id": "8e586edd-ff26-4ce2-8f6b-2424b26f2929",
   "metadata": {},
   "source": [
    "## Question 3"
   ]
  },
  {
   "cell_type": "code",
   "execution_count": 41,
   "id": "bbe0f40d-9655-4653-9ca8-886bdb61cb91",
   "metadata": {},
   "outputs": [],
   "source": [
    "# Load airports with coordinates\n",
    "airports = pd.read_csv(\"/anvil/projects/tdm/data/flights/subset/airports.csv\")\n",
    "airports = airports.dropna(subset=[\"lat\", \"long\"])"
   ]
  },
  {
   "cell_type": "code",
   "execution_count": 42,
   "id": "bcabbafa-f491-464b-9585-d3209bd0c5dd",
   "metadata": {},
   "outputs": [],
   "source": [
    "# Converts it to GeoDataFrame \n",
    "gdf_airports = gpd.GeoDataFrame(\n",
    "    airports,\n",
    "    geometry=gpd.points_from_xy(airports[\"long\"], airports[\"lat\"]),\n",
    ")"
   ]
  },
  {
   "cell_type": "code",
   "execution_count": 43,
   "id": "3f553ebd-2162-4479-b4d4-8cf67ae8c530",
   "metadata": {},
   "outputs": [],
   "source": [
    "# Load US map (continental)\n",
    "states = gpd.read_file(\"/anvil/projects/tdm/data/boundaries/cb_2018_us_state_20m.shp\")\n",
    "states = states[~states[\"STUSPS\"].isin([\"AK\", \"HI\", \"PR\"])]"
   ]
  },
  {
   "cell_type": "code",
   "execution_count": 44,
   "id": "1375177b-5581-4b34-b20d-5c350292d1de",
   "metadata": {},
   "outputs": [
    {
     "data": {
      "text/plain": [
       "<Axes: >"
      ]
     },
     "execution_count": 44,
     "metadata": {},
     "output_type": "execute_result"
    },
    {
     "data": {
      "image/png": "[encoded data removed]",
      "text/plain": [
       "<Figure size 640x480 with 1 Axes>"
      ]
     },
     "metadata": {},
     "output_type": "display_data"
    },
    {
     "data": {
      "image/png": "[encoded data removed]",
      "text/plain": [
       "<Figure size 640x480 with 1 Axes>"
      ]
     },
     "metadata": {},
     "output_type": "display_data"
    }
   ],
   "source": [
    "# Plot the 3376 locations will make the map gray and the edgecolor a different color like blue (cause I am bored:))\n",
    "states.plot(color=\"pink\", edgecolor=\"blue\")\n",
    "gdf_airports.plot(markersize=1, color=\"red\")"
   ]
  },
  {
   "cell_type": "markdown",
   "id": "47c6229f-35f7-400c-8366-c442baa5cf47",
   "metadata": {},
   "source": [
    "Markdown notes and sentences and analysis written here."
   ]
  },
  {
   "cell_type": "markdown",
   "id": "da22f29c-d245-4d2b-9fc1-ca14cb6087d9",
   "metadata": {},
   "source": [
    "## Question 4"
   ]
  },
  {
   "cell_type": "code",
   "execution_count": 46,
   "id": "1708f21a-6efe-40be-896f-af29ebaa1e5b",
   "metadata": {},
   "outputs": [
    {
     "ename": "NameError",
     "evalue": "name 'myyear' is not defined",
     "output_type": "error",
     "traceback": [
      "\u001b[0;31m---------------------------------------------------------------------------\u001b[0m",
      "\u001b[0;31mNameError\u001b[0m                                 Traceback (most recent call last)",
      "Cell \u001b[0;32mIn[46], line 2\u001b[0m\n\u001b[1;32m      1\u001b[0m \u001b[38;5;66;03m# Step 2: Define the function using the same format as the TDM 10200 examples I tried using a piazza post but it didn't work and my own it said \u001b[39;00m\n\u001b[0;32m----> 2\u001b[0m myDF \u001b[38;5;241m=\u001b[39m pd\u001b[38;5;241m.\u001b[39mread_csv(\u001b[38;5;124m\"\u001b[39m\u001b[38;5;124m/anvil/projects/tdm/data/election/itcont\u001b[39m\u001b[38;5;124m\"\u001b[39m \u001b[38;5;241m+\u001b[39m \u001b[38;5;28mstr\u001b[39m(\u001b[43mmyyear\u001b[49m) \u001b[38;5;241m+\u001b[39m \u001b[38;5;124m\"\u001b[39m\u001b[38;5;124m.txt\u001b[39m\u001b[38;5;124m\"\u001b[39m, header\u001b[38;5;241m=\u001b[39m\u001b[38;5;28;01mNone\u001b[39;00m, sep\u001b[38;5;241m=\u001b[39m\u001b[38;5;124m'\u001b[39m\u001b[38;5;124m|\u001b[39m\u001b[38;5;124m'\u001b[39m, usecols\u001b[38;5;241m=\u001b[39m[\u001b[38;5;241m9\u001b[39m,\u001b[38;5;241m14\u001b[39m], encoding\u001b[38;5;241m=\u001b[39m\u001b[38;5;124m'\u001b[39m\u001b[38;5;124mWindows-1252\u001b[39m\u001b[38;5;124m'\u001b[39m)\n\u001b[1;32m      3\u001b[0m myDF\u001b[38;5;241m.\u001b[39mcolumns \u001b[38;5;241m=\u001b[39m [\u001b[38;5;124m\"\u001b[39m\u001b[38;5;124mSTATE\u001b[39m\u001b[38;5;124m\"\u001b[39m, \u001b[38;5;124m\"\u001b[39m\u001b[38;5;124mTRANSACTION_AMT\u001b[39m\u001b[38;5;124m\"\u001b[39m]\n",
      "\u001b[0;31mNameError\u001b[0m: name 'myyear' is not defined"
     ]
    }
   ],
   "source": [
    "# Step 2: Define the function using the same format as the TDM 10200 examples I tried using a piazza post but it didn't work and my own it said \n",
    "myDF = pd.read_csv(\"/anvil/projects/tdm/data/election/itcont\" + str(myyear) + \".txt\", header=None, sep='|', usecols=[9,14], encoding='Windows-1252')\n",
    "myDF.columns = [\"STATE\", \"TRANSACTION_AMT\"]"
   ]
  },
  {
   "cell_type": "code",
   "execution_count": null,
   "id": "0285222c-3f39-4e15-8624-b1a9640c6c7d",
   "metadata": {},
   "outputs": [],
   "source": [
    "myresults = list(map(mydonations, range(1980, 2019, 2)))"
   ]
  },
  {
   "cell_type": "markdown",
   "id": "0d552245-b4d6-474a-9cc9-fa7b8e674d55",
   "metadata": {},
   "source": [
    "Markdown notes and sentences and analysis written here."
   ]
  },
  {
   "cell_type": "markdown",
   "id": "88c9cdac-3e92-498f-83fa-e089bfc44ac8",
   "metadata": {},
   "source": [
    "## Question 5"
   ]
  },
  {
   "cell_type": "code",
   "execution_count": null,
   "id": "d370d7c9-06db-42b9-b75f-240481a5c491",
   "metadata": {},
   "outputs": [],
   "source": [
    "# Load US map \n",
    "states_map = gpd.read_file(\"/anvil/projects/tdm/data/boundaries/cb_2018_us_state_20m.shp\")\n",
    "states_map = states_map[~states_map[\"STUSPS\"].isin([\"AK\", \"HI\", \"PR\"])]"
   ]
  },
  {
   "cell_type": "code",
   "execution_count": 21,
   "id": "3991e45e-29f1-4960-938f-1485b62c9f0f",
   "metadata": {},
   "outputs": [
    {
     "ename": "NameError",
     "evalue": "name 'total_donations_by_state' is not defined",
     "output_type": "error",
     "traceback": [
      "\u001b[0;31m---------------------------------------------------------------------------\u001b[0m",
      "\u001b[0;31mNameError\u001b[0m                                 Traceback (most recent call last)",
      "Cell \u001b[0;32mIn[21], line 2\u001b[0m\n\u001b[1;32m      1\u001b[0m \u001b[38;5;66;03m# Merge donations\u001b[39;00m\n\u001b[0;32m----> 2\u001b[0m states_map \u001b[38;5;241m=\u001b[39m states_map\u001b[38;5;241m.\u001b[39mmerge(\u001b[43mtotal_donations_by_state\u001b[49m\u001b[38;5;241m.\u001b[39mrename(\u001b[38;5;124m\"\u001b[39m\u001b[38;5;124mdonations\u001b[39m\u001b[38;5;124m\"\u001b[39m), left_on\u001b[38;5;241m=\u001b[39m\u001b[38;5;124m\"\u001b[39m\u001b[38;5;124mSTUSPS\u001b[39m\u001b[38;5;124m\"\u001b[39m, right_index\u001b[38;5;241m=\u001b[39m\u001b[38;5;28;01mTrue\u001b[39;00m, how\u001b[38;5;241m=\u001b[39m\u001b[38;5;124m\"\u001b[39m\u001b[38;5;124mleft\u001b[39m\u001b[38;5;124m\"\u001b[39m)\n",
      "\u001b[0;31mNameError\u001b[0m: name 'total_donations_by_state' is not defined"
     ]
    }
   ],
   "source": [
    "# Merge donations if it worked for question 4 just trying to get points\n",
    "states_map = states_map.merge(total_donations_by_state.rename(\"donations\"), left_on=\"STUSPS\", right_index=True, how=\"left\")"
   ]
  },
  {
   "cell_type": "code",
   "execution_count": null,
   "id": "a166c277-431a-4c7d-8a80-6b49af0b873e",
   "metadata": {},
   "outputs": [],
   "source": [
    "# Identify top 10\n",
    "states_map[\"top_10\"] = states_map[\"STUSPS\"].isin(top_10_donors.index)"
   ]
  },
  {
   "cell_type": "code",
   "execution_count": null,
   "id": "b5d3ff13-2691-4b71-bb2a-a202b0fde98f",
   "metadata": {},
   "outputs": [],
   "source": [
    "# Plot\n",
    "states_map.plot(ax=ax, column=\"top_10\", edgecolor=\"purple \")"
   ]
  },
  {
   "cell_type": "markdown",
   "id": "9fbf00fb-2418-460f-ae94-2a32b0c28952",
   "metadata": {},
   "source": [
    "Markdown notes and sentences and analysis written here."
   ]
  }
 ],
 "metadata": {
  "kernelspec": {
   "display_name": "seminar",
   "language": "python",
   "name": "python3"
  },
  "language_info": {
   "codemirror_mode": {
    "name": "ipython",
    "version": 3
   },
   "file_extension": ".py",
   "mimetype": "text/x-python",
   "name": "python",
   "nbconvert_exporter": "python",
   "pygments_lexer": "ipython3",
   "version": "3.11.5"
  }
 },
 "nbformat": 4,
 "nbformat_minor": 5
}
