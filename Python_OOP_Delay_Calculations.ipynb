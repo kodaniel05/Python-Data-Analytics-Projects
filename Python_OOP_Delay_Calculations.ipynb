{
 "cells": [
  {
   "cell_type": "markdown",
   "id": "a1228853-dd19-4ab2-89e0-0394d7d72de3",
   "metadata": {},
   "source": [
    "## Learning objectives\n",
    "\n",
    "understand how to define and use Python classes and objects\n",
    "\n",
    "create a Flight class with attributes for flight details and delays\n",
    "\n",
    "implement class methods such as get_arrdelay() and get_depdelay()\n",
    "\n",
    "read and process CSV data with pandas, including selecting specific columns and defining data types\n",
    "\n",
    "instantiate Python class objects from a pandas DataFrame\n",
    "\n",
    "use dictionaries and loops to calculate average delays by origin and destination\n",
    "\n",
    "write reusable functions (arr_avg_delays, dep_avg_delays) that operate on class objects"
   ]
  },
  {
   "cell_type": "markdown",
   "id": "6180e742-8e39-4698-98ff-5b00c8cf8ea0",
   "metadata": {},
   "source": [
    "## Question 1"
   ]
  },
  {
   "cell_type": "code",
   "execution_count": 2,
   "id": "49445606-d363-41b4-b479-e319a9a84c01",
   "metadata": {},
   "outputs": [],
   "source": [
    "#Part a and b\n",
    "class Flight:\n",
    " \n",
    "\n",
    "    def __init__(self, flight_number, origin_airport_ID, destination_airport_ID, departure_time, arrival_time, departure_delay, arrival_delay):\n",
    "        self.flight_number = flight_number\n",
    "        self.origin_airport_ID = origin_airport_ID\n",
    "        self.destination_airport_ID = destination_airport_ID\n",
    "        self.departure_time = departure_time\n",
    "        self.arrival_time = arrival_time\n",
    "        self.departure_delay = departure_delay\n",
    "        self.arrival_delay = arrival_delay\n",
    "\n",
    "    def get_arrdelay(self):\n",
    "        return self.arrival_delay"
   ]
  },
  {
   "cell_type": "markdown",
   "id": "fc601975-35ed-4680-a4e1-0273ee3cc047",
   "metadata": {},
   "source": [
    "## Question 2"
   ]
  },
  {
   "cell_type": "code",
   "execution_count": 3,
   "id": "b296d7f3-2936-4c79-bab6-4a7bf71cf192",
   "metadata": {},
   "outputs": [],
   "source": [
    "import pandas as pd"
   ]
  },
  {
   "cell_type": "code",
   "execution_count": 4,
   "id": "4405fa42-83c0-4763-a0ce-3f2e6a791a3e",
   "metadata": {},
   "outputs": [],
   "source": [
    "columns_to_read = [\n",
    "    'DepDelay', 'ArrDelay', 'Flight_Number_Reporting_Airline', 'Distance',\n",
    "    'CarrierDelay', 'WeatherDelay',\n",
    "    'DepTime', 'ArrTime', 'Origin',\n",
    "    'Dest', 'AirTime'\n",
    "]"
   ]
  },
  {
   "cell_type": "code",
   "execution_count": 9,
   "id": "b3347066-147c-462c-8c73-751a16147421",
   "metadata": {},
   "outputs": [],
   "source": [
    "dtypes = {\n",
    "    'Flight_Number_Reporting_Airline': 'int',\n",
    "    'Origin': 'object',\n",
    "    'Dest': 'object',\n",
    "    'DepTime': 'float64',\n",
    "    'ArrTime': 'float64',\n",
    "    'DepDelay': 'float64',\n",
    "    'ArrDelay': 'float64',\n",
    "    'Distance': 'float64',\n",
    "    'CarrierDelay': 'float64',\n",
    "    'WeatherDelay': 'float64',\n",
    "}"
   ]
  },
  {
   "cell_type": "code",
   "execution_count": 32,
   "id": "a16336a1-1ef0-41e8-bc7c-49387db27497",
   "metadata": {},
   "outputs": [],
   "source": [
    "# Part a\n",
    "myDF = pd.read_csv(\"/anvil/projects/tdm/data/flights/2014.csv\", usecols=columns_to_read, dtype=dtypes, nrows=100)"
   ]
  },
  {
   "cell_type": "code",
   "execution_count": 7,
   "id": "da307421-8a62-4d82-8234-e23b4d65c41a",
   "metadata": {},
   "outputs": [
    {
     "data": {
      "text/html": [
       "<div>\n",
       "<style scoped>\n",
       "    .dataframe tbody tr th:only-of-type {\n",
       "        vertical-align: middle;\n",
       "    }\n",
       "\n",
       "    .dataframe tbody tr th {\n",
       "        vertical-align: top;\n",
       "    }\n",
       "\n",
       "    .dataframe thead th {\n",
       "        text-align: right;\n",
       "    }\n",
       "</style>\n",
       "<table border=\"1\" class=\"dataframe\">\n",
       "  <thead>\n",
       "    <tr style=\"text-align: right;\">\n",
       "      <th></th>\n",
       "      <th>Flight_Number_Reporting_Airline</th>\n",
       "      <th>Origin</th>\n",
       "      <th>Dest</th>\n",
       "      <th>DepTime</th>\n",
       "      <th>DepDelay</th>\n",
       "      <th>ArrTime</th>\n",
       "      <th>ArrDelay</th>\n",
       "      <th>AirTime</th>\n",
       "      <th>Distance</th>\n",
       "      <th>CarrierDelay</th>\n",
       "      <th>WeatherDelay</th>\n",
       "    </tr>\n",
       "  </thead>\n",
       "  <tbody>\n",
       "    <tr>\n",
       "      <th>0</th>\n",
       "      <td>2377</td>\n",
       "      <td>DFW</td>\n",
       "      <td>ICT</td>\n",
       "      <td>935</td>\n",
       "      <td>-5.0</td>\n",
       "      <td>1051</td>\n",
       "      <td>-4.0</td>\n",
       "      <td>56.0</td>\n",
       "      <td>328.0</td>\n",
       "      <td>NaN</td>\n",
       "      <td>NaN</td>\n",
       "    </tr>\n",
       "    <tr>\n",
       "      <th>1</th>\n",
       "      <td>2377</td>\n",
       "      <td>DFW</td>\n",
       "      <td>ICT</td>\n",
       "      <td>951</td>\n",
       "      <td>11.0</td>\n",
       "      <td>1115</td>\n",
       "      <td>20.0</td>\n",
       "      <td>54.0</td>\n",
       "      <td>328.0</td>\n",
       "      <td>11.0</td>\n",
       "      <td>0.0</td>\n",
       "    </tr>\n",
       "    <tr>\n",
       "      <th>2</th>\n",
       "      <td>2377</td>\n",
       "      <td>ICT</td>\n",
       "      <td>DFW</td>\n",
       "      <td>1144</td>\n",
       "      <td>9.0</td>\n",
       "      <td>1302</td>\n",
       "      <td>2.0</td>\n",
       "      <td>57.0</td>\n",
       "      <td>328.0</td>\n",
       "      <td>NaN</td>\n",
       "      <td>NaN</td>\n",
       "    </tr>\n",
       "    <tr>\n",
       "      <th>3</th>\n",
       "      <td>2377</td>\n",
       "      <td>ICT</td>\n",
       "      <td>DFW</td>\n",
       "      <td>1134</td>\n",
       "      <td>-1.0</td>\n",
       "      <td>1253</td>\n",
       "      <td>-7.0</td>\n",
       "      <td>53.0</td>\n",
       "      <td>328.0</td>\n",
       "      <td>NaN</td>\n",
       "      <td>NaN</td>\n",
       "    </tr>\n",
       "    <tr>\n",
       "      <th>4</th>\n",
       "      <td>2377</td>\n",
       "      <td>ICT</td>\n",
       "      <td>DFW</td>\n",
       "      <td>1129</td>\n",
       "      <td>-6.0</td>\n",
       "      <td>1244</td>\n",
       "      <td>-16.0</td>\n",
       "      <td>52.0</td>\n",
       "      <td>328.0</td>\n",
       "      <td>NaN</td>\n",
       "      <td>NaN</td>\n",
       "    </tr>\n",
       "  </tbody>\n",
       "</table>\n",
       "</div>"
      ],
      "text/plain": [
       "   Flight_Number_Reporting_Airline Origin Dest  DepTime  DepDelay  ArrTime  \\\n",
       "0                             2377    DFW  ICT      935      -5.0     1051   \n",
       "1                             2377    DFW  ICT      951      11.0     1115   \n",
       "2                             2377    ICT  DFW     1144       9.0     1302   \n",
       "3                             2377    ICT  DFW     1134      -1.0     1253   \n",
       "4                             2377    ICT  DFW     1129      -6.0     1244   \n",
       "\n",
       "   ArrDelay  AirTime  Distance  CarrierDelay  WeatherDelay  \n",
       "0      -4.0     56.0     328.0           NaN           NaN  \n",
       "1      20.0     54.0     328.0          11.0           0.0  \n",
       "2       2.0     57.0     328.0           NaN           NaN  \n",
       "3      -7.0     53.0     328.0           NaN           NaN  \n",
       "4     -16.0     52.0     328.0           NaN           NaN  "
      ]
     },
     "execution_count": 7,
     "metadata": {},
     "output_type": "execute_result"
    }
   ],
   "source": [
    "myDF.head()"
   ]
  },
  {
   "cell_type": "code",
   "execution_count": 14,
   "id": "78a4c812-649d-42ae-8c81-836c4c58fab9",
   "metadata": {},
   "outputs": [],
   "source": [
    "long_list_off_flights = []\n",
    "for index, row in myDF.iterrows():\n",
    "    myFlights = Flight (\n",
    "        flight_number = row['Flight_Number_Reporting_Airline'],\n",
    "        origin_airport_ID = row['Origin'],\n",
    "        destination_airport_ID = row['Dest'],\n",
    "        departure_time = row['DepTime'],\n",
    "        arrival_time = row['ArrTime'],\n",
    "        departure_delay = row['DepDelay'],\n",
    "        arrival_delay = row['ArrDelay'],\n",
    "    )\n",
    "    long_list_off_flights.append(myFlights)"
   ]
  },
  {
   "cell_type": "code",
   "execution_count": 15,
   "id": "40bc1894-14e4-41c0-923f-e34dcb467893",
   "metadata": {},
   "outputs": [
    {
     "data": {
      "text/plain": [
       "100"
      ]
     },
     "execution_count": 15,
     "metadata": {},
     "output_type": "execute_result"
    }
   ],
   "source": [
    "len(long_list_off_flights)"
   ]
  },
  {
   "cell_type": "markdown",
   "id": "8e586edd-ff26-4ce2-8f6b-2424b26f2929",
   "metadata": {},
   "source": [
    "## Question 3"
   ]
  },
  {
   "cell_type": "code",
   "execution_count": 17,
   "id": "bbe0f40d-9655-4653-9ca8-886bdb61cb91",
   "metadata": {},
   "outputs": [],
   "source": [
    "# Part a\n",
    "delays_dest = {}\n",
    "for myFlights in long_list_off_flights:\n",
    "    if myFlights.destination_airport_ID not in delays_dest:\n",
    "        delays_dest[myFlights.destination_airport_ID] = []\n",
    "    delays_dest[myFlights.destination_airport_ID].append(myFlights.get_arrdelay())"
   ]
  },
  {
   "cell_type": "code",
   "execution_count": 18,
   "id": "26b4200d-fed3-47b3-a715-63afa67c756d",
   "metadata": {},
   "outputs": [
    {
     "data": {
      "text/plain": [
       "{'ICT': [-4.0, 20.0],\n",
       " 'DFW': [2.0,\n",
       "  -7.0,\n",
       "  -16.0,\n",
       "  1.0,\n",
       "  9.0,\n",
       "  30.0,\n",
       "  27.0,\n",
       "  8.0,\n",
       "  91.0,\n",
       "  -3.0,\n",
       "  -13.0,\n",
       "  21.0,\n",
       "  -2.0,\n",
       "  -6.0,\n",
       "  -16.0,\n",
       "  37.0,\n",
       "  19.0,\n",
       "  -17.0,\n",
       "  -11.0,\n",
       "  5.0,\n",
       "  34.0,\n",
       "  -2.0,\n",
       "  -3.0,\n",
       "  -2.0,\n",
       "  -26.0,\n",
       "  -17.0,\n",
       "  -14.0,\n",
       "  -7.0,\n",
       "  15.0,\n",
       "  -19.0,\n",
       "  25.0],\n",
       " 'TPA': [-10.0,\n",
       "  57.0,\n",
       "  -1.0,\n",
       "  53.0,\n",
       "  83.0,\n",
       "  34.0,\n",
       "  -15.0,\n",
       "  12.0,\n",
       "  16.0,\n",
       "  -11.0,\n",
       "  2.0,\n",
       "  -11.0,\n",
       "  -4.0,\n",
       "  -7.0,\n",
       "  -14.0,\n",
       "  -10.0,\n",
       "  34.0,\n",
       "  -10.0,\n",
       "  -5.0,\n",
       "  -13.0],\n",
       " 'OGG': [-65.0, -52.0, -18.0, -17.0, -44.0, -42.0, -39.0, 0.0],\n",
       " 'SJC': [-12.0, -16.0, -3.0],\n",
       " 'KOA': [-34.0, -42.0, -46.0, -36.0],\n",
       " 'SMF': [-8.0],\n",
       " 'SEA': [-16.0, 4.0, 4.0, -3.0, -38.0, -20.0, -19.0, -15.0, -30.0],\n",
       " 'PDX': [-32.0, -21.0, -22.0],\n",
       " 'OAK': [-14.0, -21.0],\n",
       " 'HNL': [-52.0, -23.0, -36.0, -29.0, -36.0, -8.0, -17.0],\n",
       " 'SAN': [8.0, -21.0, -23.0],\n",
       " 'ANC': [-27.0, -27.0],\n",
       " 'LIH': [-58.0, -24.0],\n",
       " 'BLI': [-18.0],\n",
       " 'DCA': [-21.0, -23.0]}"
      ]
     },
     "execution_count": 18,
     "metadata": {},
     "output_type": "execute_result"
    }
   ],
   "source": [
    "delays_dest"
   ]
  },
  {
   "cell_type": "code",
   "execution_count": 19,
   "id": "a4815562-736e-490e-84dc-628acc680623",
   "metadata": {},
   "outputs": [],
   "source": [
    "# Part b\n",
    "average_delays = {myairport: sum(mydelays)/len(mydelays) for myairport, mydelays in delays_dest.items()}"
   ]
  },
  {
   "cell_type": "code",
   "execution_count": 20,
   "id": "aeaf3885-11c2-434a-9201-4476137444e3",
   "metadata": {},
   "outputs": [
    {
     "data": {
      "text/plain": [
       "{'ICT': 8.0,\n",
       " 'DFW': 4.612903225806452,\n",
       " 'TPA': 9.0,\n",
       " 'OGG': -34.625,\n",
       " 'SJC': -10.333333333333334,\n",
       " 'KOA': -39.5,\n",
       " 'SMF': -8.0,\n",
       " 'SEA': -14.777777777777779,\n",
       " 'PDX': -25.0,\n",
       " 'OAK': -17.5,\n",
       " 'HNL': -28.714285714285715,\n",
       " 'SAN': -12.0,\n",
       " 'ANC': -27.0,\n",
       " 'LIH': -41.0,\n",
       " 'BLI': -18.0,\n",
       " 'DCA': -22.0}"
      ]
     },
     "execution_count": 20,
     "metadata": {},
     "output_type": "execute_result"
    }
   ],
   "source": [
    "average_delays"
   ]
  },
  {
   "cell_type": "markdown",
   "id": "47c6229f-35f7-400c-8366-c442baa5cf47",
   "metadata": {},
   "source": [
    "Markdown notes and sentences and analysis written here."
   ]
  },
  {
   "cell_type": "markdown",
   "id": "da22f29c-d245-4d2b-9fc1-ca14cb6087d9",
   "metadata": {},
   "source": [
    "## Question 4"
   ]
  },
  {
   "cell_type": "code",
   "execution_count": 21,
   "id": "8cffc767-d1c8-4d64-b7dc-f0d2ee8a80d1",
   "metadata": {},
   "outputs": [],
   "source": [
    "# Part a\n",
    "def arr_avg_delays(myflightlist):\n",
    "    \"\"\"\n",
    "    Calculate the average arrival delay for each destination airport in a list of flights.\n",
    "\n",
    "    Args:\n",
    "    myflightlist (list): A list of flight objects.\n",
    "\n",
    "    Returns:\n",
    "    dict: A dictionary where keys are destination airport IDs and values are the average arrival delays for those airports.\n",
    "    \"\"\"\n",
    "    delays_dest = {}\n",
    "    for myFlights in myflightlist:\n",
    "        if myFlights.destination_airport_ID not in delays_dest:\n",
    "            delays_dest[myFlights.destination_airport_ID] = []\n",
    "        delays_dest[myFlights.destination_airport_ID].append(myFlights.get_arrdelay())\n",
    "    average_delays = {myairport: sum(mydelays)/len(mydelays) for myairport, mydelays in delays_dest.items()}\n",
    "    return average_delays"
   ]
  },
  {
   "cell_type": "code",
   "execution_count": 24,
   "id": "6d4df607-ce03-4c31-bf9a-719aa52a105a",
   "metadata": {},
   "outputs": [
    {
     "data": {
      "text/plain": [
       "{'ICT': 8.0,\n",
       " 'DFW': 4.612903225806452,\n",
       " 'TPA': 9.0,\n",
       " 'OGG': -34.625,\n",
       " 'SJC': -10.333333333333334,\n",
       " 'KOA': -39.5,\n",
       " 'SMF': -8.0,\n",
       " 'SEA': -14.777777777777779,\n",
       " 'PDX': -25.0,\n",
       " 'OAK': -17.5,\n",
       " 'HNL': -28.714285714285715,\n",
       " 'SAN': -12.0,\n",
       " 'ANC': -27.0,\n",
       " 'LIH': -41.0,\n",
       " 'BLI': -18.0,\n",
       " 'DCA': -22.0}"
      ]
     },
     "execution_count": 24,
     "metadata": {},
     "output_type": "execute_result"
    }
   ],
   "source": [
    "# Part b\n",
    "arr_avg_delays(long_list_off_flights)"
   ]
  },
  {
   "cell_type": "markdown",
   "id": "88c9cdac-3e92-498f-83fa-e089bfc44ac8",
   "metadata": {},
   "source": [
    "## Question 5"
   ]
  },
  {
   "cell_type": "code",
   "execution_count": 25,
   "id": "d370d7c9-06db-42b9-b75f-240481a5c491",
   "metadata": {},
   "outputs": [],
   "source": [
    "# Part a\n",
    "class Flight:\n",
    " \n",
    "\n",
    "    def __init__(self, flight_number, origin_airport_ID, destination_airport_ID, departure_time, arrival_time, departure_delay, arrival_delay):\n",
    "        self.flight_number = flight_number\n",
    "        self.origin_airport_ID = origin_airport_ID\n",
    "        self.destination_airport_ID = destination_airport_ID\n",
    "        self.departure_time = departure_time\n",
    "        self.arrival_time = arrival_time\n",
    "        self.departure_delay = departure_delay\n",
    "        self.arrival_delay = arrival_delay\n",
    "\n",
    "    def get_arrdelay(self):\n",
    "        return self.arrival_delay\n",
    "    \n",
    "    def get_depdelay(self):\n",
    "        return self.departure_delay"
   ]
  },
  {
   "cell_type": "code",
   "execution_count": 26,
   "id": "8af5bb54-08bb-4e81-aac1-034e316bbaff",
   "metadata": {},
   "outputs": [],
   "source": [
    "# Part b\n",
    "def dep_avg_delays(myflightlist):\n",
    "    \"\"\"\n",
    "    Calculate the average arrival delay for each destination airport in a list of flights.\n",
    "\n",
    "    Args:\n",
    "    myflightlist (list): A list of flight objects.\n",
    "\n",
    "    Returns:\n",
    "    dict: A dictionary where keys are destination airport IDs and values are the average arrival delays for those airports.\n",
    "    \"\"\"\n",
    "    delays_orgin = {}\n",
    "    for myFlights in myflightlist:\n",
    "        if myFlights.origin_airport_ID not in delays_orgin:\n",
    "            delays_orgin[myFlights.origin_airport_ID] = []\n",
    "        delays_orgin[myFlights.origin_airport_ID].append(myFlights.get_depdelay())\n",
    "    average_delays = {myairport: sum(mydelays)/len(mydelays) for myairport, mydelays in delays_orgin.items()}\n",
    "    return average_delays"
   ]
  },
  {
   "cell_type": "code",
   "execution_count": 28,
   "id": "5749dcf0-9968-4d4c-8114-fe153e17480e",
   "metadata": {},
   "outputs": [],
   "source": [
    "long_list_off_flights = []\n",
    "for index, row in myDF.iterrows():\n",
    "    myFlights = Flight (\n",
    "        flight_number = row['Flight_Number_Reporting_Airline'],\n",
    "        origin_airport_ID = row['Origin'],\n",
    "        destination_airport_ID = row['Dest'],\n",
    "        departure_time = row['DepTime'],\n",
    "        arrival_time = row['ArrTime'],\n",
    "        departure_delay = row['DepDelay'],\n",
    "        arrival_delay = row['ArrDelay'],\n",
    "    )\n",
    "    long_list_off_flights.append(myFlights)"
   ]
  },
  {
   "cell_type": "code",
   "execution_count": 29,
   "id": "9a804b17-c48e-4244-ace9-9a40da7d54a3",
   "metadata": {},
   "outputs": [
    {
     "data": {
      "text/plain": [
       "{'DFW': 3.0,\n",
       " 'ICT': 10.612903225806452,\n",
       " 'MIA': 15.05,\n",
       " 'BLI': -10.5,\n",
       " 'PDX': -9.75,\n",
       " 'OGG': -5.777777777777778,\n",
       " 'OAK': -7.0,\n",
       " 'SMF': -9.0,\n",
       " 'KOA': -13.5,\n",
       " 'HNL': -6.285714285714286,\n",
       " 'SJC': -4.0,\n",
       " 'SEA': -2.6666666666666665,\n",
       " 'SAN': -4.0,\n",
       " 'LIH': -8.0,\n",
       " 'ANC': -9.0,\n",
       " 'DCA': -7.5}"
      ]
     },
     "execution_count": 29,
     "metadata": {},
     "output_type": "execute_result"
    }
   ],
   "source": [
    "#Part c\n",
    "dep_avg_delays(long_list_off_flights)"
   ]
  }
 ],
 "metadata": {
  "kernelspec": {
   "display_name": "seminar",
   "language": "python",
   "name": "seminar"
  },
  "language_info": {
   "codemirror_mode": {
    "name": "ipython",
    "version": 3
   },
   "file_extension": ".py",
   "mimetype": "text/x-python",
   "name": "python",
   "nbconvert_exporter": "python",
   "pygments_lexer": "ipython3",
   "version": "3.11.5"
  }
 },
 "nbformat": 4,
 "nbformat_minor": 5
}
