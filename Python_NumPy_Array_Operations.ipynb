{
 "cells": [
  {
   "cell_type": "markdown",
   "id": "a1228853-dd19-4ab2-89e0-0394d7d72de3",
   "metadata": {},
   "source": [
    "## Learning objectives\n",
    "\n",
    "read and load selected columns from a large CSV with pandas and define column data types\n",
    "\n",
    "convert pandas columns into NumPy arrays for numerical analysis\n",
    "\n",
    "apply NumPy methods such as mean(), nan_to_num(), to_numpy(), and array broadcasting\n",
    "\n",
    "calculate summary statistics (min, max, average) using NumPy arrays\n",
    "\n",
    "compare performance of pandas vs NumPy for filtering and aggregation tasks\n",
    "\n",
    "measure execution time of operations to evaluate efficiency\n",
    "\n",
    "practice using NumPy for high-performance computing in data analysis"
   ]
  },
  {
   "cell_type": "code",
   "execution_count": 54,
   "id": "c10b9871-8eb3-43fe-b1e2-847263370db8",
   "metadata": {},
   "outputs": [],
   "source": [
    "import pandas as pd"
   ]
  },
  {
   "cell_type": "code",
   "execution_count": 55,
   "id": "c43ef92f-feeb-4098-8cde-405d4030427c",
   "metadata": {},
   "outputs": [],
   "source": [
    "pd.set_option(\"display.max_column\", None)"
   ]
  },
  {
   "cell_type": "markdown",
   "id": "6180e742-8e39-4698-98ff-5b00c8cf8ea0",
   "metadata": {},
   "source": [
    "## Question 1"
   ]
  },
  {
   "cell_type": "code",
   "execution_count": 6,
   "id": "49445606-d363-41b4-b479-e319a9a84c01",
   "metadata": {},
   "outputs": [],
   "source": [
    "# Part a\n",
    "cols = [\n",
    "    'DepDelay', 'ArrDelay', 'Distance',\n",
    "    'CarrierDelay', 'WeatherDelay',\n",
    "    'DepTime', 'ArrTime', 'Diverted', 'AirTime'\n",
    "]"
   ]
  },
  {
   "cell_type": "code",
   "execution_count": 7,
   "id": "6dc62b38-e5b0-48d8-addd-b2d8030578a4",
   "metadata": {},
   "outputs": [],
   "source": [
    "col_types = {\n",
    "    'DepDelay': 'float64',\n",
    "    'ArrDelay': 'float64',\n",
    "    'Distance': 'float64',\n",
    "    'CarrierDelay': 'float64',\n",
    "    'WeatherDelay': 'float64',\n",
    "    'DepTime': 'float64',\n",
    "    'ArrTime': 'float64',\n",
    "    'Diverted': 'int64',\n",
    "    'AirTime': 'float64'\n",
    "}"
   ]
  },
  {
   "cell_type": "code",
   "execution_count": 8,
   "id": "81bd7334-489c-4015-9c40-7fbc093efc75",
   "metadata": {},
   "outputs": [],
   "source": [
    "myDF = pd.read_csv(\"/anvil/projects/tdm/data/flights/2014.csv\", usecols = cols, dtype = col_types)"
   ]
  },
  {
   "cell_type": "code",
   "execution_count": 9,
   "id": "4da6f853-e1f9-4e34-acff-1cc87546f096",
   "metadata": {},
   "outputs": [
    {
     "data": {
      "text/html": [
       "<div>\n",
       "<style scoped>\n",
       "    .dataframe tbody tr th:only-of-type {\n",
       "        vertical-align: middle;\n",
       "    }\n",
       "\n",
       "    .dataframe tbody tr th {\n",
       "        vertical-align: top;\n",
       "    }\n",
       "\n",
       "    .dataframe thead th {\n",
       "        text-align: right;\n",
       "    }\n",
       "</style>\n",
       "<table border=\"1\" class=\"dataframe\">\n",
       "  <thead>\n",
       "    <tr style=\"text-align: right;\">\n",
       "      <th></th>\n",
       "      <th>DepTime</th>\n",
       "      <th>DepDelay</th>\n",
       "      <th>ArrTime</th>\n",
       "      <th>ArrDelay</th>\n",
       "      <th>Diverted</th>\n",
       "      <th>AirTime</th>\n",
       "      <th>Distance</th>\n",
       "      <th>CarrierDelay</th>\n",
       "      <th>WeatherDelay</th>\n",
       "    </tr>\n",
       "  </thead>\n",
       "  <tbody>\n",
       "    <tr>\n",
       "      <th>0</th>\n",
       "      <td>935.0</td>\n",
       "      <td>-5.0</td>\n",
       "      <td>1051.0</td>\n",
       "      <td>-4.0</td>\n",
       "      <td>0</td>\n",
       "      <td>56.0</td>\n",
       "      <td>328.0</td>\n",
       "      <td>NaN</td>\n",
       "      <td>NaN</td>\n",
       "    </tr>\n",
       "    <tr>\n",
       "      <th>1</th>\n",
       "      <td>951.0</td>\n",
       "      <td>11.0</td>\n",
       "      <td>1115.0</td>\n",
       "      <td>20.0</td>\n",
       "      <td>0</td>\n",
       "      <td>54.0</td>\n",
       "      <td>328.0</td>\n",
       "      <td>11.0</td>\n",
       "      <td>0.0</td>\n",
       "    </tr>\n",
       "    <tr>\n",
       "      <th>2</th>\n",
       "      <td>1144.0</td>\n",
       "      <td>9.0</td>\n",
       "      <td>1302.0</td>\n",
       "      <td>2.0</td>\n",
       "      <td>0</td>\n",
       "      <td>57.0</td>\n",
       "      <td>328.0</td>\n",
       "      <td>NaN</td>\n",
       "      <td>NaN</td>\n",
       "    </tr>\n",
       "    <tr>\n",
       "      <th>3</th>\n",
       "      <td>1134.0</td>\n",
       "      <td>-1.0</td>\n",
       "      <td>1253.0</td>\n",
       "      <td>-7.0</td>\n",
       "      <td>0</td>\n",
       "      <td>53.0</td>\n",
       "      <td>328.0</td>\n",
       "      <td>NaN</td>\n",
       "      <td>NaN</td>\n",
       "    </tr>\n",
       "    <tr>\n",
       "      <th>4</th>\n",
       "      <td>1129.0</td>\n",
       "      <td>-6.0</td>\n",
       "      <td>1244.0</td>\n",
       "      <td>-16.0</td>\n",
       "      <td>0</td>\n",
       "      <td>52.0</td>\n",
       "      <td>328.0</td>\n",
       "      <td>NaN</td>\n",
       "      <td>NaN</td>\n",
       "    </tr>\n",
       "  </tbody>\n",
       "</table>\n",
       "</div>"
      ],
      "text/plain": [
       "   DepTime  DepDelay  ArrTime  ArrDelay  Diverted  AirTime  Distance  \\\n",
       "0    935.0      -5.0   1051.0      -4.0         0     56.0     328.0   \n",
       "1    951.0      11.0   1115.0      20.0         0     54.0     328.0   \n",
       "2   1144.0       9.0   1302.0       2.0         0     57.0     328.0   \n",
       "3   1134.0      -1.0   1253.0      -7.0         0     53.0     328.0   \n",
       "4   1129.0      -6.0   1244.0     -16.0         0     52.0     328.0   \n",
       "\n",
       "   CarrierDelay  WeatherDelay  \n",
       "0           NaN           NaN  \n",
       "1          11.0           0.0  \n",
       "2           NaN           NaN  \n",
       "3           NaN           NaN  \n",
       "4           NaN           NaN  "
      ]
     },
     "execution_count": 9,
     "metadata": {},
     "output_type": "execute_result"
    }
   ],
   "source": [
    "myDF.head()"
   ]
  },
  {
   "cell_type": "markdown",
   "id": "b456e57c-4a12-464b-999a-ef2df5af80c1",
   "metadata": {},
   "source": [
    "Markdown notes and sentences and analysis written here."
   ]
  },
  {
   "cell_type": "markdown",
   "id": "fc601975-35ed-4680-a4e1-0273ee3cc047",
   "metadata": {},
   "source": [
    "## Question 2"
   ]
  },
  {
   "cell_type": "code",
   "execution_count": 11,
   "id": "3a527c12-7ff9-42cf-b4fb-568c38ea996f",
   "metadata": {},
   "outputs": [],
   "source": [
    "import numpy as np"
   ]
  },
  {
   "cell_type": "code",
   "execution_count": 12,
   "id": "a16336a1-1ef0-41e8-bc7c-49387db27497",
   "metadata": {},
   "outputs": [],
   "source": [
    "# Part a\n",
    "myDelays = myDF['DepDelay'].to_numpy()"
   ]
  },
  {
   "cell_type": "code",
   "execution_count": 15,
   "id": "a04e4c3c-5d4a-49ec-9a9e-516d093c8416",
   "metadata": {},
   "outputs": [
    {
     "name": "stdout",
     "output_type": "stream",
     "text": [
      "The shape of my numpy array is (5819811,)  and the type is: float64\n"
     ]
    }
   ],
   "source": [
    "# Part b\n",
    "print(\"The shape of my numpy array is\",myDelays.shape,\" and the type is:\", myDelays.dtype) "
   ]
  },
  {
   "cell_type": "code",
   "execution_count": 20,
   "id": "83f351a6-2b45-48c5-ba51-061f7082325a",
   "metadata": {},
   "outputs": [],
   "source": [
    "# Part c\n",
    "my_clean_myDelays = np.nan_to_num(myDelays, nan = 0)"
   ]
  },
  {
   "cell_type": "code",
   "execution_count": 21,
   "id": "9350db51-cc21-4daf-9675-105693f729eb",
   "metadata": {},
   "outputs": [],
   "source": [
    "# Part d\n",
    "myLargerValue = my_clean_myDelays + 15"
   ]
  },
  {
   "cell_type": "code",
   "execution_count": 30,
   "id": "e06a3afc-7b7a-4127-9076-f669a76d4f14",
   "metadata": {},
   "outputs": [],
   "source": [
    "before = np.mean(my_clean_myDelays)"
   ]
  },
  {
   "cell_type": "code",
   "execution_count": 29,
   "id": "f3505e94-e079-460b-9ab8-d85b897b02a4",
   "metadata": {},
   "outputs": [],
   "source": [
    "after = np.mean(myLargerValue)"
   ]
  },
  {
   "cell_type": "code",
   "execution_count": 36,
   "id": "1d8a11ef-f4e2-4b2a-9911-1b5cf0a6fb50",
   "metadata": {},
   "outputs": [
    {
     "name": "stdout",
     "output_type": "stream",
     "text": [
      "The avergae Departure Delay before adding 15 minutes is: 10.417677824932802 \n",
      " The average Departure Delay after adding 15 minutes is: 25.417677824932802\n"
     ]
    }
   ],
   "source": [
    "print(\"The avergae Departure Delay before adding 15 minutes is:\",(before),\"\\n\",\"The average Departure Delay after adding 15 minutes is:\",(after))"
   ]
  },
  {
   "cell_type": "markdown",
   "id": "14dc22d4-ddc3-41cc-a91a-cb0025bc0c80",
   "metadata": {},
   "source": [
    "Markdown notes and sentences and analysis written here."
   ]
  },
  {
   "cell_type": "markdown",
   "id": "8e586edd-ff26-4ce2-8f6b-2424b26f2929",
   "metadata": {},
   "source": [
    "## Question 3"
   ]
  },
  {
   "cell_type": "code",
   "execution_count": 41,
   "id": "bbe0f40d-9655-4653-9ca8-886bdb61cb91",
   "metadata": {},
   "outputs": [],
   "source": [
    "# Part a\n",
    "Max = np.max(my_clean_myDelays)"
   ]
  },
  {
   "cell_type": "code",
   "execution_count": 42,
   "id": "91577d8e-b374-43d0-9cb2-a061ceeb0abb",
   "metadata": {},
   "outputs": [],
   "source": [
    "Min = np.min(my_clean_myDelays)"
   ]
  },
  {
   "cell_type": "code",
   "execution_count": 48,
   "id": "7d763b34-c016-4de9-9237-daaa692224f0",
   "metadata": {},
   "outputs": [
    {
     "name": "stdout",
     "output_type": "stream",
     "text": [
      "Max Arrival Delay: 2402.0 mintues\n",
      " Min Arrival Delay: -251.0 minutes\n"
     ]
    }
   ],
   "source": [
    "print(\"Max Arrival Delay:\",(Max),\"mintues\\n\",\"Min Arrival Delay:\",(Min),\"minutes\")"
   ]
  },
  {
   "cell_type": "markdown",
   "id": "47c6229f-35f7-400c-8366-c442baa5cf47",
   "metadata": {},
   "source": [
    "Markdown notes and sentences and analysis written here."
   ]
  },
  {
   "cell_type": "markdown",
   "id": "da22f29c-d245-4d2b-9fc1-ca14cb6087d9",
   "metadata": {},
   "source": [
    "## Question 4"
   ]
  },
  {
   "cell_type": "code",
   "execution_count": 49,
   "id": "4192373a-c933-4f3d-9d72-0c8e07900bbf",
   "metadata": {},
   "outputs": [],
   "source": [
    "import time"
   ]
  },
  {
   "cell_type": "code",
   "execution_count": 58,
   "id": "8cffc767-d1c8-4d64-b7dc-f0d2ee8a80d1",
   "metadata": {},
   "outputs": [
    {
     "name": "stdout",
     "output_type": "stream",
     "text": [
      "The average overall score for flights is 793.1002773092284\n",
      "Used time is 0.032134294509887695\n"
     ]
    }
   ],
   "source": [
    "# Part a b c \n",
    "start_time = time.time()\n",
    "\n",
    "delayed_flights = myDF[(myDF['DepDelay'] > 60) | (myDF['ArrDelay'] > 60)]\n",
    "\n",
    "my_average_overall_time = delayed_flights['Distance'].mean()\n",
    "\n",
    "print(f\"The average overall score for flights is {my_average_overall_time}\")\n",
    "\n",
    "end_time = time.time()\n",
    "print(f\"Used time is {end_time - start_time}\")"
   ]
  },
  {
   "cell_type": "markdown",
   "id": "0d552245-b4d6-474a-9cc9-fa7b8e674d55",
   "metadata": {},
   "source": [
    "Markdown notes and sentences and analysis written here."
   ]
  },
  {
   "cell_type": "markdown",
   "id": "88c9cdac-3e92-498f-83fa-e089bfc44ac8",
   "metadata": {},
   "source": [
    "## Question 5"
   ]
  },
  {
   "cell_type": "code",
   "execution_count": 59,
   "id": "d370d7c9-06db-42b9-b75f-240481a5c491",
   "metadata": {},
   "outputs": [
    {
     "name": "stdout",
     "output_type": "stream",
     "text": [
      "The average overall score for flights is 793.1002773092284\n",
      "Used time is 0.01387476921081543\n"
     ]
    }
   ],
   "source": [
    "# Part a b c \n",
    "start_time = time.time()\n",
    "myDepDelayArray = myDF['DepDelay'].to_numpy()\n",
    "myArrDelayArray = myDF['ArrDelay'].to_numpy()\n",
    "myOverallArray = myDF['Distance'].to_numpy()\n",
    "\n",
    "my_Filtered_overall_Scores = myOverallArray[(myDepDelayArray > 60) | (myArrDelayArray > 60)]\n",
    "\n",
    "my_average_overall_score_numpy = np.mean(my_Filtered_overall_Scores)\n",
    "\n",
    "print(f\"The average overall score for flights is {my_average_overall_score_numpy}\")\n",
    "\n",
    "end_time = time.time()\n",
    "print(f\"Used time is {end_time - start_time}\")"
   ]
  },
  {
   "cell_type": "markdown",
   "id": "9fbf00fb-2418-460f-ae94-2a32b0c28952",
   "metadata": {},
   "source": [
    "Part D:\n",
    "This program takes 0.0139 to run the program while the other one takes 0.0321 seconds to run therefore making Numpy the faster runtime code"
   ]
  },
  {
   "cell_type": "markdown",
   "id": "84b3be8e-8524-41bc-affb-63cf462ca1ac",
   "metadata": {},
   "source": [
    "Part E: \n",
    "As stated in Part D, Numpy is around two times faster to run then Pandas which means numpy is faster and more efficient. This makes me believe that Numpy is more for math since all of these were about finding math while Pandas is maybe for finding more data."
   ]
  }
 ],
 "metadata": {
  "kernelspec": {
   "display_name": "seminar",
   "language": "python",
   "name": "seminar"
  },
  "language_info": {
   "codemirror_mode": {
    "name": "ipython",
    "version": 3
   },
   "file_extension": ".py",
   "mimetype": "text/x-python",
   "name": "python",
   "nbconvert_exporter": "python",
   "pygments_lexer": "ipython3",
   "version": "3.11.5"
  }
 },
 "nbformat": 4,
 "nbformat_minor": 5
}
